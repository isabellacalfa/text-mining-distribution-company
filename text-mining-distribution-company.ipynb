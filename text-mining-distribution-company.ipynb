{
 "cells": [
  {
   "cell_type": "markdown",
   "metadata": {},
   "source": [
    "# Exploração de Texto nos *tweets* que citam a Neoenergia Coelba"
   ]
  },
  {
   "cell_type": "markdown",
   "metadata": {},
   "source": [
    "## Bibliotecas"
   ]
  },
  {
   "cell_type": "code",
   "execution_count": 1,
   "metadata": {},
   "outputs": [
    {
     "name": "stderr",
     "output_type": "stream",
     "text": [
      "[nltk_data] Downloading package stopwords to C:\\Users\\Isabella\n",
      "[nltk_data]     Calfa\\AppData\\Roaming\\nltk_data...\n",
      "[nltk_data]   Package stopwords is already up-to-date!\n"
     ]
    }
   ],
   "source": [
    "import os\n",
    "from collections import Counter\n",
    "\n",
    "# Tratamento de dados:\n",
    "import numpy as np\n",
    "import pandas as pd\n",
    "import ast\n",
    "from pandas.io.json import json_normalize\n",
    "import json\n",
    "\n",
    "# Visualização dos gráficos:\n",
    "import seaborn as sns\n",
    "import matplotlib.pyplot as plt\n",
    "import matplotlib.dates as mdates\n",
    "import matplotlib.ticker as ticker\n",
    "\n",
    "# Mineração de texto:\n",
    "\n",
    "## Corpus:\n",
    "import nltk\n",
    "nltk.download('stopwords')\n",
    "from nltk.corpus import stopwords\n",
    "from nltk.tokenize import RegexpTokenizer\n",
    "\n",
    "## Nuvem de palavras:\n",
    "from wordcloud import WordCloud, ImageColorGenerator\n",
    "\n",
    "## Distribuição de frequências:\n",
    "from nltk.tokenize import word_tokenize\n",
    "from nltk.probability import FreqDist\n",
    "\n",
    "## N-Gramas:\n",
    "from nltk.util import ngrams \n",
    "from collections import Counter\n",
    "import functools\n",
    "\n",
    "# Análise de Sentimentos:\n",
    "\n",
    "## Modelos:\n",
    "from sklearn.naive_bayes import MultinomialNB\n",
    "from sklearn.linear_model import LogisticRegression\n",
    "from sklearn.ensemble import RandomForestClassifier\n",
    "from sklearn.svm import SVC\n",
    "\n",
    "# Métricas:\n",
    "from sklearn import metrics\n",
    "from sklearn.model_selection import cross_val_predict, train_test_split, cross_val_score, GridSearchCV, KFold, RepeatedStratifiedKFold\n",
    "from sklearn.feature_extraction.text import TfidfVectorizer, TfidfTransformer\n",
    "from sklearn.feature_extraction.text import CountVectorizer\n",
    "from sklearn.pipeline import Pipeline\n",
    "\n",
    "# Modelagem de Tópicos:\n",
    "import gensim\n",
    "import gensim.corpora as corpora\n",
    "from gensim.utils import simple_preprocess\n",
    "from gensim.models import CoherenceModel"
   ]
  },
  {
   "cell_type": "markdown",
   "metadata": {},
   "source": [
    "## Definições de Projeto"
   ]
  },
  {
   "cell_type": "code",
   "execution_count": 2,
   "metadata": {},
   "outputs": [],
   "source": [
    "# Salvamento de imagens:\n",
    "PROJECT_ROOT_DIR = \".\"\n",
    "IMAGES_PATH = os.path.join(PROJECT_ROOT_DIR, \"imagens\")\n",
    "os.makedirs(IMAGES_PATH, exist_ok=True)"
   ]
  },
  {
   "cell_type": "code",
   "execution_count": 3,
   "metadata": {},
   "outputs": [],
   "source": [
    "# Stopwords\n",
    "stop_words=stopwords.words('portuguese')\n",
    "new_stopwords=['neoenergia','coelba','rt','aqui','viu','tudo','pq','pra','dm','app','site','whatsapp','link','quase','todo',\n",
    "'pode','vou','vai','veio','ter','alguma','fez','sobre','vem','deu','via','através','voce','sabia','notif','sao','ate','https'] # avaliar: sms, nunca, hora\n",
    "stop_words.extend(new_stopwords)"
   ]
  },
  {
   "cell_type": "markdown",
   "metadata": {},
   "source": [
    "## Carga dos Tweets"
   ]
  },
  {
   "cell_type": "code",
   "execution_count": 4,
   "metadata": {},
   "outputs": [],
   "source": [
    "# Leitura do Arquivo:\n",
    "df = pd.read_csv('apoio/coelba.csv')"
   ]
  },
  {
   "cell_type": "code",
   "execution_count": 5,
   "metadata": {},
   "outputs": [],
   "source": [
    "# Conversão de campos:\n",
    "df['created_at'] = pd.to_datetime(df['created_at'])\n",
    "df['created_at']=df['created_at'].dt.tz_convert('America/Fortaleza').dt.tz_localize(None) #Remover timezone"
   ]
  },
  {
   "cell_type": "code",
   "execution_count": 6,
   "metadata": {},
   "outputs": [],
   "source": [
    "# Inclusão de campos:\n",
    "\n",
    "## Tamanho do tweet:\n",
    "df['len'] = df['text'].str.replace('\\n','')\n",
    "df['len'] = df['len'].str.len()\n",
    "df['word_count'] = df['text'].str.count(' ') + 1\n",
    "\n",
    "## Função para transformar json em coluna:\n",
    "def expand(chosen_column, join_id_column, desired_column_name, space):\n",
    "    dictionary = []\n",
    "    for i,k in zip(chosen_column,join_id_column):\n",
    "        if i:\n",
    "            if space == True:\n",
    "                i = i.replace(\" \", \"\")\n",
    "            i = json.loads(i)\n",
    "            dict1 = {desired_column_name: k }\n",
    "            new_dict = {**dict1, **i}\n",
    "            dictionary.append(new_dict)\n",
    "    return pd.DataFrame(dictionary)\n",
    "\n",
    "## Localização:\n",
    "geo_list = df[df['geo'].notnull()]['geo'].tolist()\n",
    "id_list = df[df['geo'].notnull()]['id'].tolist()\n",
    "df_geo = expand(geo_list,id_list,'id_tweet',False)\n",
    "df_geo=df_geo.rename(columns={'id':'id_loc','id_tweet':'id','geo':'coords','name':'city_name'})\n",
    "df=df.merge(df_geo, how='left', on='id')\n",
    "\n",
    "\n",
    "## Hashtags:\n",
    "def find_tags(row_string):\n",
    "    tags = [x for x in row_string if x.startswith('#')]\n",
    "    return tags\n",
    "\n",
    "df['tags'] = df['text'].str.replace('\\n#',' #')\n",
    "df['tags'] = df['tags'].str.split(' ')\n",
    "df['tags'] = df['tags'].apply(lambda row : find_tags(row))\n",
    "df['tags'] = df['tags'].apply(lambda x : str(x).replace('#', '').replace('\\\\n', ',').replace('\\\\', '').replace(\"'\", \"\"))\n",
    "\n",
    "## Usuários mencionados:\n",
    "def find_users(row_string):\n",
    "    tags = [x for x in row_string if x.startswith('@')]\n",
    "    return tags\n",
    "\n",
    "df['users'] = df['text'].str.replace('\\n@',' @')\n",
    "df['users'] = df['users'].str.split(' ')\n",
    "df['users'] = df['users'].apply(lambda row : find_users(row))\n",
    "df['users'] = df['users'].apply(lambda x : str(x).replace('@', '').replace('\\\\n', ',').replace('\\\\', '').replace(\"'\", \"\"))"
   ]
  },
  {
   "cell_type": "code",
   "execution_count": 7,
   "metadata": {},
   "outputs": [],
   "source": [
    "# Exclusão de campos desnecessários\n",
    "df = df.drop(columns={'id_loc','place_type','country_code','in_reply_to_user_id','referenced_tweets'})"
   ]
  },
  {
   "cell_type": "code",
   "execution_count": 32,
   "metadata": {},
   "outputs": [
    {
     "name": "stdout",
     "output_type": "stream",
     "text": [
      "<class 'pandas.core.frame.DataFrame'>\n",
      "Int64Index: 13559 entries, 0 to 13558\n",
      "Data columns (total 17 columns):\n",
      " #   Column      Non-Null Count  Dtype         \n",
      "---  ------      --------------  -----         \n",
      " 0   id          13559 non-null  int64         \n",
      " 1   text        13559 non-null  object        \n",
      " 2   created_at  13559 non-null  datetime64[ns]\n",
      " 3   author_id   13559 non-null  int64         \n",
      " 4   lang        13559 non-null  object        \n",
      " 5   author      13559 non-null  object        \n",
      " 6   entities    10323 non-null  object        \n",
      " 7   media       1302 non-null   object        \n",
      " 8   geo         313 non-null    object        \n",
      " 9   len         13559 non-null  int64         \n",
      " 10  word_count  13559 non-null  int64         \n",
      " 11  coords      313 non-null    object        \n",
      " 12  country     313 non-null    object        \n",
      " 13  full_name   313 non-null    object        \n",
      " 14  city_name   313 non-null    object        \n",
      " 15  tags        13559 non-null  object        \n",
      " 16  users       13559 non-null  object        \n",
      "dtypes: datetime64[ns](1), int64(4), object(12)\n",
      "memory usage: 1.2+ MB\n"
     ]
    }
   ],
   "source": [
    "# Dados do df:\n",
    "df.info()"
   ]
  },
  {
   "cell_type": "code",
   "execution_count": 33,
   "metadata": {},
   "outputs": [
    {
     "data": {
      "text/html": [
       "<div>\n",
       "<style scoped>\n",
       "    .dataframe tbody tr th:only-of-type {\n",
       "        vertical-align: middle;\n",
       "    }\n",
       "\n",
       "    .dataframe tbody tr th {\n",
       "        vertical-align: top;\n",
       "    }\n",
       "\n",
       "    .dataframe thead th {\n",
       "        text-align: right;\n",
       "    }\n",
       "</style>\n",
       "<table border=\"1\" class=\"dataframe\">\n",
       "  <thead>\n",
       "    <tr style=\"text-align: right;\">\n",
       "      <th></th>\n",
       "      <th>id</th>\n",
       "      <th>author_id</th>\n",
       "      <th>len</th>\n",
       "      <th>word_count</th>\n",
       "    </tr>\n",
       "  </thead>\n",
       "  <tbody>\n",
       "    <tr>\n",
       "      <th>count</th>\n",
       "      <td>1.355900e+04</td>\n",
       "      <td>1.355900e+04</td>\n",
       "      <td>13559.000000</td>\n",
       "      <td>13559.000000</td>\n",
       "    </tr>\n",
       "    <tr>\n",
       "      <th>mean</th>\n",
       "      <td>1.450918e+18</td>\n",
       "      <td>5.814911e+17</td>\n",
       "      <td>123.674976</td>\n",
       "      <td>19.812154</td>\n",
       "    </tr>\n",
       "    <tr>\n",
       "      <th>std</th>\n",
       "      <td>5.967558e+16</td>\n",
       "      <td>5.959562e+17</td>\n",
       "      <td>76.143267</td>\n",
       "      <td>12.562617</td>\n",
       "    </tr>\n",
       "    <tr>\n",
       "      <th>min</th>\n",
       "      <td>1.344862e+18</td>\n",
       "      <td>3.493611e+06</td>\n",
       "      <td>6.000000</td>\n",
       "      <td>1.000000</td>\n",
       "    </tr>\n",
       "    <tr>\n",
       "      <th>25%</th>\n",
       "      <td>1.397706e+18</td>\n",
       "      <td>3.888347e+08</td>\n",
       "      <td>65.000000</td>\n",
       "      <td>10.000000</td>\n",
       "    </tr>\n",
       "    <tr>\n",
       "      <th>50%</th>\n",
       "      <td>1.457846e+18</td>\n",
       "      <td>7.066754e+17</td>\n",
       "      <td>110.000000</td>\n",
       "      <td>17.000000</td>\n",
       "    </tr>\n",
       "    <tr>\n",
       "      <th>75%</th>\n",
       "      <td>1.495771e+18</td>\n",
       "      <td>1.192869e+18</td>\n",
       "      <td>152.000000</td>\n",
       "      <td>25.000000</td>\n",
       "    </tr>\n",
       "    <tr>\n",
       "      <th>max</th>\n",
       "      <td>1.563293e+18</td>\n",
       "      <td>1.555890e+18</td>\n",
       "      <td>428.000000</td>\n",
       "      <td>81.000000</td>\n",
       "    </tr>\n",
       "  </tbody>\n",
       "</table>\n",
       "</div>"
      ],
      "text/plain": [
       "                 id     author_id           len    word_count\n",
       "count  1.355900e+04  1.355900e+04  13559.000000  13559.000000\n",
       "mean   1.450918e+18  5.814911e+17    123.674976     19.812154\n",
       "std    5.967558e+16  5.959562e+17     76.143267     12.562617\n",
       "min    1.344862e+18  3.493611e+06      6.000000      1.000000\n",
       "25%    1.397706e+18  3.888347e+08     65.000000     10.000000\n",
       "50%    1.457846e+18  7.066754e+17    110.000000     17.000000\n",
       "75%    1.495771e+18  1.192869e+18    152.000000     25.000000\n",
       "max    1.563293e+18  1.555890e+18    428.000000     81.000000"
      ]
     },
     "execution_count": 33,
     "metadata": {},
     "output_type": "execute_result"
    }
   ],
   "source": [
    "df.describe()"
   ]
  },
  {
   "cell_type": "code",
   "execution_count": 8,
   "metadata": {},
   "outputs": [],
   "source": [
    "# Remoção de usuário (ver sessão de autores):\n",
    "df = df[df['author_id'] != 2873781071]"
   ]
  },
  {
   "cell_type": "code",
   "execution_count": 9,
   "metadata": {},
   "outputs": [],
   "source": [
    "# Pré processamento dos Tweets para Mineração de Texto:\n",
    "df['text_process'] = df['text'].astype(str).str.lower() \n",
    "df['tag_process']=df['tags'].astype(str).str.lower() \n",
    "df['user_process']=df['users'].astype(str).str.lower() \n",
    "\n",
    "# Remover acentos:\n",
    "df['text_process']=df['text_process'].str.normalize('NFKD').str.encode('ascii', errors='ignore').str.decode('utf-8')\n",
    "df['tag_process']=df['tag_process'].str.normalize('NFKD').str.encode('ascii', errors='ignore').str.decode('utf-8')\n",
    "df['user_process']=df['user_process'].str.normalize('NFKD').str.encode('ascii', errors='ignore').str.decode('utf-8')\n",
    "\n",
    "# Remover urls:\n",
    "df['text_process']=df['text_process'].replace(to_replace=r'http\\S+|www\\S+|https\\S+', regex=True, value='')\n",
    "\n",
    "# Remover @ e #:\n",
    "df['text_process']=df['text_process'].replace(to_replace=r'\\@\\w+|\\#', regex=True, value='')\n",
    "\n",
    "# Transformar palavras:\n",
    "df['text_process']=df['text_process'].replace(to_replace='coelb ', value='coelba')\n",
    "df['text_process']=df['text_process'].replace(to_replace='notif ', value='notifica')\n",
    "df['user_process']=df['user_process'].replace(to_replace=' ', value='')\n",
    "\n",
    "# Selecionar apenas palavras e números:\n",
    "regexp = RegexpTokenizer('\\w+')\n",
    "df['text_token']=df['text_process'].apply(regexp.tokenize)\n",
    "df['tag_token']=df['tag_process'].apply(regexp.tokenize)\n",
    "df['user_token']=df['user_process'].apply(regexp.tokenize)\n",
    "\n",
    "# Stopwords:\n",
    "df['text_token'] = df['text_token'].apply(lambda x: [item for item in x if item not in stop_words])\n",
    "df['tag_token'] = df['tag_token'].apply(lambda x: [item for item in x if item not in stop_words])\n",
    "df['user_token'] = df['user_token'].apply(lambda x: [item for item in x if item not in stop_words])\n",
    "\n",
    "# Remoção de palavras pouco frequentes (-2x):\n",
    "df['text_token'] = df['text_token'].apply(lambda x: ' '.join([item for item in x if len(item)>2]))\n",
    "df['tag_token'] = df['tag_token'].apply(lambda x: ' '.join([item for item in x if len(item)>0]))\n",
    "df['user_token'] = df['user_token'].apply(lambda x: ' '.join([item for item in x if len(item)>0]))"
   ]
  },
  {
   "cell_type": "code",
   "execution_count": 10,
   "metadata": {},
   "outputs": [],
   "source": [
    "# Lista de palavras, usuários e hashtags\n",
    "\n",
    "## Palavras:\n",
    "all_words=''\n",
    "all_words = ' '.join([word for word in df['text_token']])\n",
    "\n",
    "## Tags:\n",
    "all_tags=''\n",
    "all_tags = ' '.join([tag for tag in df['tag_token']])\n",
    "\n",
    "## Usuários:\n",
    "all_users=''\n",
    "all_users = ' '.join([user for user in df['user_token']])"
   ]
  },
  {
   "cell_type": "markdown",
   "metadata": {},
   "source": [
    "## Exploração dos Tweets"
   ]
  },
  {
   "cell_type": "markdown",
   "metadata": {},
   "source": [
    "### Autores"
   ]
  },
  {
   "cell_type": "code",
   "execution_count": null,
   "metadata": {},
   "outputs": [],
   "source": [
    "# Criação do DataFrame de autores:\n",
    "df_autores=pd.DataFrame(df.groupby(by='author_id')['id'].count()).reset_index(level=0)\n",
    "df_autores.describe()"
   ]
  },
  {
   "cell_type": "code",
   "execution_count": null,
   "metadata": {},
   "outputs": [],
   "source": [
    "# Identificando e removendo o usuário da empresa:\n",
    "#df_autores[df_autores['id'] > 100] # Identificar autores que falam muito\n",
    "#df_autores = df_autores[df_autores['author_id'] != 2873781071]"
   ]
  },
  {
   "cell_type": "code",
   "execution_count": null,
   "metadata": {},
   "outputs": [],
   "source": [
    "# DataFrame para quantidade de usuários por Tweet:\n",
    "df_autores_tweets=pd.DataFrame(df_autores.groupby(by='id')['author_id'].count()).reset_index(level=0)\n",
    "df_autores_tweets.head()"
   ]
  },
  {
   "cell_type": "code",
   "execution_count": null,
   "metadata": {},
   "outputs": [],
   "source": [
    "# Divisão dos autores:\n",
    "## Todos os autores:\n",
    "plt.subplots(figsize=(15, 7))\n",
    "ax=sns.barplot(data=df_autores_tweets, x='id', y='author_id', color='gray')\n",
    "sns.despine(left=True,bottom=False)\n",
    "ax.axes.yaxis.set_ticklabels([])\n",
    "ax.set_xlabel('Qtd. Tweets', fontsize=14)\n",
    "ax.set_ylabel('Qtd. Usuários', fontsize=14)\n",
    "ax.set_title('Tweets por usuário', fontsize=16)\n",
    "sns.set_style('darkgrid')\n",
    "for container in ax.containers:\n",
    "    ax.bar_label(container, labels=[f'{x:,.0f}' for x in container.datavalues], fontsize=12)\n",
    "plt.savefig(os.path.join(IMAGES_PATH, 'autores.png'), bbox_inches='tight', pad_inches = 0)\n",
    "## Com mais de uma postagem:\n",
    "plt.subplots(figsize=(15, 7))\n",
    "ax=sns.histplot(data=df_autores_tweets[df_autores_tweets['id'] > 3], x='id', color='gray')\n",
    "sns.despine(left=True,bottom=False)\n",
    "ax.set(xlabel='Qtd. Tweets', ylabel='Qtd. Usuários', title='Usuários com mais de 3 tweets')\n",
    "ax.axes.yaxis.set_ticklabels([])\n",
    "for container in ax.containers:\n",
    "    ax.bar_label(container, labels=[f'{x:,.0f}' for x in container.datavalues])\n",
    "plt.savefig(os.path.join(IMAGES_PATH, 'maiores-autores.png'))"
   ]
  },
  {
   "cell_type": "code",
   "execution_count": null,
   "metadata": {},
   "outputs": [],
   "source": [
    "df_autores.sort_values(by='id', ascending=False).head()"
   ]
  },
  {
   "cell_type": "code",
   "execution_count": null,
   "metadata": {},
   "outputs": [],
   "source": [
    "df[df['author_id']== 1000490236881797121][['text','created_at','city_name']].head(80)"
   ]
  },
  {
   "cell_type": "markdown",
   "metadata": {},
   "source": [
    "### Datas"
   ]
  },
  {
   "cell_type": "code",
   "execution_count": null,
   "metadata": {},
   "outputs": [],
   "source": [
    "# Df tweets dia:\n",
    "df_tt = df[['text','created_at','id']]\n",
    "df_tt['dt'] = df_tt['created_at'].dt.date\n",
    "df_tt_resumo=pd.DataFrame(df.groupby(by=df_tt['dt'])['id'].count()).reset_index()\n",
    "plt.subplots(figsize=(15, 7))\n",
    "sns.set_style('darkgrid')\n",
    "ax=sns.lineplot(data=df_tt_resumo, x='dt', y='id', color='gray')\n",
    "ax.set_xlabel('Dia', fontsize=14)\n",
    "ax.set_ylabel('Qtd. Tweets', fontsize=14)\n",
    "ax.set_title('Tweets gerados por dia', fontsize=16)\n",
    "plt.savefig(os.path.join(IMAGES_PATH, 'tweets-dia.png'), bbox_inches='tight', pad_inches = 0)"
   ]
  },
  {
   "cell_type": "code",
   "execution_count": null,
   "metadata": {},
   "outputs": [],
   "source": [
    "\n",
    "df_tt['dt'] =  pd.to_datetime(df_tt['dt'])\n",
    "df_tt_resumo.sort_values(by='id',ascending=False).head()"
   ]
  },
  {
   "cell_type": "code",
   "execution_count": null,
   "metadata": {},
   "outputs": [],
   "source": [
    "df_tt[df_tt['dt'] == '2021-09-26'].head(15)"
   ]
  },
  {
   "cell_type": "code",
   "execution_count": null,
   "metadata": {},
   "outputs": [],
   "source": [
    "# Tweets x Dia da Semana:\n",
    "df_weekday=pd.DataFrame({'weekday':[0,1,2,3,4,5,6], 'name':['Segunda-Feira','Terça-Feira','Quarta-Feira','Quinta-Feira','Sexta-Feira','Sábado','Domingo']})\n",
    "df_dt=pd.DataFrame(df.groupby(by=df['created_at'].dt.dayofweek)['id'].count()).reset_index(level=0).rename(columns={'created_at':'weekday','id':'qtd'})\n",
    "df_dt=pd.merge(df_dt, df_weekday, how='left', on='weekday')\n",
    "plt.subplots(figsize=(15, 7))\n",
    "sns.set_style('darkgrid')\n",
    "ax=sns.lineplot(data=df_dt, x='name', y='qtd', color='gray')\n",
    "ax.set(ylim=(0,2200))\n",
    "ax.set_xlabel('Dia da semana', fontsize=14)\n",
    "ax.set_ylabel('Qtd. Tweets', fontsize=14)\n",
    "ax.set_title('Tweets gerados por dia da semana', fontsize=16)\n",
    "plt.savefig(os.path.join(IMAGES_PATH, 'dia-da-semana.png'), bbox_inches='tight', pad_inches = 0)\n"
   ]
  },
  {
   "cell_type": "code",
   "execution_count": null,
   "metadata": {},
   "outputs": [],
   "source": [
    "# Tweets x Hora do Dia\n",
    "df_dt=pd.DataFrame(df.groupby(by=df['created_at'].dt.hour)['id'].count()).reset_index(level=0).rename(columns={'created_at':'hour','id':'qtd'})\n",
    "plt.subplots(figsize=(15, 7))\n",
    "sns.set_style('darkgrid')\n",
    "ax=sns.barplot(data=df_dt, x='hour', y='qtd', color='gray')\n",
    "ax.set_xlabel('Hora do dia', fontsize=14)\n",
    "ax.set_ylabel('Qtd. Tweets', fontsize=14)\n",
    "ax.set_title('Tweets gerados por hora do dia', fontsize=16)\n",
    "sns.despine(left=True,bottom=False)\n",
    "ax.axes.yaxis.set_ticklabels([])\n",
    "for container in ax.containers:\n",
    "    ax.bar_label(container, labels=[f'{x:,.0f}' for x in container.datavalues])\n",
    "plt.savefig(os.path.join(IMAGES_PATH, 'hora-do-dia.png'), bbox_inches='tight', pad_inches = 0)\n",
    "plt.show()"
   ]
  },
  {
   "cell_type": "code",
   "execution_count": null,
   "metadata": {},
   "outputs": [],
   "source": [
    "# Tamanho dos tweets x hora do dia\n",
    "df_dt=df[['created_at','len']].reset_index(level=0)\n",
    "df_dt['hour']=df_dt['created_at'].dt.hour\n",
    "plt.subplots(figsize=(15, 7))\n",
    "sns.set_style('darkgrid')\n",
    "ax=sns.boxplot(x='hour', y='len', data=df_dt, color='gray')\n",
    "ax.set(xlabel='Hora do dia', ylabel='Tamanho dos tweets gerados', title='Tamanho dos tweets gerados por hora do dia')\n",
    "plt.savefig(os.path.join(IMAGES_PATH, 'hora-do-dia-tamanho-tweet.png'))\n",
    "plt.show()\n"
   ]
  },
  {
   "cell_type": "code",
   "execution_count": null,
   "metadata": {},
   "outputs": [],
   "source": [
    "# Quantidade de palavras x hora do dia\n",
    "df_dt=df[['created_at','word_count']].reset_index(level=0)\n",
    "df_dt['hour']=df_dt['created_at'].dt.hour\n",
    "plt.subplots(figsize=(15, 7))\n",
    "sns.set_style('darkgrid')\n",
    "ax=sns.boxplot(x='hour', y='word_count', data=df_dt, color='gray')\n",
    "ax.set(xlabel='Hora do dia', ylabel='Qtd. de palavras no tweet', title='Quantidade de palavras no tweet por hora do dia')\n",
    "plt.savefig(os.path.join(IMAGES_PATH, 'hora-do-dia-qtd-palavras.png'))\n",
    "plt.show()\n"
   ]
  },
  {
   "cell_type": "code",
   "execution_count": null,
   "metadata": {},
   "outputs": [],
   "source": [
    "pd.set_option('display.max_colwidth', None)\n",
    "df[(df['created_at'].dt.hour == 13) & (df['word_count'] > 60)][['text', 'author_id', 'word_count']]"
   ]
  },
  {
   "cell_type": "code",
   "execution_count": null,
   "metadata": {},
   "outputs": [],
   "source": [
    "# Tweets por dia do mês\n",
    "df_dt=df[['created_at','id']].reset_index(level=0)\n",
    "df_dt['day']=df_dt['created_at'].dt.day\n",
    "df_dt=pd.DataFrame(df.groupby(by=df['created_at'].dt.day)['id'].count()).reset_index(level=0).rename(columns={'created_at':'day','id':'qtd'})\n",
    "plt.subplots(figsize=(15, 7))\n",
    "sns.set_style('darkgrid')\n",
    "ax=sns.barplot(data=df_dt, x='day', y='qtd', color='gray')\n",
    "ax.set_xlabel('Dia do mês', fontsize=14)\n",
    "ax.set_ylabel('Qtd. Tweets', fontsize=14)\n",
    "ax.set_title('Tweets gerados por dia do mês', fontsize=16)\n",
    "for container in ax.containers:\n",
    "    ax.bar_label(container, labels=[f'{x:,.0f}' for x in container.datavalues])\n",
    "sns.despine(left=True,bottom=False)\n",
    "plt.savefig(os.path.join(IMAGES_PATH, 'dia-do-mes.png'), bbox_inches='tight', pad_inches = 0)\n",
    "plt.show()"
   ]
  },
  {
   "cell_type": "code",
   "execution_count": null,
   "metadata": {},
   "outputs": [],
   "source": [
    "pd.set_option('display.max_colwidth', None)\n",
    "df[df['created_at'].dt.day == 12][['text', 'author_id', 'word_count']].head(30)"
   ]
  },
  {
   "cell_type": "code",
   "execution_count": null,
   "metadata": {},
   "outputs": [],
   "source": [
    "# Evolução dos Tweets por dia e hora na semana:\n",
    "df_dt=df\n",
    "df_dt['hour']=df['created_at'].dt.hour\n",
    "df_dt['weekday']=df['created_at'].dt.weekday\n",
    "df_dt=pd.DataFrame(df_dt.groupby([df_dt['hour'], df_dt['weekday']])['id'].count()).reset_index()\n",
    "df_dt=pd.merge(df_dt, df_weekday, how='left', on='weekday')\n",
    "df_dt['day_hour']=df_dt['name'].astype(str) + ' ' + df_dt['hour'].astype(str) + 'h'\n",
    "## Plotagem do gráfico\n",
    "config={'color': ['gray']}\n",
    "col_order=['Segunda-Feira','Terça-Feira','Quarta-Feira','Quinta-Feira','Sexta-Feira','Sábado','Domingo']\n",
    "sns.set_style('darkgrid')\n",
    "ax = sns.FacetGrid(df_dt, col='name', col_wrap=3, height=3, col_order=col_order, aspect=1, hue_kws=config)\n",
    "ax.map(sns.lineplot, 'hour', 'id')\n",
    "ax.set_titles(col_template='{col_name}')\n",
    "ax.set_axis_labels(x_var='Hora da postagem', y_var='Qtd. Tweets gerados')\n",
    "ax.set(xticks=[0,2,4,6,8,10,12,14,16,18,20,23])\n",
    "ax.savefig(os.path.join(IMAGES_PATH, 'dia-hora-da-semana.png'), bbox_inches='tight', pad_inches = 0)"
   ]
  },
  {
   "cell_type": "code",
   "execution_count": null,
   "metadata": {},
   "outputs": [],
   "source": [
    "pd.set_option('display.max_colwidth', None)\n",
    "df[(df['created_at'].dt.dayofweek == 5) & (df['created_at'].dt.hour == 13)][['text', 'author_id', 'word_count']].head(25)"
   ]
  },
  {
   "cell_type": "markdown",
   "metadata": {},
   "source": [
    "### Autores x Datas"
   ]
  },
  {
   "cell_type": "code",
   "execution_count": null,
   "metadata": {},
   "outputs": [],
   "source": [
    "# Exploração dos usuários que postam entre 21h e 3h\n",
    "df_madrugada=df[(df['created_at'].dt.hour > 21) | (df['created_at'].dt.hour < 3)][['author_id','text','created_at','id','city_name']]\n",
    "df_autores_madrugada=pd.DataFrame(df_madrugada.groupby(by='author_id')['id'].count()).reset_index(level=0)\n",
    "df_autores_madrugada['id'].describe()"
   ]
  },
  {
   "cell_type": "code",
   "execution_count": null,
   "metadata": {},
   "outputs": [],
   "source": [
    "# Principais autores que postam na madrugada:\n",
    "df_autores_madrugada[df_autores_madrugada['id'] > 9].sort_values(by='id',ascending=False)\n",
    "# 1000490236881797121 - Consumidor\n",
    "# 827290961252384770 - Consumidor"
   ]
  },
  {
   "cell_type": "code",
   "execution_count": null,
   "metadata": {},
   "outputs": [],
   "source": [
    "df_madrugada[df_madrugada['author_id']== 1000490236881797121] "
   ]
  },
  {
   "cell_type": "markdown",
   "metadata": {},
   "source": [
    "### Localização"
   ]
  },
  {
   "cell_type": "code",
   "execution_count": null,
   "metadata": {},
   "outputs": [],
   "source": [
    "# Tweets x Município\n",
    "df_loc=pd.DataFrame(df.groupby(by=df['city_name'])['id'].count()).reset_index(level=0).sort_values(by='id', ascending=False)\n",
    "df_loc['perc']=(df_loc['id']/df_loc['id'].sum())*100\n",
    "\n",
    "## Valores brutos:\n",
    "plt.subplots(figsize=(15, 7))\n",
    "sns.set_style('darkgrid')\n",
    "ax=sns.barplot(data=df_loc[df_loc['id'] > 1], x='id', y='city_name', color='gray')\n",
    "sns.despine(left=True,bottom=False)\n",
    "ax.set(xlabel='Qtd. Tweets gerados', ylabel='Municípios', title='Tweets gerados por município (> 1 tweet)')\n",
    "for container in ax.containers:\n",
    "    ax.bar_label(container, labels=[f'{x:,.0f}' for x in container.datavalues])\n",
    "plt.savefig(os.path.join(IMAGES_PATH, 'locais-tweets.png'))\n",
    "plt.show()\n",
    "\n",
    "## Valores relativos:\n",
    "plt.subplots(figsize=(15, 7))\n",
    "sns.set_style('darkgrid')\n",
    "ax=sns.barplot(data=df_loc[df_loc['perc'] > 0.5], x='perc', y='city_name', color='gray')\n",
    "sns.despine(left=True,bottom=False)\n",
    "ax.set(xlabel='% Tweets gerados', ylabel='Municípios', title='Tweets gerados por município (%)')\n",
    "for container in ax.containers:\n",
    "    ax.bar_label(container, labels=[f'{x:,.1f}' for x in container.datavalues])\n",
    "plt.savefig(os.path.join(IMAGES_PATH, 'locais-tweets-perc.png'))\n",
    "plt.show()"
   ]
  },
  {
   "cell_type": "code",
   "execution_count": null,
   "metadata": {},
   "outputs": [],
   "source": [
    "## Percentual da população por município\n",
    "df_pop = pd.read_csv('pop-bahia-2010.csv', encoding='latin1', sep=';')\n",
    "df_pop = df_pop.rename(columns={'municipio':'city_name'})\n",
    "df_pop = df_pop[['city_name','populacao']].sort_values(by='populacao',ascending=False)\n",
    "df_pop['perc']=(df_pop['populacao']/df_pop['populacao'].sum())*100\n",
    "\n",
    "## Gráfico:\n",
    "plt.subplots(figsize=(15, 7))\n",
    "sns.set_style('darkgrid')\n",
    "ax=sns.barplot(data=df_pop[df_pop['perc'] > 0.5], x='perc', y='city_name', color='gray')\n",
    "sns.despine(left=True,bottom=False)\n",
    "ax.set(xlabel='% Tweets gerados', ylabel='Municípios', title='População por município da Bahia (%)')\n",
    "for container in ax.containers:\n",
    "    ax.bar_label(container, labels=[f'{x:,.1f}' for x in container.datavalues])\n",
    "plt.savefig(os.path.join(IMAGES_PATH, 'pop-municipio-perc.png'))\n",
    "plt.show()"
   ]
  },
  {
   "cell_type": "code",
   "execution_count": null,
   "metadata": {},
   "outputs": [],
   "source": [
    "# União dos dfs de população e tweets\n",
    "df_comp=df_loc.merge(df_pop, how='left', on='city_name').rename(columns={'perc_x':'% tweets','perc_y':'% população'}).sort_values(by='% população',ascending=False)\n",
    "\n",
    "## Gráfico:\n",
    "ax=df_comp[(df_comp['% tweets'] > 0.5) & (df_comp['city_name'] != 'Salvador')].plot(x='city_name', y=['% população','% tweets'], \n",
    "kind='bar', figsize=(15,7), color=['black','gray'])\n",
    "ax.set(xlabel='% Tweets gerados', ylabel='Municípios', title='População por município da Bahia (%)')\n",
    "for container in ax.containers:\n",
    "    ax.bar_label(container, labels=[f'{x:,.1f}' for x in container.datavalues])\n",
    "ax.axes.yaxis.set_ticklabels([])\n",
    "plt.savefig(os.path.join(IMAGES_PATH, 'tweets-pop-municipio-perc.png'))\n",
    "plt.show()"
   ]
  },
  {
   "cell_type": "code",
   "execution_count": null,
   "metadata": {},
   "outputs": [],
   "source": [
    "pd.set_option('display.max_colwidth', None)\n",
    "df[df['city_name']== 'Ilhéus'][['text','created_at']].head(10)"
   ]
  },
  {
   "cell_type": "markdown",
   "metadata": {},
   "source": [
    "## Relação entre variáveis"
   ]
  },
  {
   "cell_type": "markdown",
   "metadata": {},
   "source": [
    "### Bandeiras tarifárias x Qtd. Tweets"
   ]
  },
  {
   "cell_type": "code",
   "execution_count": null,
   "metadata": {},
   "outputs": [],
   "source": [
    "# Tweets x Mês e Ano\n",
    "df_dt=pd.DataFrame(df.groupby(by=df['created_at'].dt.to_period('M'))['id'].count()).reset_index(level=0).rename(columns={'created_at':'period','id':'qtd'})\n",
    "\n",
    "## Bandeiras tarifárias:\n",
    "verde=[16,17,18,19]\n",
    "amarela=[0,1,2,3]\n",
    "vermelhai=[4]\n",
    "vermelhaii=[5,6,7]\n",
    "escassez=[8,9,10,11,12,13,14,15]\n",
    "df_dt.loc[verde,['bandeira']]='Verde'\n",
    "df_dt.loc[amarela,['bandeira']]='Amarela'\n",
    "df_dt.loc[vermelhai,['bandeira']]='Vermelha I'\n",
    "df_dt.loc[vermelhaii,['bandeira']]='Vermelha II'\n",
    "df_dt.loc[escassez,['bandeira']]='Escassez Hídrica'\n",
    "df_dt.loc[verde,['bandeira_class']]=0\n",
    "df_dt.loc[amarela,['bandeira_class']]=1\n",
    "df_dt.loc[vermelhai,['bandeira_class']]=2\n",
    "df_dt.loc[vermelhaii,['bandeira_class']]=3\n",
    "df_dt.loc[escassez,['bandeira_class']]=4\n",
    "\n",
    "## Gráfico:\n",
    "palette={'Verde':'green','Amarela': 'yellow', 'Vermelha I':'red', 'Vermelha II':'darkred', 'Escassez Hídrica':'black'}\n",
    "plt.subplots(figsize=(15, 7))\n",
    "ax=sns.barplot(data=df_dt, x='period', y='qtd', palette=palette, hue='bandeira')\n",
    "ax.set_xlabel('Mês e ano', fontsize=14)\n",
    "ax.set_ylabel('Qtd. Tweets', fontsize=14)\n",
    "ax.set_title('Tweets gerados por ano e mês x Bandeira tarifária', fontsize=16)\n",
    "sns.set_style('darkgrid')\n",
    "sns.despine(left=True,bottom=False)\n",
    "ax.axes.yaxis.set_ticklabels([])\n",
    "for container in ax.containers:\n",
    "    ax.bar_label(container, labels=[f'{x:,.0f}' for x in container.datavalues], fontsize=12)\n",
    "plt.savefig(os.path.join(IMAGES_PATH, 'periodo-do-ano-tweets.png'), bbox_inches='tight', pad_inches = 0)\n",
    "plt.show()"
   ]
  },
  {
   "cell_type": "markdown",
   "metadata": {},
   "source": [
    "### Bandeiras tarifárias x Qtd Tweets x Indicadores de Qualidade"
   ]
  },
  {
   "cell_type": "code",
   "execution_count": null,
   "metadata": {},
   "outputs": [],
   "source": [
    "## Tweets e Bandeiras - Célula anterior\n",
    "\n",
    "## Indicadores de Qualidade\n",
    "df_qualidade = pd.read_csv('dados-abertos/indicadores-continuidade.csv', delimiter=';').rename(columns={'periodo':'period'})\n",
    "df_qualidade['period'] = df_qualidade['period'].apply(pd.to_datetime).dt.to_period('M')\n",
    "\n",
    "## Reclamações Ouvidoria\n",
    "df_ouvidoria = pd.read_csv('dados-abertos/reclamacoes-n1e2-distribuidoras.csv', delimiter = ';', encoding='latin1')\n",
    "### Filtros no dt para buscar apenas reclamações da Coelba na Bahia a partir de janeiro de 2021 e que não sejam de busca por informações\n",
    "df_ouvidoria = df_ouvidoria[(df_ouvidoria['SigUF'] == 'BA') & (df_ouvidoria['SigAgente'] == 'COELBA') & (df_ouvidoria['DatReferencia'] >= '2021-01-01') & (df_ouvidoria['CodTipoReclamacao'] != 19)]\n",
    "df_ouvidoria['NumPrazoMedioSolucao'] = df_ouvidoria['NumPrazoMedioSolucao'].str.replace(',','.').astype(float)\n",
    "df_ouvidoria['period'] = df_ouvidoria['DatReferencia'].apply(pd.to_datetime).dt.to_period('M')\n",
    "df_ouvidoria_tipo=pd.DataFrame(df_ouvidoria.groupby(['NomCanalReclamacao','DescReclamacao','period'])['QtdReclamacoesRecebidas'].sum()).reset_index()\n",
    "df_ouvidoria_resumo=pd.DataFrame(df_ouvidoria.groupby(['period'])['QtdReclamacoesRecebidas'].sum()).reset_index()\n",
    "\n",
    "## Indicadores de Atendimento\n",
    "df_atendimento = pd.read_csv('dados-abertos/dados-tma-coelba.csv', delimiter = ',', encoding='latin1')\n",
    "df_atendimento['VlrIndiceEnviado'] = df_atendimento['VlrIndiceEnviado'].str.replace(',','.').astype(float)\n",
    "df_atendimento['NumPeriodoIndice'] = df_atendimento['NumPeriodoIndice'].apply(lambda s: '0' + str(int(s)) if s < 10 else str(int(s)))\n",
    "df_atendimento['period'] =  df_atendimento['AnoIndice'].astype(str) +  '-' + df_atendimento['NumPeriodoIndice']\n",
    "df_atendimento = df_atendimento[(df_atendimento['SigIndicador'] != 'NDIACRI') & (df_atendimento['SigIndicador'] != 'VLCLACRI')]\n",
    "df_atendimento=pd.DataFrame(df_atendimento.groupby(['period','SigIndicador'])['VlrIndiceEnviado'].mean()).reset_index()\n",
    "df_atendimento = pd.pivot_table(df_atendimento, values='VlrIndiceEnviado', columns=['SigIndicador'], index='period').reset_index()\n",
    "df_atendimento['period'] = df_atendimento['period'].apply(pd.to_datetime).dt.to_period('M')"
   ]
  },
  {
   "cell_type": "code",
   "execution_count": null,
   "metadata": {},
   "outputs": [],
   "source": [
    "## Correlações:\n",
    "df_rel = df_dt.rename(columns={'qtd':'qtd_tweets'})\n",
    "df_rel = df_rel.merge(df_qualidade, how='left', on='period')\n",
    "df_rel = df_rel.merge(df_ouvidoria_resumo, how='left', on='period')\n",
    "df_rel = df_rel.merge(df_atendimento, how='left', on='period')\n",
    "#df_rel.head()\n",
    "correlation = df_rel.corr()\n",
    "plt.subplots(figsize=(15, 7))\n",
    "sns.heatmap(correlation, annot = True, fmt=\".1f\", linewidths=.2, cbar=False)\n",
    "plt.savefig(os.path.join(IMAGES_PATH, 'correlacao-entre-variaveis.png'))\n",
    "plt.show()"
   ]
  },
  {
   "cell_type": "code",
   "execution_count": null,
   "metadata": {},
   "outputs": [],
   "source": [
    "# Tweets x Reclamações\n",
    "df_test=df_rel[['period','qtd_tweets','QtdReclamacoesRecebidas']].rename(columns={'qtd_tweets': 'Qtd. Tweets'})\n",
    "df_test['Qtd. Reclamacoes x 100'] = round(df_test['QtdReclamacoesRecebidas']/100,0)\n",
    "\n",
    "## Gráfico:\n",
    "ax=df_test.plot(x='period', y=['Qtd. Reclamacoes x 100','Qtd. Tweets'], \n",
    "kind='line', figsize=(15,7), color=['black','gray'])\n",
    "sns.set_style('darkgrid')\n",
    "ax.set_xlabel('Período', fontsize=14)\n",
    "ax.set_ylabel('Qtd. Tweets', fontsize=14)\n",
    "ax.set_title('Tweets e Reclamações ANEEL gerados por mês e ano', fontsize=16)\n",
    "plt.savefig(os.path.join(IMAGES_PATH, 'tweets-reclamacoes-mes.png'), bbox_inches='tight', pad_inches = 0)\n",
    "plt.show()"
   ]
  },
  {
   "cell_type": "code",
   "execution_count": null,
   "metadata": {},
   "outputs": [],
   "source": [
    "# Tweets x Reclamações\n",
    "df_test=df_rel[['period','qtd_tweets','dec_puro']]\n",
    "df_test['DEC Puro (min)'] = round(df_test['dec_puro']*60,0)\n",
    "df_test['Qtd. Tweets'] = round(df_test['qtd_tweets'],0)\n",
    "\n",
    "## Gráfico:\n",
    "ax=df_test.plot(x='period', y=['DEC Puro (min)','Qtd. Tweets'], \n",
    "kind='line', figsize=(15,7), color=['black','gray'])\n",
    "sns.set_style('darkgrid')\n",
    "#plt.savefig(os.path.join(IMAGES_PATH, 'tweets-reclamacoes-mes.eps'))\n",
    "plt.show()"
   ]
  },
  {
   "cell_type": "markdown",
   "metadata": {},
   "source": [
    "## Mineração de Texto"
   ]
  },
  {
   "cell_type": "markdown",
   "metadata": {},
   "source": [
    "### Funções"
   ]
  },
  {
   "cell_type": "code",
   "execution_count": null,
   "metadata": {},
   "outputs": [],
   "source": [
    "# Wordcloud\n",
    "def print_wordcloud(qtd_words, words_list, name):\n",
    "    wordcloud = WordCloud(width=600, \n",
    "                     height=400, \n",
    "                     random_state=1, \n",
    "                     max_words=qtd_words,\n",
    "                     background_color='white',\n",
    "                     colormap='plasma',\n",
    "                     repeat=False,\n",
    "                     collocations=False, #Não unir palavras\n",
    "                     max_font_size=100).generate(words_list)\n",
    "\n",
    "    plt.figure(figsize=(15, 10))\n",
    "    plt.imshow(wordcloud, interpolation='bilinear')\n",
    "    plt.axis('off')\n",
    "    plt.savefig(os.path.join(IMAGES_PATH, f'nuvem-palavras-{name}.png'), bbox_inches='tight', pad_inches = 0)\n",
    "    plt.show()\n",
    "\n",
    "# Distribuição de Frequências:\n",
    "def print_fd(qtd_words, words_list, name, title):\n",
    "    words = word_tokenize(words_list)\n",
    "    fd = FreqDist(words)\n",
    "    top = fd.most_common(qtd_words)\n",
    "    fdist = pd.Series(dict(top))\n",
    "\n",
    "    plt.subplots(figsize=(15, 7))\n",
    "    sns.set_style('darkgrid')\n",
    "    ax=sns.barplot(x=fdist.values, y=fdist.index, color='gray')\n",
    "    sns.despine(left=True,bottom=False)\n",
    "    ax.set(xlabel='Quantidade de aparições', ylabel='Palavras', title=title)\n",
    "    ax.tick_params(axis='both', labelsize=14)\n",
    "    ax.set_title(title, fontsize=16)\n",
    "    for container in ax.containers:\n",
    "        ax.bar_label(container, labels=[f'{x:,.0f}' for x in container.datavalues], fontsize=12)\n",
    "    plt.savefig(os.path.join(IMAGES_PATH, f'palavras-mais-frequentes-{name}.png'), bbox_inches='tight', pad_inches = 0)\n",
    "    plt.show()\n",
    "\n",
    "# Usuários por tipo\n",
    "def users_by_type(userType, qtd, df_users_fd):\n",
    "    data=df_users_fd[df_users_fd['user_type'] == userType].sort_values(by='frequency', ascending=False).head(qtd)\n",
    "    plt.subplots(figsize=(15, 7))\n",
    "    sns.set_style('darkgrid')\n",
    "    ax=sns.barplot(data=data, x='word', y='frequency', color='gray')\n",
    "    sns.despine(left=True,bottom=False)\n",
    "    ax.set(xlabel=f'Usuário do tipo {userType}', ylabel='Qtd. menções', title=f'Quantidade de menções por usuário do tipo {userType}')\n",
    "    for container in ax.containers:\n",
    "        ax.bar_label(container, labels=[f'{x:,.0f}' for x in container.datavalues])\n",
    "    plt.savefig(os.path.join(IMAGES_PATH, f'{qtd}-usuarios-mais-mencionados-{userType}-tweets.png'), bbox_inches='tight', pad_inches = 0)\n",
    "    return plt.show()"
   ]
  },
  {
   "cell_type": "code",
   "execution_count": null,
   "metadata": {},
   "outputs": [],
   "source": [
    "# N-gramas\n",
    "def n_grams(qtd, column_name, limit):\n",
    "    df[column_name] = df['text_token'].apply(lambda x: list(ngrams(x.split(), qtd)))\n",
    "    bigrams_words = df[column_name]\n",
    "    l = functools.reduce(lambda x, y: list(x)+list(y), zip(bigrams_words))\n",
    "    flatten = [item for sublist in l for item in sublist]\n",
    "    counts = Counter(flatten).most_common()\n",
    "    df_ngrams = pd.DataFrame.from_records(counts, columns=['Phrase', 'Count'])\n",
    "    df_ngrams['Phrase']= df_ngrams['Phrase'].apply(lambda x: ' '.join([w for w in x]))\n",
    "    df2 = df_ngrams.nlargest(columns='Count', n = limit) \n",
    "    plt.figure(figsize=(5,10))\n",
    "    sns.set_style('darkgrid')\n",
    "    ax = sns.barplot(data=df2, x= 'Count', y = 'Phrase',color='gray')\n",
    "    sns.despine(left=True,bottom=False)\n",
    "    ax.set_xticklabels(ax.get_xticklabels(),rotation = 90)\n",
    "    ax.set(xlabel='Qtd. aparições', ylabel=column_name, title=f'{column_name} mais frequentes')\n",
    "    for container in ax.containers:\n",
    "        ax.bar_label(container, labels=[f'{x:,.0f}' for x in container.datavalues])\n",
    "    plt.savefig(os.path.join(IMAGES_PATH, f'n-grams-{column_name}-mais-frequentes.png'))\n",
    "    plt.show()"
   ]
  },
  {
   "cell_type": "markdown",
   "metadata": {},
   "source": [
    "### Nuvem de Palavras dos Tweets"
   ]
  },
  {
   "cell_type": "code",
   "execution_count": null,
   "metadata": {},
   "outputs": [],
   "source": [
    "# WordCloud:\n",
    "print_wordcloud(50,all_words,'geral')"
   ]
  },
  {
   "cell_type": "code",
   "execution_count": null,
   "metadata": {},
   "outputs": [],
   "source": [
    "## Busca de palavras nas frases\n",
    "df.loc[df['text_process'].str.contains('eletrocutada', case=False)][['text','text_process']]"
   ]
  },
  {
   "cell_type": "markdown",
   "metadata": {},
   "source": [
    "**Notas sobre as palavras**\n",
    "\n",
    "* *lear:* Tipo de arara azul que estava morrendo eletrocutada na rede da distribuidora. Foram feitas várias reportagens sobre a situação.\n",
    "* *eletrocutada:* Muitos comentários sobre as araras azuis, mas alguns sobre acidentes envolvendo a rede elétrica."
   ]
  },
  {
   "cell_type": "markdown",
   "metadata": {},
   "source": [
    "### Distribuição de Frequências dos Tweets"
   ]
  },
  {
   "cell_type": "code",
   "execution_count": null,
   "metadata": {},
   "outputs": [],
   "source": [
    "# Distribuição de Frequências:\n",
    "print_fd(20, all_words, 'geral', 'Palavras que mais aparecem nos tweets')"
   ]
  },
  {
   "cell_type": "markdown",
   "metadata": {},
   "source": [
    "### Hashtags"
   ]
  },
  {
   "cell_type": "code",
   "execution_count": null,
   "metadata": {},
   "outputs": [],
   "source": [
    "# WordCloud:\n",
    "print_wordcloud(50,all_tags,'tags')"
   ]
  },
  {
   "cell_type": "code",
   "execution_count": null,
   "metadata": {},
   "outputs": [],
   "source": [
    "# Distribuição de Frequências:\n",
    "print_fd(20, all_tags, 'hashtags', 'Hashtags que mais aparecem nos tweets')"
   ]
  },
  {
   "cell_type": "code",
   "execution_count": null,
   "metadata": {},
   "outputs": [],
   "source": [
    "## Busca de hashtags nas frases\n",
    "df.loc[df['tag_process'].str.contains('co', case=False)][['text','tag_process']]"
   ]
  },
  {
   "cell_type": "markdown",
   "metadata": {},
   "source": [
    "### Usuários mencionados"
   ]
  },
  {
   "cell_type": "code",
   "execution_count": null,
   "metadata": {},
   "outputs": [],
   "source": [
    "# WordCloud:\n",
    "print_wordcloud(30,all_users,'users-mentioned')"
   ]
  },
  {
   "cell_type": "code",
   "execution_count": null,
   "metadata": {},
   "outputs": [],
   "source": [
    "# Distribuição de Frequências:\n",
    "print_fd(20, all_users, 'usuarios', 'Usuários que mais aparecem nos tweets')"
   ]
  },
  {
   "cell_type": "code",
   "execution_count": null,
   "metadata": {},
   "outputs": [],
   "source": [
    "words = word_tokenize(all_users)\n",
    "fd_users = FreqDist(words)\n",
    "df_users_fd=pd.DataFrame(fd_users.items(), columns=['word', 'frequency'])\n",
    "df_users_fd=df_users_fd[df_users_fd['frequency'] > 10].sort_values(by='frequency',ascending=False)\n",
    "\n",
    "## Classificação:\n",
    "company=[1679,15,25,2021]\n",
    "midia=[104,375,555,1005,808,342,168,1700,173,1029,242,374,1314]\n",
    "gov=[246,218,32,95,1905]\n",
    "df_users_fd.loc[company,['user_type']]='Companhia'\n",
    "df_users_fd.loc[midia,['user_type']]='Mídia'\n",
    "df_users_fd.loc[gov,['user_type']]='Governo'\n",
    "df_users_fd['user_type']=df_users_fd['user_type'].fillna('Outros')\n",
    "\n",
    "# Tweets x Usuário mencionado\n",
    "df_users_fd_resume=pd.DataFrame(df_users_fd.groupby(by=df_users_fd['user_type'])['frequency'].sum()).reset_index(level=0).sort_values(by='frequency', ascending=False)\n",
    "plt.subplots(figsize=(15, 7))\n",
    "sns.set_style('darkgrid')\n",
    "ax=sns.barplot(data=df_users_fd_resume, x='user_type', y='frequency', color='gray')\n",
    "sns.despine(left=True,bottom=False)\n",
    "ax.set(xlabel='Tipo de usuário', ylabel='Qtd. menções aos usuários', title='Quantidade de menções por tipo de usuário')\n",
    "for container in ax.containers:\n",
    "    ax.bar_label(container, labels=[f'{x:,.0f}' for x in container.datavalues])\n",
    "plt.savefig(os.path.join(IMAGES_PATH, 'tipo-usuario-mencionado-tweets.png'))\n",
    "plt.show()"
   ]
  },
  {
   "cell_type": "code",
   "execution_count": null,
   "metadata": {},
   "outputs": [],
   "source": [
    "# Usuários mais mencionados por tipo\n",
    "users_by_type('Governo',10,df_users_fd)"
   ]
  },
  {
   "cell_type": "code",
   "execution_count": null,
   "metadata": {},
   "outputs": [],
   "source": [
    "# Df Araras:\n",
    "df_araras=df[df['text_token'].str.contains('araras')][['text','created_at','id']]\n",
    "df_araras['dt'] = df_araras['created_at'].dt.date\n",
    "df_araras_resumo=pd.DataFrame(df_araras.groupby(by=df_araras['dt'])['id'].count()).reset_index(level=0)\n",
    "df_araras_resumo.head(30)"
   ]
  },
  {
   "cell_type": "markdown",
   "metadata": {},
   "source": [
    "### Nuvens de palavras específicas"
   ]
  },
  {
   "cell_type": "code",
   "execution_count": null,
   "metadata": {},
   "outputs": [],
   "source": [
    "# Bandeiras x tweets\n",
    "df_test = df[['text_token','created_at']]\n",
    "df_test['period']=df_test['created_at'].dt.to_period('M')\n",
    "df_test = pd.merge(df_test, df_dt, on='period', how='left')\n",
    "df_test.head()"
   ]
  },
  {
   "cell_type": "code",
   "execution_count": null,
   "metadata": {},
   "outputs": [],
   "source": [
    "## Palavras:\n",
    "words_cloud=''\n",
    "### Palavras dentro do tweet:\n",
    "#words_cloud = ' '.join([word for word in df[(df['text_token'].str.contains('conta') & df['bandeira'])]['text_token']])\n",
    "#words_cloud = ' '.join([word for word in df_test[(df['user_token'].str.contains('aneel_govbr'))]['text_token']])\n",
    "words_cloud = ' '.join([word for word in df[(df['user_token'].str.contains('salvador'))]['text_token']])\n",
    "print_wordcloud(30,words_cloud,'termo-salvador')"
   ]
  },
  {
   "cell_type": "code",
   "execution_count": null,
   "metadata": {},
   "outputs": [],
   "source": [
    "df[(df['text_token'].str.contains('conta')) & ((df['text_token'].str.contains('dulce')) | (df['text_token'].str.contains('irma')))][['text','city_name']].head(20)"
   ]
  },
  {
   "cell_type": "markdown",
   "metadata": {},
   "source": [
    "### Bigramas"
   ]
  },
  {
   "cell_type": "code",
   "execution_count": null,
   "metadata": {},
   "outputs": [],
   "source": [
    "n_grams(2,'Bigramas',20)"
   ]
  },
  {
   "cell_type": "markdown",
   "metadata": {},
   "source": [
    "### Trigramas"
   ]
  },
  {
   "cell_type": "code",
   "execution_count": null,
   "metadata": {},
   "outputs": [],
   "source": [
    "n_grams(3,'Trigramas',20)"
   ]
  },
  {
   "cell_type": "markdown",
   "metadata": {},
   "source": [
    "### 4-Gramas"
   ]
  },
  {
   "cell_type": "code",
   "execution_count": null,
   "metadata": {},
   "outputs": [],
   "source": [
    "n_grams(4,'Quadrigramas',20)"
   ]
  },
  {
   "cell_type": "markdown",
   "metadata": {},
   "source": [
    "## Modelagem de Tópicos:"
   ]
  },
  {
   "cell_type": "markdown",
   "metadata": {},
   "source": [
    "### Funções"
   ]
  },
  {
   "cell_type": "code",
   "execution_count": 11,
   "metadata": {},
   "outputs": [],
   "source": [
    "def sent_to_words(sentences):\n",
    "    for sentence in sentences:\n",
    "        yield(gensim.utils.simple_preprocess(str(sentence), deacc=True)) "
   ]
  },
  {
   "cell_type": "markdown",
   "metadata": {},
   "source": [
    "### Dados:"
   ]
  },
  {
   "cell_type": "code",
   "execution_count": 13,
   "metadata": {},
   "outputs": [
    {
     "name": "stdout",
     "output_type": "stream",
     "text": [
      "[['obra', 'ondina', 'parece', 'romance', 'jorge', 'amado', 'obra', 'fim', 'politica']]\n"
     ]
    }
   ],
   "source": [
    "data = df.text_token.values.tolist()\n",
    "data_words = list(sent_to_words(data))\n",
    "\n",
    "print(data_words[:1])"
   ]
  },
  {
   "cell_type": "markdown",
   "metadata": {},
   "source": [
    "### Formação de N-gramas"
   ]
  },
  {
   "cell_type": "code",
   "execution_count": 14,
   "metadata": {},
   "outputs": [],
   "source": [
    "# Construir modelos de bigramas e trigramas:\n",
    "bigram = gensim.models.Phrases(data_words, min_count=5, threshold=100) \n",
    "trigram = gensim.models.Phrases(bigram[data_words], threshold=100)  \n",
    "\n",
    "# Organizando as frases:\n",
    "bigram_mod = gensim.models.phrases.Phraser(bigram)\n",
    "trigram_mod = gensim.models.phrases.Phraser(trigram)\n",
    "\n",
    "def make_bigrams(texts): # bigramas\n",
    "    return [bigram_mod[doc] for doc in texts]\n",
    "\n",
    "def make_trigrams(texts): #trigramas\n",
    "    return [trigram_mod[bigram_mod[doc]] for doc in texts]\n",
    "\n",
    "data_words_bigrams = make_bigrams(data_words)\n",
    "data_words_trigrams = make_trigrams(data_words)"
   ]
  },
  {
   "cell_type": "markdown",
   "metadata": {},
   "source": [
    "### Aplicação do Modelo LDA"
   ]
  },
  {
   "cell_type": "code",
   "execution_count": 15,
   "metadata": {},
   "outputs": [
    {
     "name": "stdout",
     "output_type": "stream",
     "text": [
      "Perplexidade:  -9.065271037524413\n",
      "\n",
      "Coerência:  0.4413587028003789\n"
     ]
    }
   ],
   "source": [
    "# Criando dicionário:\n",
    "id2word = corpora.Dictionary(data_words_bigrams)\n",
    "\n",
    "# Criando corpus:\n",
    "texts = data_words_bigrams\n",
    "\n",
    "# Frequência dos termos:\n",
    "corpus = [id2word.doc2bow(text) for text in texts]\n",
    "\n",
    "# Construindo modelo LDA:\n",
    "lda_model = gensim.models.ldamodel.LdaModel(corpus=corpus,\n",
    "                                           id2word=id2word,\n",
    "                                           num_topics=5, \n",
    "                                           random_state=100,\n",
    "                                           update_every=1,\n",
    "                                           chunksize=100,\n",
    "                                           passes=10,\n",
    "                                           alpha='auto',\n",
    "                                           per_word_topics=True)\n",
    "\n",
    "# Cálculo da perplexidade: \n",
    "print('Perplexidade: ', lda_model.log_perplexity(corpus)) \n",
    "\n",
    "# Cálculo da coerência: \n",
    "coherence_model_lda = CoherenceModel(model=lda_model, texts=data_words_bigrams, dictionary=id2word, coherence='c_v')\n",
    "coherence_lda = coherence_model_lda.get_coherence()\n",
    "print('\\nCoerência: ', coherence_lda)                                           "
   ]
  },
  {
   "cell_type": "code",
   "execution_count": 16,
   "metadata": {},
   "outputs": [
    {
     "name": "stdout",
     "output_type": "stream",
     "text": [
      "\n",
      "Tópico: LdaModel(num_terms=13712, num_topics=5, decay=0.5, chunksize=100) \n",
      "Palavras: ['energia', 'luz', 'dia', 'casa', 'embasa', 'agora', 'ainda', 'mae', 'porra', 'hora']\n",
      "\n",
      "Tópico: LdaModel(num_terms=13712, num_topics=5, decay=0.5, chunksize=100) \n",
      "Palavras: ['nao', 'conta', 'hoje', 'salvador', 'pagar', 'servico', 'covid', 'ficar', 'ajuda', 'fatura']\n",
      "\n",
      "Tópico: LdaModel(num_terms=13712, num_topics=5, decay=0.5, chunksize=100) \n",
      "Palavras: ['eletrica', 'agua', 'rede', 'boa', 'subestacao', 'dias', 'merda', 'sorte', 'bairro', 'daqui']\n",
      "\n",
      "Tópico: LdaModel(num_terms=13712, num_topics=5, decay=0.5, chunksize=100) \n",
      "Palavras: ['poste', 'rua', 'falta', 'anos', 'bom', 'faz', 'mim', 'internet', 'todos', 'acao']\n",
      "\n",
      "Tópico: LdaModel(num_terms=13712, num_topics=5, decay=0.5, chunksize=100) \n",
      "Palavras: ['bahia', 'cara', 'empresa', 'cortar', 'deus', 'video', 'odeio', 'dinheiro', 'verao', 'contra']\n"
     ]
    }
   ],
   "source": [
    "# Ver os tópicos montados:\n",
    "for index, topic in lda_model.show_topics(formatted=False, num_words= 10):\n",
    "    print('\\nTópico: {} \\nPalavras: {}'.format(lda_model, [w[0] for w in topic]))"
   ]
  },
  {
   "cell_type": "code",
   "execution_count": 20,
   "metadata": {},
   "outputs": [
    {
     "name": "stdout",
     "output_type": "stream",
     "text": [
      "k: 10 / cv 0.36493131060543826\n",
      "k: 11 / cv 0.37046049695476974\n",
      "k: 12 / cv 0.3849890398563239\n",
      "k: 13 / cv 0.4007619199555086\n",
      "k: 14 / cv 0.38811989896094595\n",
      "k: 15 / cv 0.40591112225224457\n",
      "k: 16 / cv 0.3759368125873144\n",
      "k: 17 / cv 0.3850939686531942\n",
      "k: 18 / cv 0.40185422711389984\n",
      "k: 19 / cv 0.3966143413392584\n",
      "k: 20 / cv 0.40373103608214345\n",
      "k: 21 / cv 0.45453033519390323\n",
      "k: 22 / cv 0.42106293149545065\n",
      "k: 23 / cv 0.41117107448826773\n",
      "k: 24 / cv 0.41797716352832454\n",
      "k: 25 / cv 0.4044568102967298\n",
      "k: 26 / cv 0.4063299797412456\n",
      "k: 27 / cv 0.43159765543332906\n",
      "k: 28 / cv 0.41741680956203275\n",
      "k: 29 / cv 0.43420953807909446\n",
      "k: 30 / cv 0.42583391424673883\n",
      "k: 31 / cv 0.4316674897643519\n",
      "k: 32 / cv 0.41714901142849825\n",
      "k: 33 / cv 0.41787339828181774\n",
      "k: 34 / cv 0.41789877152696275\n"
     ]
    }
   ],
   "source": [
    "# Definindo número de tópicos:\n",
    "coherence = []\n",
    "for k in range(10,35):\n",
    "     Lda = gensim.models.ldamodel.LdaModel\n",
    "     ldamodel = Lda(corpus, num_topics=k, \\\n",
    "               id2word = id2word, passes=40,\\\n",
    "               iterations=200, chunksize = 10000, random_state=100, eval_every = None)\n",
    "    \n",
    "     cm = gensim.models.coherencemodel.CoherenceModel(\\\n",
    "         model=ldamodel, texts=data_words_bigrams,\\\n",
    "         dictionary=id2word, coherence='c_v')  \n",
    "     print(f'k: {k} / cv {cm.get_coherence()}') \n",
    "     coherence.append((k,cm.get_coherence()))\n"
   ]
  },
  {
   "cell_type": "code",
   "execution_count": 22,
   "metadata": {},
   "outputs": [
    {
     "data": {
      "image/png": "[encoded data removed]",
      "text/plain": [
       "<Figure size 1080x504 with 1 Axes>"
      ]
     },
     "metadata": {},
     "output_type": "display_data"
    }
   ],
   "source": [
    "df_coe = pd.DataFrame (coherence, columns = ['k', 'coherence'])\n",
    "plt.subplots(figsize=(15, 7))\n",
    "sns.set_style('darkgrid')\n",
    "ax=sns.lineplot(data=df_coe, x='k', y='coherence', color='gray')\n",
    "ax.set_xlim(10,35)\n",
    "ax.xaxis.set_major_locator(ticker.MultipleLocator(1))\n",
    "plt.show()"
   ]
  },
  {
   "cell_type": "code",
   "execution_count": 24,
   "metadata": {},
   "outputs": [
    {
     "name": "stdout",
     "output_type": "stream",
     "text": [
      "\n",
      "Tópico: LdaModel(num_terms=13712, num_topics=21, decay=0.5, chunksize=10000) \n",
      "Palavras: ['cpi', 'nao', 'servicos', 'data', 'bahia', 'servico', 'diz', 'governo', 'alba', 'agencia', 'hoje', 'ameaca', 'assembleia_legislativa', 'sera', 'deputado', 'contra', 'baiano', 'procon', 'deputados', 'aki', 'leia', 'deve', 'retorno', 'certo', 'lucro', 'base', 'pare', 'apos', 'proxima', 'apoio']\n",
      "\n",
      "Tópico: LdaModel(num_terms=13712, num_topics=21, decay=0.5, chunksize=10000) \n",
      "Palavras: ['energia', 'brasil', 'salvador', 'abre', 'trabalho', 'eletrica', 'emprego', 'publica', 'duas', 'estagio', 'vaga', 'responde', 'processo_seletivo', 'quedas', 'aracatu', 'mil', 'importante', 'veja', 'laudostecnicos', 'tarifa_social', 'confira', 'reuniao', 'spda', 'vagas', 'informou', 'faz', 'neoe', 'anuncia', 'acao', 'municipio']\n",
      "\n",
      "Tópico: LdaModel(num_terms=13712, num_topics=21, decay=0.5, chunksize=10000) \n",
      "Palavras: ['energia', 'mae', 'eletrica', 'segunda', 'nao', 'valor', 'milhoes', 'rede', 'dia', 'fatura', 'dois', 'video', 'semana', 'favor', 'ajuda', 'desligamento_programado', 'preciso', 'acesso', 'conta', 'assistir', 'consumo', 'light', 'verao', 'aumento', 'hoje', 'processo', 'pessoa', 'clientes', 'alerta', 'ponto']\n",
      "\n",
      "Tópico: LdaModel(num_terms=13712, num_topics=21, decay=0.5, chunksize=10000) \n",
      "Palavras: ['dia', 'bom', 'hoje', 'poste', 'nada', 'fazer', 'vcnojm', 'trocar', 'luz', 'nao', 'dona', 'agora', 'ano', 'desde', 'casa', 'vida', 'vezes', 'pagar', 'ontem', 'internet', 'servico', 'ficar', 'corta', 'pessoas', 'gostaria_saber', 'ricardo_thaic', 'quer', 'olha', 'energia', 'faz']\n",
      "\n",
      "Tópico: LdaModel(num_terms=13712, num_topics=21, decay=0.5, chunksize=10000) \n",
      "Palavras: ['nao', 'conta', 'pagar', 'energia', 'ainda', 'luz', 'mim', 'clientes', 'contas', 'atendimento', 'sorte', 'pagamento', 'contas_atraso', 'cortar', 'dinheiro', 'dar', 'ver', 'reais', 'mes', 'porque', 'ninguem', 'quero', 'sei', 'ajuda', 'consulte_tel', 'quanto', 'deus', 'oferece_desconto', 'tao', 'falta']\n",
      "\n",
      "Tópico: LdaModel(num_terms=13712, num_topics=21, decay=0.5, chunksize=10000) \n",
      "Palavras: ['bahia', 'assim', 'desconto', 'casa', 'inicia_entrega', 'ver', 'fique', 'salvador', 'troca', 'energia', 'juazeiro', 'luz', 'apos', 'filha', 'cidade', 'dias', 'situacao', 'chamar', 'geral', 'nao', 'vale', 'poste', 'virou', 'prazo', 'doar', 'coisas_ligadas', 'atendimento', 'laudos', 'varios', 'bairros']\n",
      "\n",
      "Tópico: LdaModel(num_terms=13712, num_topics=21, decay=0.5, chunksize=10000) \n",
      "Palavras: ['odeio', 'bahia', 'estado', 'eletrica', 'rede', 'companhia_eletricidade', 'agua', 'itabuna', 'atrasada', 'energia', 'larga', 'chuva', 'governo', 'inferno', 'socia', 'embasa', 'companhia', 'justica', 'municipios_baianos', 'nesse', 'servico', 'centro', 'socorro', 'fornecimento', 'morena', 'ouca_jornal', 'periodo', 'toma', 'inteira', 'celpe']\n",
      "\n",
      "Tópico: LdaModel(num_terms=13712, num_topics=21, decay=0.5, chunksize=10000) \n",
      "Palavras: ['energia', 'tomar', 'queimar', 'queda', 'casa', 'caiu', 'deixa', 'porra', 'nao', 'luz', 'quedas', 'disgraca', 'queimou', 'logo', 'geladeira', 'querendo', 'coisa', 'brincando', 'bairro', 'dessa', 'processar', 'especial', 'daqui', 'filho', 'coisas', 'umas', 'vez', 'espero', 'empresa', 'desligar']\n",
      "\n",
      "Tópico: LdaModel(num_terms=13712, num_topics=21, decay=0.5, chunksize=10000) \n",
      "Palavras: ['energia', 'vacinas', 'acao', 'boa', 'lado', 'municipio', 'entao', 'volta', 'dia', 'hoje', 'cidade', 'noite', 'desde', 'contra', 'ocorrencia', 'trabalhar', 'casa', 'energias', 'transmissao', 'bairro', 'prefeito', 'carro', 'eletricista', 'previsao', 'poste', 'desligamento', 'terra', 'bruno_reis', 'conquista', 'meio']\n",
      "\n",
      "Tópico: LdaModel(num_terms=13712, num_topics=21, decay=0.5, chunksize=10000) \n",
      "Palavras: ['ligar', 'condicionado', 'calor', 'fica', 'gente', 'outro', 'arvore', 'poste', 'acidente', 'fios', 'morre', 'fila', 'rua', 'casa', 'bahia', 'poder', 'primeiro', 'moral', 'caminhao', 'passou', 'fiacao', 'funcionario', 'salvador', 'dias', 'apos', 'pedido', 'realmente', 'conto', 'operacao', 'condenada_indenizar']\n"
     ]
    }
   ],
   "source": [
    "# Modelo melhorado:\n",
    "Lda_i = gensim.models.ldamodel.LdaModel\n",
    "ldamodel_i = Lda_i(corpus, num_topics=21, \\\n",
    "            id2word = id2word, passes=40,\\\n",
    "            iterations=200, chunksize = 10000, eval_every = None)\n",
    "    \n",
    "cm = gensim.models.coherencemodel.CoherenceModel(\\\n",
    "    model=ldamodel_i, texts=data_words_bigrams,\\\n",
    "    dictionary=id2word, coherence='c_v')   \n",
    "\n",
    "# Ver os tópicos montados:\n",
    "for index, topic in ldamodel_i.show_topics(formatted=False, num_words= 30):\n",
    "    print('\\nTópico: {} \\nPalavras: {}'.format(ldamodel_i, [w[0] for w in topic]))"
   ]
  },
  {
   "cell_type": "code",
   "execution_count": 25,
   "metadata": {},
   "outputs": [
    {
     "name": "stderr",
     "output_type": "stream",
     "text": [
      "  0%|          | 0/540 [01:56<?, ?it/s]\n",
      " 11%|█         | 60/540 [52:29<6:59:57, 52.49s/it]\n"
     ]
    }
   ],
   "source": [
    "### Melhorando o modelo:\n",
    "\n",
    "#### Função de coerência:\n",
    "def compute_coherence_values(corpus, dictionary, k, a, b, text): \n",
    "    lda_model = gensim.models.LdaMulticore(corpus=corpus,\n",
    "                                           id2word=dictionary,\n",
    "                                           num_topics=21, \n",
    "                                           random_state=100,\n",
    "                                           chunksize=100,\n",
    "                                           passes=10,\n",
    "                                           alpha=a,\n",
    "                                           eta=b)\n",
    "    \n",
    "    coherence_model_lda = CoherenceModel(model=lda_model, texts=text, dictionary=id2word, coherence='c_v')\n",
    "    \n",
    "    return coherence_model_lda.get_coherence()\n",
    "\n",
    "import tqdm\n",
    "grid = {}\n",
    "grid['Validation_Set'] = {}\n",
    "# Parâmetro alpha:\n",
    "alpha = list(np.arange(0.01, 1, 0.3))\n",
    "alpha.append('symmetric')\n",
    "alpha.append('asymmetric')\n",
    "# Parâmetro beta:\n",
    "beta = list(np.arange(0.01, 1, 0.3))\n",
    "beta.append('symmetric')\n",
    "# Validações\n",
    "num_of_docs = len(corpus)\n",
    "corpus_sets = [gensim.utils.ClippedCorpus(corpus, int(num_of_docs*0.75)), \n",
    "               corpus]\n",
    "corpus_title = ['75% Corpus', '100% Corpus']\n",
    "model_results = {'Validation_Set': [],\n",
    "                 'Topics': [],\n",
    "                 'Alpha': [],\n",
    "                 'Beta': [],\n",
    "                 'Coherence': []\n",
    "                }\n",
    "# Execução:\n",
    "if 1 == 1:\n",
    "    pbar = tqdm.tqdm(total=540)\n",
    "    \n",
    "    # Iteração pelo corpus:\n",
    "    for i in range(len(corpus_sets)):\n",
    "        # Iteração pelo alpha:\n",
    "        for a in alpha:\n",
    "            # Iteração pelo beta:\n",
    "            for b in beta:\n",
    "                cv = compute_coherence_values(corpus=corpus_sets[i], dictionary=id2word, \n",
    "                                                k=21, a=a, b=b, text=data_words_bigrams)\n",
    "                model_results['Validation_Set'].append(corpus_title[i])\n",
    "                model_results['Topics'].append(k)\n",
    "                model_results['Alpha'].append(a)\n",
    "                model_results['Beta'].append(b)\n",
    "                model_results['Coherence'].append(cv)\n",
    "                    \n",
    "                pbar.update(1)\n",
    "    pd.DataFrame(model_results).to_csv('lda_tuning_results.csv', index=False)\n",
    "    pbar.close()"
   ]
  },
  {
   "cell_type": "code",
   "execution_count": 26,
   "metadata": {},
   "outputs": [
    {
     "data": {
      "text/html": [
       "<div>\n",
       "<style scoped>\n",
       "    .dataframe tbody tr th:only-of-type {\n",
       "        vertical-align: middle;\n",
       "    }\n",
       "\n",
       "    .dataframe tbody tr th {\n",
       "        vertical-align: top;\n",
       "    }\n",
       "\n",
       "    .dataframe thead th {\n",
       "        text-align: right;\n",
       "    }\n",
       "</style>\n",
       "<table border=\"1\" class=\"dataframe\">\n",
       "  <thead>\n",
       "    <tr style=\"text-align: right;\">\n",
       "      <th></th>\n",
       "      <th>Validation_Set</th>\n",
       "      <th>Topics</th>\n",
       "      <th>Alpha</th>\n",
       "      <th>Beta</th>\n",
       "      <th>Coherence</th>\n",
       "    </tr>\n",
       "  </thead>\n",
       "  <tbody>\n",
       "    <tr>\n",
       "      <th>18</th>\n",
       "      <td>75% Corpus</td>\n",
       "      <td>34</td>\n",
       "      <td>0.9099999999999999</td>\n",
       "      <td>0.9099999999999999</td>\n",
       "      <td>0.568801</td>\n",
       "    </tr>\n",
       "    <tr>\n",
       "      <th>17</th>\n",
       "      <td>75% Corpus</td>\n",
       "      <td>34</td>\n",
       "      <td>0.9099999999999999</td>\n",
       "      <td>0.61</td>\n",
       "      <td>0.563734</td>\n",
       "    </tr>\n",
       "    <tr>\n",
       "      <th>56</th>\n",
       "      <td>100% Corpus</td>\n",
       "      <td>34</td>\n",
       "      <td>asymmetric</td>\n",
       "      <td>0.31</td>\n",
       "      <td>0.542317</td>\n",
       "    </tr>\n",
       "    <tr>\n",
       "      <th>37</th>\n",
       "      <td>100% Corpus</td>\n",
       "      <td>34</td>\n",
       "      <td>0.31</td>\n",
       "      <td>0.61</td>\n",
       "      <td>0.523998</td>\n",
       "    </tr>\n",
       "    <tr>\n",
       "      <th>6</th>\n",
       "      <td>75% Corpus</td>\n",
       "      <td>34</td>\n",
       "      <td>0.31</td>\n",
       "      <td>0.31</td>\n",
       "      <td>0.517645</td>\n",
       "    </tr>\n",
       "  </tbody>\n",
       "</table>\n",
       "</div>"
      ],
      "text/plain": [
       "   Validation_Set  Topics               Alpha                Beta  Coherence\n",
       "18     75% Corpus      34  0.9099999999999999  0.9099999999999999   0.568801\n",
       "17     75% Corpus      34  0.9099999999999999                0.61   0.563734\n",
       "56    100% Corpus      34          asymmetric                0.31   0.542317\n",
       "37    100% Corpus      34                0.31                0.61   0.523998\n",
       "6      75% Corpus      34                0.31                0.31   0.517645"
      ]
     },
     "execution_count": 26,
     "metadata": {},
     "output_type": "execute_result"
    }
   ],
   "source": [
    "df_lda_model = pd.read_csv('lda_tuning_results.csv')\n",
    "df_lda_model.sort_values(by='Coherence', ascending=False).head()"
   ]
  },
  {
   "cell_type": "code",
   "execution_count": 28,
   "metadata": {},
   "outputs": [
    {
     "data": {
      "text/html": [
       "<div>\n",
       "<style scoped>\n",
       "    .dataframe tbody tr th:only-of-type {\n",
       "        vertical-align: middle;\n",
       "    }\n",
       "\n",
       "    .dataframe tbody tr th {\n",
       "        vertical-align: top;\n",
       "    }\n",
       "\n",
       "    .dataframe thead th {\n",
       "        text-align: right;\n",
       "    }\n",
       "</style>\n",
       "<table border=\"1\" class=\"dataframe\">\n",
       "  <thead>\n",
       "    <tr style=\"text-align: right;\">\n",
       "      <th></th>\n",
       "      <th>Validation_Set</th>\n",
       "      <th>Topics</th>\n",
       "      <th>Alpha</th>\n",
       "      <th>Beta</th>\n",
       "      <th>Coherence</th>\n",
       "    </tr>\n",
       "  </thead>\n",
       "  <tbody>\n",
       "  </tbody>\n",
       "</table>\n",
       "</div>"
      ],
      "text/plain": [
       "Empty DataFrame\n",
       "Columns: [Validation_Set, Topics, Alpha, Beta, Coherence]\n",
       "Index: []"
      ]
     },
     "execution_count": 28,
     "metadata": {},
     "output_type": "execute_result"
    }
   ],
   "source": [
    "df_co = df_lda_model[('Topics'==21) & (df_lda_model['Validation_Set'] == '100% Corpus')]\n",
    "df_co.sort_values(by='Coherence', ascending=False)\n"
   ]
  },
  {
   "cell_type": "markdown",
   "metadata": {},
   "source": [
    "### Trigramas"
   ]
  },
  {
   "cell_type": "code",
   "execution_count": null,
   "metadata": {},
   "outputs": [],
   "source": [
    "# Criando dicionário:\n",
    "id2word = corpora.Dictionary(data_words_bigrams)\n",
    "\n",
    "# Criando corpus:\n",
    "texts = data_words_trigrams\n",
    "\n",
    "# Frequência dos termos:\n",
    "corpus = [id2word.doc2bow(text) for text in texts]\n",
    "\n",
    "# Construindo modelo LDA:\n",
    "lda_model = gensim.models.ldamodel.LdaModel(corpus=corpus,\n",
    "                                           id2word=id2word,\n",
    "                                           num_topics=20, \n",
    "                                           random_state=100,\n",
    "                                           update_every=1,\n",
    "                                           chunksize=100,\n",
    "                                           passes=10,\n",
    "                                           alpha='auto',\n",
    "                                           per_word_topics=True)\n",
    "\n",
    "# Cálculo da perplexidade: \n",
    "print('Perplexidade: ', lda_model.log_perplexity(corpus)) \n",
    "print()\n",
    "# Cálculo da coerência: \n",
    "coherence_model_lda = CoherenceModel(model=lda_model, texts=data_words_bigrams, dictionary=id2word, coherence='c_v')\n",
    "coherence_lda = coherence_model_lda.get_coherence()\n",
    "print('\\nCoerência: ', coherence_lda)   "
   ]
  },
  {
   "cell_type": "code",
   "execution_count": null,
   "metadata": {},
   "outputs": [],
   "source": [
    "# Ver os tópicos montados:\n",
    "for index, topic in lda_model.show_topics(formatted=False, num_words= 20):\n",
    "    print('\\nTópico: {} \\nPalavras: {}'.format(lda_model, [w[0] for w in topic]))"
   ]
  },
  {
   "cell_type": "markdown",
   "metadata": {},
   "source": [
    "## Análise dos Sentimentos:"
   ]
  },
  {
   "cell_type": "markdown",
   "metadata": {},
   "source": [
    "### Montagem do conjunto de treino"
   ]
  },
  {
   "cell_type": "markdown",
   "metadata": {},
   "source": [
    "Considerando que o conjunto de dados contém 12.581 tweets, propõe-se a utilização de 5% do total para classificação no conjunto de treino."
   ]
  },
  {
   "cell_type": "code",
   "execution_count": null,
   "metadata": {},
   "outputs": [],
   "source": [
    "# Geração da Amostra de Classificação\n",
    "df_classificacao=pd.DataFrame(df['text'].sample(frac=0.05, random_state=1))\n",
    "df_classificacao.to_csv('amostra-classificacao.csv', encoding='utf8', index=False)"
   ]
  },
  {
   "cell_type": "code",
   "execution_count": 11,
   "metadata": {},
   "outputs": [],
   "source": [
    "# Carga do DF após tratamento:\n",
    "df_classificacao = pd.read_csv('apoio/amostra-classificacao-tratado.csv')\n",
    "df_classificacao['sentiment_class']=df_classificacao['sentimento']\n",
    "df_classificacao['topic_class']=df_classificacao['topico']\n",
    "df_classificacao['sentiment_class']=df_classificacao['sentiment_class'].replace(to_replace='Positivo', value=1)\n",
    "df_classificacao['sentiment_class']=df_classificacao['sentiment_class'].replace(to_replace='Negativo', value=-1)\n",
    "df_classificacao['sentiment_class']=df_classificacao['sentiment_class'].replace(to_replace='Neutro', value=0)\n",
    "df_classificacao['topic_class']=df_classificacao['topic_class'].replace(to_replace='Falta de energia', value=0)\n",
    "df_classificacao['topic_class']=df_classificacao['topic_class'].replace(to_replace='Corte', value=1)\n",
    "df_classificacao['topic_class']=df_classificacao['topic_class'].replace(to_replace='Conta', value=2)\n",
    "df_classificacao['topic_class']=df_classificacao['topic_class'].replace(to_replace='Outros', value=3)\n",
    "df_classificacao['topic_class']=df_classificacao['topic_class'].replace(to_replace='Notícia', value=4)\n",
    "df_classificacao['topic_class']=df_classificacao['topic_class'].replace(to_replace='Atendimento', value=3)\n",
    "df_classificacao['topic_class']=df_classificacao['topic_class'].replace(to_replace='Crítica', value=3)\n",
    "df_classificacao['topic_class']=df_classificacao['topic_class'].replace(to_replace='Elogio', value=3)\n",
    "df_classificacao['topic_class']=df_classificacao['topic_class'].replace(to_replace='Telefonia/Internet', value=3)"
   ]
  },
  {
   "cell_type": "code",
   "execution_count": 12,
   "metadata": {},
   "outputs": [],
   "source": [
    "# Pré processamento dos Tweets:\n",
    "df_classificacao['text_process'] = df_classificacao['texto'].astype(str).str.lower() \n",
    "\n",
    "# Remover acentos:\n",
    "df_classificacao['text_process']=df_classificacao['text_process'].str.normalize('NFKD').str.encode('ascii', errors='ignore').str.decode('utf-8')\n",
    "\n",
    "# Remover urls:\n",
    "df_classificacao['text_process']=df_classificacao['text_process'].replace(to_replace=r'http\\S+|www\\S+|https\\S+', regex=True, value='')\n",
    "\n",
    "# Remover @ e #:\n",
    "df_classificacao['text_process']=df_classificacao['text_process'].replace(to_replace=r'\\@\\w+|\\#', regex=True, value='')\n",
    "\n",
    "# Selecionar apenas palavras e números:\n",
    "regexp = RegexpTokenizer('\\w+')\n",
    "df_classificacao['text_token']=df_classificacao['text_process'].apply(regexp.tokenize)\n",
    "\n",
    "# Stopwords:\n",
    "df_classificacao['text_token'] = df_classificacao['text_token'].apply(lambda x: [item for item in x if item not in stop_words])\n",
    "\n",
    "# Remoção de palavras pouco frequentes (-1x):\n",
    "df_classificacao['text_token'] = df_classificacao['text_token'].apply(lambda x: ' '.join([item for item in x if len(item)>1]))"
   ]
  },
  {
   "cell_type": "code",
   "execution_count": null,
   "metadata": {},
   "outputs": [],
   "source": [
    "df_classificacao.to_csv('apoio/base-analise-sentimentos.csv')"
   ]
  },
  {
   "cell_type": "markdown",
   "metadata": {},
   "source": [
    "### Testes de modelos"
   ]
  },
  {
   "cell_type": "code",
   "execution_count": 38,
   "metadata": {},
   "outputs": [],
   "source": [
    "#Variáveis dos Modelos:\n",
    "n_folds=30 #Número de folds\n",
    "cv = RepeatedStratifiedKFold(n_splits=n_folds, n_repeats=5, random_state=1) #Geração do KFold\n",
    "scoring='accuracy' #Métrica de avaliação principal"
   ]
  },
  {
   "cell_type": "code",
   "execution_count": 39,
   "metadata": {},
   "outputs": [],
   "source": [
    "# Funções:\n",
    "def metricas(teste,predito):\n",
    "    nome={}\n",
    "    acc=metrics.accuracy_score(teste,predito)\n",
    "    mcc=metrics.matthews_corrcoef(teste,predito)\n",
    "    r=metrics.recall_score(teste,predito,average='macro')\n",
    "    p=metrics.precision_score(teste,predito,average='macro')\n",
    "    f1=metrics.f1_score(teste,predito,average='macro')\n",
    "    nome = dict(zip(['acc','mcc','r','p','f1'], [acc,mcc,r,p,f1]))\n",
    "    return nome\n",
    "\n",
    "def mc(teste,predito):\n",
    "    confusion_matrix = pd.crosstab(teste, predito, rownames=['Real'], colnames=['Predito'])\n",
    "    return confusion_matrix"
   ]
  },
  {
   "cell_type": "code",
   "execution_count": 40,
   "metadata": {},
   "outputs": [
    {
     "name": "stdout",
     "output_type": "stream",
     "text": [
      "Tweets tratados:\n",
      "Naive Bayes TF: 0.623238 (0.105182)\n",
      "Naive Bayes Vetor: 0.623810 (0.117807)\n",
      "Logistic Regression TF: 0.646667 (0.111450)\n",
      "Logistic Regression Vetor: 0.644667 (0.120095)\n",
      "RandomForest TF: 0.584635 (0.114181)\n",
      "RandomForest Vetor: 0.594667 (0.117473)\n",
      "SVM TF: 0.628698 (0.117932)\n",
      "SVM Vetor: 0.600635 (0.117284)\n",
      "\n",
      "Tweets sem tratamento:\n",
      "Naive Bayes TF: 0.656349 (0.101899)\n",
      "Naive Bayes Vetor: 0.639143 (0.106364)\n",
      "Logistic Regression TF: 0.668127 (0.110726)\n",
      "Logistic Regression Vetor: 0.653111 (0.106765)\n",
      "RandomForest TF: 0.616857 (0.119581)\n",
      "RandomForest Vetor: 0.621111 (0.115299)\n",
      "SVM TF: 0.665302 (0.104326)\n",
      "SVM Vetor: 0.649270 (0.113112)\n"
     ]
    }
   ],
   "source": [
    "# Avaliação dos modelos com os conjuntos de treino:\n",
    "models = []\n",
    "results = []\n",
    "names = []\n",
    "models.append(('Naive Bayes TF', MultinomialNB(), TfidfVectorizer()))\n",
    "models.append(('Naive Bayes Vetor', MultinomialNB(), CountVectorizer(analyzer='word')))\n",
    "models.append(('Logistic Regression TF', LogisticRegression(solver='lbfgs'), TfidfVectorizer()))\n",
    "models.append(('Logistic Regression Vetor', LogisticRegression(solver='lbfgs'), CountVectorizer(analyzer='word')))\n",
    "models.append(('RandomForest TF', RandomForestClassifier(), TfidfVectorizer()))\n",
    "models.append(('RandomForest Vetor', RandomForestClassifier(), CountVectorizer(analyzer='word')))\n",
    "models.append(('SVM TF', SVC(), TfidfVectorizer()))\n",
    "models.append(('SVM Vetor', SVC(), CountVectorizer(analyzer='word')))\n",
    "\n",
    "print('Tweets tratados:')\n",
    "for name, model, vector in models:\n",
    "    text_counts = vector.fit_transform(df_classificacao['text_token'])\n",
    "    x_train,x_test,y_train,y_test=train_test_split(text_counts,df_classificacao['sentiment_class'],test_size=0.3,random_state=1)\n",
    "    cv_results = cross_val_score(model, x_train, y_train, cv=cv, scoring=scoring)\n",
    "    results.append(cv_results)\n",
    "    names.append(name)\n",
    "    msg = \"%s: %f (%f)\" % (name, cv_results.mean(), cv_results.std())\n",
    "    print(msg)\n",
    "\n",
    "print()\n",
    "print('Tweets sem tratamento:')\n",
    "for name, model, vector in models:\n",
    "    text_counts = vector.fit_transform(df_classificacao['text_process'])\n",
    "    x_train,x_test,y_train,y_test=train_test_split(text_counts,df_classificacao['sentiment_class'],test_size=0.3,random_state=1)\n",
    "    cv_results = cross_val_score(model, x_train, y_train, cv=cv, scoring=scoring)\n",
    "    results.append(cv_results)\n",
    "    names.append(name)\n",
    "    msg = \"%s: %f (%f)\" % (name, cv_results.mean(), cv_results.std())\n",
    "    print(msg)"
   ]
  },
  {
   "cell_type": "code",
   "execution_count": null,
   "metadata": {},
   "outputs": [],
   "source": [
    "# Regressão Logística - Sem tratamento nos tweets\n",
    "x_train,x_test,y_train,y_test=train_test_split(df_classificacao['text_process'],df_classificacao['sentiment_class'],test_size=0.3,random_state=1)\n",
    "text_clf = Pipeline([('vect', CountVectorizer(analyzer='word')),('tfidf', TfidfTransformer()),('clf', LogisticRegression())])\n",
    "\n",
    "# Auto-tuning\n",
    "parameters = {\n",
    "    'vect__ngram_range': [(1, 1), (1, 2), (1, 3)],\n",
    "    'tfidf__use_idf': (True, False),\n",
    "    'clf__C': [1000, 100, 10, 1], \n",
    "    'clf__penalty': ['l1', 'l2', None],\n",
    "    'clf__solver': ['newton-cg', 'lbfgs', 'liblinear']\n",
    " }\n",
    "gs_clf = GridSearchCV(text_clf, param_grid=parameters, n_jobs=-1, cv=cv)\n",
    "gs_clf.fit(x_train,y_train) \n",
    "\n",
    "gs_predicted = gs_clf.predict(x_test)\n",
    "rl_tunned = metricas(y_test,gs_predicted)\n",
    "print('Métricas:')\n",
    "print(rl_tunned)\n",
    "\n",
    "print('Melhores parâmetros:')\n",
    "print(gs_clf.best_params_)"
   ]
  },
  {
   "cell_type": "code",
   "execution_count": null,
   "metadata": {},
   "outputs": [],
   "source": [
    "# Regressão Logística - Com tratamento nos tweets\n",
    "x_train,x_test,y_train,y_test=train_test_split(df_classificacao['text_token'],df_classificacao['sentiment_class'],test_size=0.3,random_state=1)\n",
    "text_clf = Pipeline([('vect', CountVectorizer(analyzer='word')),('tfidf', TfidfTransformer()),('clf', LogisticRegression())])\n",
    "\n",
    "# Auto-tuning\n",
    "parameters = {\n",
    "    'vect__ngram_range': [(1, 1), (1, 2), (1, 3)],\n",
    "    'tfidf__use_idf': (True, False),\n",
    "    'clf__C': [1000, 100, 10, 1], \n",
    "    'clf__penalty': ['l1', 'l2', None],\n",
    "    'clf__solver': ['newton-cg', 'lbfgs', 'liblinear']\n",
    " }\n",
    "gs_clf = GridSearchCV(text_clf, param_grid=parameters, n_jobs=-1, cv=cv)\n",
    "gs_clf.fit(x_train,y_train) \n",
    "\n",
    "gs_predicted = gs_clf.predict(x_test)\n",
    "rl_tunned = metricas(y_test,gs_predicted)\n",
    "print('Métricas:')\n",
    "print(rl_tunned)\n",
    "\n",
    "print('Melhores parâmetros:')\n",
    "print(gs_clf.best_params_)"
   ]
  },
  {
   "cell_type": "code",
   "execution_count": null,
   "metadata": {},
   "outputs": [],
   "source": [
    "# Naive Bayes - Sem tratamento nos tweets\n",
    "x_train,x_test,y_train,y_test=train_test_split(df_classificacao['text_process'],df_classificacao['sentiment_class'],test_size=0.3,random_state=1)\n",
    "text_clf = Pipeline([('vect', CountVectorizer()),('tfidf', TfidfTransformer()),('clf', MultinomialNB())])\n",
    "\n",
    "# Auto-tuning\n",
    "parameters = {'vect__ngram_range': [(1, 1), (1, 2), (1, 3)],\n",
    "              'tfidf__use_idf': (True, False),\n",
    "              'clf__fit_prior': (True, False),\n",
    "              'clf__alpha': (0.01, 0.05, 0.06, 0.07, 0.08, 0.09, 0.1, 0.11, 0.5, 1.0)}\n",
    "gs_clf = GridSearchCV(text_clf, parameters, n_jobs=-1, cv=cv)\n",
    "gs_clf.fit(x_train,y_train) \n",
    "\n",
    "gs_predicted = gs_clf.predict(x_test)\n",
    "nb_tunned = metricas(y_test,gs_predicted)\n",
    "print('Métricas:')\n",
    "print(nb_tunned)\n",
    "\n",
    "print('Melhores parâmetros:')\n",
    "print(gs_clf.best_params_)"
   ]
  },
  {
   "cell_type": "code",
   "execution_count": null,
   "metadata": {},
   "outputs": [],
   "source": [
    "# Naive Bayes - Com tratamento nos tweets\n",
    "x_train,x_test,y_train,y_test=train_test_split(df_classificacao['text_token'],df_classificacao['sentiment_class'],test_size=0.3,random_state=1)\n",
    "text_clf = Pipeline([('vect', CountVectorizer()),('tfidf', TfidfTransformer()),('clf', MultinomialNB())])\n",
    "\n",
    "# Auto-tuning\n",
    "parameters = {'vect__ngram_range': [(1, 1), (1, 2), (1, 3)],\n",
    "              'tfidf__use_idf': (True, False),\n",
    "              'clf__fit_prior': (True, False),\n",
    "              'clf__alpha': (0, 0.01, 0.02, 0.03, 0.04, 0.05, 0.1, 0.2, 0.5, 1.0)}\n",
    "gs_clf = GridSearchCV(text_clf, parameters, n_jobs=-1, cv=cv)\n",
    "gs_clf.fit(x_train,y_train) \n",
    "\n",
    "gs_predicted = gs_clf.predict(x_test)\n",
    "nb_tunned = metricas(y_test,gs_predicted)\n",
    "print('Métricas:')\n",
    "print(nb_tunned)\n",
    "\n",
    "print('Melhores parâmetros:')\n",
    "print(gs_clf.best_params_)"
   ]
  },
  {
   "cell_type": "code",
   "execution_count": null,
   "metadata": {},
   "outputs": [],
   "source": [
    "# SVM - Sem tratamento nos tweets\n",
    "x_train,x_test,y_train,y_test=train_test_split(df_classificacao['text_process'],df_classificacao['sentiment_class'],test_size=0.3,random_state=1)\n",
    "text_clf = Pipeline([('vect', CountVectorizer()),('tfidf', TfidfTransformer()),('clf', SVC())])\n",
    "\n",
    "# Auto-tuning\n",
    "parameters = {'vect__ngram_range': [(1, 1), (1, 2), (1, 3)],\n",
    "              'tfidf__use_idf': (True, False),\n",
    "              'clf__gamma': [0.01, 0.1, 1.0, 10],\n",
    "              'clf__C': [10, 11, 12, 13, 14, 15, 20, 50]}\n",
    "gs_clf = GridSearchCV(text_clf, parameters, n_jobs=-1, cv=cv)\n",
    "gs_clf.fit(x_train,y_train) \n",
    "\n",
    "gs_predicted = gs_clf.predict(x_test)\n",
    "svm_tunned = metricas(y_test,gs_predicted)\n",
    "print('Métricas:')\n",
    "print(svm_tunned)\n",
    "\n",
    "print('Melhores parâmetros:')\n",
    "print(gs_clf.best_params_)"
   ]
  },
  {
   "cell_type": "code",
   "execution_count": null,
   "metadata": {},
   "outputs": [],
   "source": [
    "# SVM - Com tratamento nos tweets\n",
    "x_train,x_test,y_train,y_test=train_test_split(df_classificacao['text_token'],df_classificacao['sentiment_class'],test_size=0.3,random_state=1)\n",
    "text_clf = Pipeline([('vect', CountVectorizer()),('tfidf', TfidfTransformer()),('clf', SVC())])\n",
    "\n",
    "# Auto-tuning\n",
    "parameters = {'vect__ngram_range': [(1, 1), (1, 2), (1, 3)],\n",
    "              'tfidf__use_idf': (True, False),\n",
    "              'clf__gamma': [0.01, 0.1, 1.0, 10, 100],\n",
    "              'clf__C': [430,440,445,450]}\n",
    "gs_clf = GridSearchCV(text_clf, parameters, n_jobs=-1, cv=cv)\n",
    "gs_clf.fit(x_train,y_train) \n",
    "\n",
    "gs_predicted = gs_clf.predict(x_test)\n",
    "svm_tunned = metricas(y_test,gs_predicted)\n",
    "print('Métricas:')\n",
    "print(svm_tunned)\n",
    "\n",
    "print('Melhores parâmetros:')\n",
    "print(gs_clf.best_params_)"
   ]
  },
  {
   "cell_type": "markdown",
   "metadata": {},
   "source": [
    "### Comparativo dos resultados\n",
    "\n"
   ]
  },
  {
   "cell_type": "markdown",
   "metadata": {},
   "source": [
    "Sem melhorar os modelos:\n",
    "\n",
    "| **Modelo**           | **Tratamento de Tweets** | **Vetorização** | **Acurácia Média** |\n",
    "|----------------------|--------------------------|-----------------|--------------------|\n",
    "| Naive Bayes          | Sim                      | Sem TfId        | 62,4%              |\n",
    "| Naive Bayes          | Sim                      | Com TfId        | 62,3%              |\n",
    "| Naive Bayes          | Não                      | Sem TfId        | 63,9%              |\n",
    "| Naive Bayes          | Não                      | Com TfId        | 65,6%              |\n",
    "| Regressão Logística  | Sim                      | Sem TfId        | 64,5%              |\n",
    "| Regressão Logística  | Sim                      | Com TfId        | 64,7%              |\n",
    "| Regressão Logística  | Não                      | Sem TfId        | 65,3%              |\n",
    "| Regressão Logística  | Não                      | Com TfId        | 66,8%              |\n",
    "| Florestas Aleatórias | Sim                      | Sem TfId        | 59,5%              |\n",
    "| Florestas Aleatórias | Sim                      | Com TfId        | 59,8%              |\n",
    "| Florestas Aleatórias | Não                      | Sem TfId        | 62,3%              |\n",
    "| Florestas Aleatórias | Não                      | Com TfId        | 62,1%              |\n",
    "| SVM                  | Sim                      | Sem TfId        | 60,0%              |\n",
    "| SVM                  | Sim                      | Com TfId        | 62,8%              |\n",
    "| SVM                  | Não                      | Sem TfId        | 64,9%              |\n",
    "| SVM                  | Não                      | Com TfId        | 66,5%              |\n",
    "\n",
    "**Melhor Resultado:** Regressão Logística com tweets não tratados e sem Tf-Id"
   ]
  },
  {
   "cell_type": "markdown",
   "metadata": {},
   "source": [
    "Melhorando os modelos através de ajustes nos parâmetros:\n",
    "\n",
    "| **Modelo**          | **Tratamento de Tweets** | **Agrupamento de Palavras** | **Acurácia** | **MCC** | **F1** |\n",
    "|---------------------|--------------------------|-----------------------------|--------------|---------|--------|\n",
    "| Regressão Logística | Não                      | Bigramas                    | 68,9%        | 43,6%   | 58,6%  |\n",
    "| Regressão Logística | Sim                      | Bigramas                    | 71,0%        | 47,7%   | 62,7%  |\n",
    "| Naive Bayes         | Não                      | Trigramas                   | 73,2%        | 51,3%   | 62,1%  |\n",
    "| Naive Bayes         | Sim                      | Bigramas                    | 72,1%        | 49,6%   | 63,1%  |\n",
    "| SVM                 | Não                      | Trigramas                   | 71,0%        | 47,4%   | 60,5%  |\n",
    "| SVM                 | Sim                      | Trigramas                   | 71,0%        | 47,7%   | 62,7%  |\n",
    "\n",
    "Cálculo dos Ranks:\n",
    "\n",
    "| **Modelo**        | **Acurácia** | **F1** | **Rank Médio** |\n",
    "|-------------------|--------------|--------|----------------|\n",
    "| RL s/ Tratamento  | 4            | 5      | 4,5            |\n",
    "| RL c/ Tratamento  | 3            | 2      | 2,5            |\n",
    "| NB s/ Tratamento  | 1            | 3      | 2,0            |\n",
    "| NB c/ Tratamento  | 2            | 1      | 1,5            |\n",
    "| SVM s/ Tratamento | 3            | 4      | 3,5            |\n",
    "| SVM c/ Tratamento | 3            | 2      | 2,5            |\n",
    "\n",
    "\n",
    "**Melhor Resultado:** Naive Bayes com trigramas e tratamento de tweets. "
   ]
  },
  {
   "cell_type": "markdown",
   "metadata": {},
   "source": [
    "### Teste com combinação de modelos"
   ]
  },
  {
   "cell_type": "code",
   "execution_count": 13,
   "metadata": {},
   "outputs": [],
   "source": [
    "# Desenho do Melhor Modelo NB:\n",
    "vectorizer = CountVectorizer(ngram_range=(1,3))\n",
    "model = MultinomialNB(alpha=0.07, fit_prior=True)\n",
    "text_counts = vectorizer.fit_transform(df_classificacao['text_process'])\n",
    "x_train,x_test,y_train,y_test=train_test_split(text_counts,df_classificacao['sentiment_class'],test_size=0.3,random_state=1)\n",
    "model.fit(x_train,y_train)\n",
    "\n",
    "true_text = vectorizer.transform(df_classificacao['text_process'])\n",
    "df_classificacao['sentiment_pred_nb'] = model.predict(true_text)\n",
    "\n",
    "# Desenho do 3º Melhor Modelo RL:\n",
    "vectorizer = CountVectorizer(ngram_range=(1,2))\n",
    "model = LogisticRegression(C=100, penalty='l2', solver='liblinear')\n",
    "text_counts = vectorizer.fit_transform(df_classificacao['text_process'])\n",
    "x_train,x_test,y_train,y_test=train_test_split(text_counts,df_classificacao['sentiment_class'],test_size=0.3,random_state=1)\n",
    "model.fit(x_train,y_train)\n",
    "\n",
    "true_text = vectorizer.transform(df_classificacao['text_process'])\n",
    "df_classificacao['sentiment_pred_rl'] = model.predict(true_text)\n",
    "\n",
    "# Desenho do 3º Melhor Modelo SVM:\n",
    "vectorizer = CountVectorizer(ngram_range=(1,3))\n",
    "model = SVC(gamma=0.1, C=12)\n",
    "text_counts = vectorizer.fit_transform(df_classificacao['text_process'])\n",
    "x_train,x_test,y_train,y_test=train_test_split(text_counts,df_classificacao['sentiment_class'],test_size=0.3,random_state=1)\n",
    "model.fit(x_train,y_train)\n",
    "\n",
    "true_text = vectorizer.transform(df_classificacao['text_process'])\n",
    "df_classificacao['sentiment_pred_svm'] = model.predict(true_text)\n"
   ]
  },
  {
   "cell_type": "code",
   "execution_count": 42,
   "metadata": {},
   "outputs": [
    {
     "data": {
      "text/html": [
       "<div>\n",
       "<style scoped>\n",
       "    .dataframe tbody tr th:only-of-type {\n",
       "        vertical-align: middle;\n",
       "    }\n",
       "\n",
       "    .dataframe tbody tr th {\n",
       "        vertical-align: top;\n",
       "    }\n",
       "\n",
       "    .dataframe thead th {\n",
       "        text-align: right;\n",
       "    }\n",
       "</style>\n",
       "<table border=\"1\" class=\"dataframe\">\n",
       "  <thead>\n",
       "    <tr style=\"text-align: right;\">\n",
       "      <th></th>\n",
       "      <th>texto</th>\n",
       "      <th>sentiment_pred_soft_class</th>\n",
       "      <th>sentimento</th>\n",
       "      <th>sentiment_pred_hard_class</th>\n",
       "    </tr>\n",
       "  </thead>\n",
       "  <tbody>\n",
       "    <tr>\n",
       "      <th>0</th>\n",
       "      <td>@OficialCoelba Sabem o que são mais de 5 horas...</td>\n",
       "      <td>-1</td>\n",
       "      <td>Negativo</td>\n",
       "      <td>-1</td>\n",
       "    </tr>\n",
       "    <tr>\n",
       "      <th>1</th>\n",
       "      <td>eu tinha TANTO trabalho hoje mas TANTO e a coe...</td>\n",
       "      <td>-1</td>\n",
       "      <td>Negativo</td>\n",
       "      <td>-1</td>\n",
       "    </tr>\n",
       "    <tr>\n",
       "      <th>2</th>\n",
       "      <td>Coelba descobre furto de energia em empresa pr...</td>\n",
       "      <td>0</td>\n",
       "      <td>Neutro</td>\n",
       "      <td>0</td>\n",
       "    </tr>\n",
       "    <tr>\n",
       "      <th>3</th>\n",
       "      <td>A Coelba quer cortar minha energia socorro gen...</td>\n",
       "      <td>0</td>\n",
       "      <td>Negativo</td>\n",
       "      <td>0</td>\n",
       "    </tr>\n",
       "    <tr>\n",
       "      <th>4</th>\n",
       "      <td>Coelba sua desgraça, isso é hora de cair energ...</td>\n",
       "      <td>-1</td>\n",
       "      <td>Negativo</td>\n",
       "      <td>-1</td>\n",
       "    </tr>\n",
       "  </tbody>\n",
       "</table>\n",
       "</div>"
      ],
      "text/plain": [
       "                                               texto  \\\n",
       "0  @OficialCoelba Sabem o que são mais de 5 horas...   \n",
       "1  eu tinha TANTO trabalho hoje mas TANTO e a coe...   \n",
       "2  Coelba descobre furto de energia em empresa pr...   \n",
       "3  A Coelba quer cortar minha energia socorro gen...   \n",
       "4  Coelba sua desgraça, isso é hora de cair energ...   \n",
       "\n",
       "   sentiment_pred_soft_class sentimento  sentiment_pred_hard_class  \n",
       "0                         -1   Negativo                         -1  \n",
       "1                         -1   Negativo                         -1  \n",
       "2                          0     Neutro                          0  \n",
       "3                          0   Negativo                          0  \n",
       "4                         -1   Negativo                         -1  "
      ]
     },
     "execution_count": 42,
     "metadata": {},
     "output_type": "execute_result"
    }
   ],
   "source": [
    "# Classificação final do teste:\n",
    "df_classificacao['sentiment_pred_soft']=(df_classificacao['sentiment_pred_nb']+df_classificacao['sentiment_pred_rl']+df_classificacao['sentiment_pred_svm'])/3\n",
    "df_classificacao['sentiment_pred_soft_desc'] = 'Neutro'\n",
    "df_classificacao['sentiment_pred_soft_desc']=np.where(df_classificacao['sentiment_pred_soft'] < 0, 'Negativo', df_classificacao['sentiment_pred_soft_desc'])\n",
    "df_classificacao['sentiment_pred_soft_desc']=np.where(df_classificacao['sentiment_pred_soft'] > 0, 'Positivo', df_classificacao['sentiment_pred_soft_desc'])\n",
    "df_classificacao['sentiment_pred_soft_class'] = 0\n",
    "df_classificacao['sentiment_pred_soft_class']=np.where(df_classificacao['sentiment_pred_soft'] < 0, -1, df_classificacao['sentiment_pred_soft_class'])\n",
    "df_classificacao['sentiment_pred_soft_class']=np.where(df_classificacao['sentiment_pred_soft'] > 0, 1, df_classificacao['sentiment_pred_soft_class'])\n",
    "\n",
    "def most_common():\n",
    "    for s in df_classificacao[['sentiment_pred_nb','sentiment_pred_rl','sentiment_pred_svm']].to_numpy():\n",
    "        k, v = Counter(s).most_common(1)[0] \n",
    "        yield 0 if v == 1 else k\n",
    "\n",
    "df_classificacao['sentiment_pred_hard_class'] = list(most_common())\n",
    "\n",
    "df_classificacao[['texto','sentiment_pred_soft_class','sentimento', 'sentiment_pred_hard_class']].head()"
   ]
  },
  {
   "cell_type": "code",
   "execution_count": 43,
   "metadata": {},
   "outputs": [
    {
     "data": {
      "text/html": [
       "<div>\n",
       "<style scoped>\n",
       "    .dataframe tbody tr th:only-of-type {\n",
       "        vertical-align: middle;\n",
       "    }\n",
       "\n",
       "    .dataframe tbody tr th {\n",
       "        vertical-align: top;\n",
       "    }\n",
       "\n",
       "    .dataframe thead th {\n",
       "        text-align: right;\n",
       "    }\n",
       "</style>\n",
       "<table border=\"1\" class=\"dataframe\">\n",
       "  <thead>\n",
       "    <tr style=\"text-align: right;\">\n",
       "      <th></th>\n",
       "      <th>texto</th>\n",
       "      <th>sentiment_pred_soft_class</th>\n",
       "      <th>sentiment_class</th>\n",
       "      <th>sentiment_pred_nb</th>\n",
       "      <th>sentiment_pred_rl</th>\n",
       "      <th>sentiment_pred_svm</th>\n",
       "      <th>sentiment_pred_hard_class</th>\n",
       "    </tr>\n",
       "  </thead>\n",
       "  <tbody>\n",
       "    <tr>\n",
       "      <th>59</th>\n",
       "      <td>Energia feminina: COELBA contrata 74 mulheres ...</td>\n",
       "      <td>1</td>\n",
       "      <td>1</td>\n",
       "      <td>1</td>\n",
       "      <td>0</td>\n",
       "      <td>0</td>\n",
       "      <td>0</td>\n",
       "    </tr>\n",
       "    <tr>\n",
       "      <th>60</th>\n",
       "      <td>tomara que lorena processe a coelba 🙏🏽🙏🏽</td>\n",
       "      <td>1</td>\n",
       "      <td>-1</td>\n",
       "      <td>1</td>\n",
       "      <td>0</td>\n",
       "      <td>0</td>\n",
       "      <td>0</td>\n",
       "    </tr>\n",
       "    <tr>\n",
       "      <th>135</th>\n",
       "      <td>Parece q a coelba consertou a energia de menin...</td>\n",
       "      <td>1</td>\n",
       "      <td>1</td>\n",
       "      <td>1</td>\n",
       "      <td>0</td>\n",
       "      <td>0</td>\n",
       "      <td>0</td>\n",
       "    </tr>\n",
       "    <tr>\n",
       "      <th>179</th>\n",
       "      <td>@Jonassyt Será q a Coelba não paga o prejuízo?</td>\n",
       "      <td>-1</td>\n",
       "      <td>0</td>\n",
       "      <td>-1</td>\n",
       "      <td>0</td>\n",
       "      <td>0</td>\n",
       "      <td>0</td>\n",
       "    </tr>\n",
       "    <tr>\n",
       "      <th>197</th>\n",
       "      <td>COELBA INFERNOOOOOOOOO</td>\n",
       "      <td>1</td>\n",
       "      <td>-1</td>\n",
       "      <td>1</td>\n",
       "      <td>0</td>\n",
       "      <td>0</td>\n",
       "      <td>0</td>\n",
       "    </tr>\n",
       "  </tbody>\n",
       "</table>\n",
       "</div>"
      ],
      "text/plain": [
       "                                                 texto  \\\n",
       "59   Energia feminina: COELBA contrata 74 mulheres ...   \n",
       "60            tomara que lorena processe a coelba 🙏🏽🙏🏽   \n",
       "135  Parece q a coelba consertou a energia de menin...   \n",
       "179     @Jonassyt Será q a Coelba não paga o prejuízo?   \n",
       "197                             COELBA INFERNOOOOOOOOO   \n",
       "\n",
       "     sentiment_pred_soft_class  sentiment_class  sentiment_pred_nb  \\\n",
       "59                           1                1                  1   \n",
       "60                           1               -1                  1   \n",
       "135                          1                1                  1   \n",
       "179                         -1                0                 -1   \n",
       "197                          1               -1                  1   \n",
       "\n",
       "     sentiment_pred_rl  sentiment_pred_svm  sentiment_pred_hard_class  \n",
       "59                   0                   0                          0  \n",
       "60                   0                   0                          0  \n",
       "135                  0                   0                          0  \n",
       "179                  0                   0                          0  \n",
       "197                  0                   0                          0  "
      ]
     },
     "execution_count": 43,
     "metadata": {},
     "output_type": "execute_result"
    }
   ],
   "source": [
    "df_classificacao[df_classificacao['sentiment_pred_hard_class'] != df_classificacao['sentiment_pred_soft_class']][['texto','sentiment_pred_soft_class','sentiment_class','sentiment_pred_nb','sentiment_pred_rl','sentiment_pred_svm', 'sentiment_pred_hard_class']].head()"
   ]
  },
  {
   "cell_type": "code",
   "execution_count": null,
   "metadata": {},
   "outputs": [],
   "source": [
    "# Comparativo modelos:\n",
    "comp_models = metricas(df_classificacao['sentiment_class'],df_classificacao['sentiment_pred_hard_class'])\n",
    "print(comp_models)\n",
    "\n",
    "mc_models = mc(df_classificacao['sentiment_class'],df_classificacao['sentiment_pred_hard_class'])\n",
    "print(mc_models)"
   ]
  },
  {
   "cell_type": "code",
   "execution_count": 45,
   "metadata": {},
   "outputs": [
    {
     "name": "stdout",
     "output_type": "stream",
     "text": [
      "{'acc': 0.8765822784810127, 'mcc': 0.7884305949439189, 'r': 0.8671691427013766, 'p': 0.8451348868286979, 'f1': 0.8550092620385813}\n",
      "Predito   -1    0   1\n",
      "Real                 \n",
      "-1       273   20   6\n",
      " 0        33  232  10\n",
      " 1         1    8  49\n"
     ]
    }
   ],
   "source": [
    "# Comparativo modelos:\n",
    "comp_models = metricas(df_classificacao['sentiment_class'],df_classificacao['sentiment_pred_soft_class'])\n",
    "print(comp_models)\n",
    "\n",
    "mc_models = mc(df_classificacao['sentiment_class'],df_classificacao['sentiment_pred_soft_class'])\n",
    "print(mc_models)"
   ]
  },
  {
   "cell_type": "code",
   "execution_count": null,
   "metadata": {},
   "outputs": [],
   "source": [
    "df_classificacao[df_classificacao['sentiment_class'] != df_classificacao['sentiment_pred_soft_class']][['texto','sentiment_class','sentiment_pred_soft_class']].head(10)"
   ]
  },
  {
   "cell_type": "code",
   "execution_count": 46,
   "metadata": {},
   "outputs": [
    {
     "data": {
      "text/html": [
       "<div>\n",
       "<style scoped>\n",
       "    .dataframe tbody tr th:only-of-type {\n",
       "        vertical-align: middle;\n",
       "    }\n",
       "\n",
       "    .dataframe tbody tr th {\n",
       "        vertical-align: top;\n",
       "    }\n",
       "\n",
       "    .dataframe thead th {\n",
       "        text-align: right;\n",
       "    }\n",
       "</style>\n",
       "<table border=\"1\" class=\"dataframe\">\n",
       "  <thead>\n",
       "    <tr style=\"text-align: right;\">\n",
       "      <th></th>\n",
       "      <th>id</th>\n",
       "      <th>texto</th>\n",
       "      <th>sentimento</th>\n",
       "      <th>sentiment_class</th>\n",
       "      <th>sentiment_pred_nb</th>\n",
       "      <th>sentiment_pred_rl</th>\n",
       "      <th>sentiment_pred_svm</th>\n",
       "      <th>sentiment_lexicon</th>\n",
       "      <th>sentiment_lexicon_class</th>\n",
       "    </tr>\n",
       "  </thead>\n",
       "  <tbody>\n",
       "    <tr>\n",
       "      <th>0</th>\n",
       "      <td>0</td>\n",
       "      <td>@OficialCoelba Sabem o que são mais de 5 horas...</td>\n",
       "      <td>Negativo</td>\n",
       "      <td>-1</td>\n",
       "      <td>1</td>\n",
       "      <td>-1</td>\n",
       "      <td>-1</td>\n",
       "      <td>Neutro</td>\n",
       "      <td>0</td>\n",
       "    </tr>\n",
       "    <tr>\n",
       "      <th>1</th>\n",
       "      <td>1</td>\n",
       "      <td>eu tinha TANTO trabalho hoje mas TANTO e a coe...</td>\n",
       "      <td>Negativo</td>\n",
       "      <td>-1</td>\n",
       "      <td>-1</td>\n",
       "      <td>-1</td>\n",
       "      <td>-1</td>\n",
       "      <td>Negativo</td>\n",
       "      <td>-1</td>\n",
       "    </tr>\n",
       "    <tr>\n",
       "      <th>2</th>\n",
       "      <td>2</td>\n",
       "      <td>Coelba descobre furto de energia em empresa pr...</td>\n",
       "      <td>Neutro</td>\n",
       "      <td>0</td>\n",
       "      <td>0</td>\n",
       "      <td>0</td>\n",
       "      <td>0</td>\n",
       "      <td>Neutro</td>\n",
       "      <td>0</td>\n",
       "    </tr>\n",
       "    <tr>\n",
       "      <th>3</th>\n",
       "      <td>3</td>\n",
       "      <td>A Coelba quer cortar minha energia socorro gen...</td>\n",
       "      <td>Negativo</td>\n",
       "      <td>-1</td>\n",
       "      <td>1</td>\n",
       "      <td>-1</td>\n",
       "      <td>0</td>\n",
       "      <td>Negativo</td>\n",
       "      <td>-1</td>\n",
       "    </tr>\n",
       "    <tr>\n",
       "      <th>4</th>\n",
       "      <td>4</td>\n",
       "      <td>Coelba sua desgraça, isso é hora de cair energ...</td>\n",
       "      <td>Negativo</td>\n",
       "      <td>-1</td>\n",
       "      <td>-1</td>\n",
       "      <td>-1</td>\n",
       "      <td>-1</td>\n",
       "      <td>Negativo</td>\n",
       "      <td>-1</td>\n",
       "    </tr>\n",
       "  </tbody>\n",
       "</table>\n",
       "</div>"
      ],
      "text/plain": [
       "   id                                              texto sentimento  \\\n",
       "0   0  @OficialCoelba Sabem o que são mais de 5 horas...   Negativo   \n",
       "1   1  eu tinha TANTO trabalho hoje mas TANTO e a coe...   Negativo   \n",
       "2   2  Coelba descobre furto de energia em empresa pr...     Neutro   \n",
       "3   3  A Coelba quer cortar minha energia socorro gen...   Negativo   \n",
       "4   4  Coelba sua desgraça, isso é hora de cair energ...   Negativo   \n",
       "\n",
       "   sentiment_class  sentiment_pred_nb  sentiment_pred_rl  sentiment_pred_svm  \\\n",
       "0               -1                  1                 -1                  -1   \n",
       "1               -1                 -1                 -1                  -1   \n",
       "2                0                  0                  0                   0   \n",
       "3               -1                  1                 -1                   0   \n",
       "4               -1                 -1                 -1                  -1   \n",
       "\n",
       "  sentiment_lexicon  sentiment_lexicon_class  \n",
       "0            Neutro                        0  \n",
       "1          Negativo                       -1  \n",
       "2            Neutro                        0  \n",
       "3          Negativo                       -1  \n",
       "4          Negativo                       -1  "
      ]
     },
     "execution_count": 46,
     "metadata": {},
     "output_type": "execute_result"
    }
   ],
   "source": [
    "# Com combinação do lexiconPT:\n",
    "df_polaridade=pd.read_csv('apoio/polaridade-tweets-teste.csv', encoding='latin1')\n",
    "df_novo=df_classificacao.reset_index(level=0)\n",
    "df_novo = df_novo.rename(columns={'index':'id'})\n",
    "df_novo = pd.merge(df_novo, df_polaridade, how='left', on = 'id')\n",
    "df_novo = df_novo[['id','texto_x','sentimento','sentiment_class','sentiment_pred_nb','sentiment_pred_rl','sentiment_pred_svm','sentimento_final']]\n",
    "df_novo = df_novo.rename(columns={ 'sentimento_final':'sentiment_lexicon', 'texto_x':'texto'})\n",
    "df_novo['sentiment_lexicon'] = np.where(df_novo['sentiment_lexicon'].isna(), 'Neutro', df_novo['sentiment_lexicon'])\n",
    "df_novo['sentiment_lexicon_class'] = 0\n",
    "df_novo['sentiment_lexicon_class'] = np.where(df_novo['sentiment_lexicon'] == 'Positivo', 1, df_novo['sentiment_lexicon_class'])\n",
    "df_novo['sentiment_lexicon_class'] = np.where(df_novo['sentiment_lexicon'] == 'Negativo', -1, df_novo['sentiment_lexicon_class'])\n",
    "df_novo.head()"
   ]
  },
  {
   "cell_type": "code",
   "execution_count": 47,
   "metadata": {},
   "outputs": [],
   "source": [
    "# Dimensões de valores:\n",
    "df_novo['sentiment_pred_sum']=(df_novo['sentiment_pred_nb']+df_novo['sentiment_pred_rl']+df_novo['sentiment_pred_svm']+df_novo['sentiment_lexicon_class'])/4\n",
    "df_novo['sentiment_pred_soft'] = 0\n",
    "df_novo['sentiment_pred_soft'] = np.where(df_novo['sentiment_pred_sum'] > 0, 1, df_novo['sentiment_pred_soft'])\n",
    "df_novo['sentiment_pred_soft'] = np.where(df_novo['sentiment_pred_sum'] < 0, -1, df_novo['sentiment_pred_soft'])\n",
    "df_total=pd.DataFrame(df_polaridade.groupby(by=df_novo['sentiment_pred_soft'])['id'].count()).reset_index(level=0).sort_values(by='id', ascending=False)\n",
    "\n",
    "# Função para encontrar o sentimento mais comum entre os 4 modelos por tweet:\n",
    "def most_common():\n",
    "    for s in df_novo[['sentiment_pred_nb','sentiment_pred_rl','sentiment_pred_svm','sentiment_lexicon_class']].to_numpy():\n",
    "        k, v = Counter(s).most_common(1)[0] \n",
    "        yield '-' if v == 1 else k\n",
    "\n",
    "df_novo['sentiment_pred_hard'] = list(most_common())"
   ]
  },
  {
   "cell_type": "code",
   "execution_count": 48,
   "metadata": {},
   "outputs": [
    {
     "name": "stdout",
     "output_type": "stream",
     "text": [
      "{'acc': 0.7231012658227848, 'mcc': 0.5719713637367628, 'r': 0.7723657052592584, 'p': 0.6940090763228687, 'f1': 0.6836126667906619}\n",
      "Predito   -1    0   1\n",
      "Real                 \n",
      "-1       272   16  11\n",
      " 0        91  131  53\n",
      " 1         2    2  54\n"
     ]
    }
   ],
   "source": [
    "# Comparativo modelos:\n",
    "comp_models = metricas(df_novo['sentiment_class'],df_novo['sentiment_pred_soft'])\n",
    "print(comp_models)\n",
    "\n",
    "mc_models = mc(df_novo['sentiment_class'],df_novo['sentiment_pred_soft'])\n",
    "print(mc_models)"
   ]
  },
  {
   "cell_type": "code",
   "execution_count": 49,
   "metadata": {},
   "outputs": [
    {
     "name": "stdout",
     "output_type": "stream",
     "text": [
      "{'acc': 0.8718354430379747, 'mcc': 0.7866419125622659, 'r': 0.863727367085688, 'p': 0.802734272003375, 'f1': 0.8237375081434171}\n",
      "Predito   -1    0   1\n",
      "Real                 \n",
      "-1       271   13  15\n",
      " 0        22  231  22\n",
      " 1         1    8  49\n"
     ]
    }
   ],
   "source": [
    "# Comparativo modelos:\n",
    "comp_models = metricas(df_novo['sentiment_class'],df_novo['sentiment_pred_hard'])\n",
    "print(comp_models)\n",
    "\n",
    "mc_models = mc(df_novo['sentiment_class'],df_novo['sentiment_pred_hard'])\n",
    "print(mc_models)"
   ]
  },
  {
   "cell_type": "markdown",
   "metadata": {},
   "source": [
    "### Aplicação o modelo no conjunto de dados"
   ]
  },
  {
   "cell_type": "code",
   "execution_count": 14,
   "metadata": {},
   "outputs": [
    {
     "data": {
      "text/html": [
       "<div>\n",
       "<style scoped>\n",
       "    .dataframe tbody tr th:only-of-type {\n",
       "        vertical-align: middle;\n",
       "    }\n",
       "\n",
       "    .dataframe tbody tr th {\n",
       "        vertical-align: top;\n",
       "    }\n",
       "\n",
       "    .dataframe thead th {\n",
       "        text-align: right;\n",
       "    }\n",
       "</style>\n",
       "<table border=\"1\" class=\"dataframe\">\n",
       "  <thead>\n",
       "    <tr style=\"text-align: right;\">\n",
       "      <th></th>\n",
       "      <th>sentiment_pred_nb</th>\n",
       "      <th>id</th>\n",
       "    </tr>\n",
       "  </thead>\n",
       "  <tbody>\n",
       "    <tr>\n",
       "      <th>0</th>\n",
       "      <td>-1</td>\n",
       "      <td>7198</td>\n",
       "    </tr>\n",
       "    <tr>\n",
       "      <th>1</th>\n",
       "      <td>0</td>\n",
       "      <td>4381</td>\n",
       "    </tr>\n",
       "    <tr>\n",
       "      <th>2</th>\n",
       "      <td>1</td>\n",
       "      <td>1002</td>\n",
       "    </tr>\n",
       "  </tbody>\n",
       "</table>\n",
       "</div>"
      ],
      "text/plain": [
       "   sentiment_pred_nb    id\n",
       "0                 -1  7198\n",
       "1                  0  4381\n",
       "2                  1  1002"
      ]
     },
     "execution_count": 14,
     "metadata": {},
     "output_type": "execute_result"
    }
   ],
   "source": [
    "# Desenho do Melhor Modelo NB:\n",
    "vectorizer = CountVectorizer(ngram_range=(1,3))\n",
    "model = MultinomialNB(alpha=0.07, fit_prior=True)\n",
    "text_counts = vectorizer.fit_transform(df_classificacao['text_process'])\n",
    "x_train,x_test,y_train,y_test=train_test_split(text_counts,df_classificacao['sentiment_class'],test_size=0.3,random_state=1)\n",
    "model.fit(x_train,y_train)\n",
    "\n",
    "# Aplicação no DF:\n",
    "true_text = vectorizer.transform(df['text_process'])\n",
    "df['sentiment_pred_nb'] = model.predict(true_text)\n",
    "\n",
    "# Ajuste dos sentimentos:\n",
    "df_sent_nb=pd.DataFrame(df.groupby(by=df['sentiment_pred_nb'])['id'].count()).reset_index(level=0).sort_values(by='id', ascending=False)\n",
    "df_sent_nb.head()"
   ]
  },
  {
   "cell_type": "code",
   "execution_count": 16,
   "metadata": {},
   "outputs": [
    {
     "data": {
      "text/html": [
       "<div>\n",
       "<style scoped>\n",
       "    .dataframe tbody tr th:only-of-type {\n",
       "        vertical-align: middle;\n",
       "    }\n",
       "\n",
       "    .dataframe tbody tr th {\n",
       "        vertical-align: top;\n",
       "    }\n",
       "\n",
       "    .dataframe thead th {\n",
       "        text-align: right;\n",
       "    }\n",
       "</style>\n",
       "<table border=\"1\" class=\"dataframe\">\n",
       "  <thead>\n",
       "    <tr style=\"text-align: right;\">\n",
       "      <th></th>\n",
       "      <th>sentiment_pred_rl</th>\n",
       "      <th>id</th>\n",
       "    </tr>\n",
       "  </thead>\n",
       "  <tbody>\n",
       "    <tr>\n",
       "      <th>1</th>\n",
       "      <td>0</td>\n",
       "      <td>6724</td>\n",
       "    </tr>\n",
       "    <tr>\n",
       "      <th>0</th>\n",
       "      <td>-1</td>\n",
       "      <td>5550</td>\n",
       "    </tr>\n",
       "    <tr>\n",
       "      <th>2</th>\n",
       "      <td>1</td>\n",
       "      <td>307</td>\n",
       "    </tr>\n",
       "  </tbody>\n",
       "</table>\n",
       "</div>"
      ],
      "text/plain": [
       "   sentiment_pred_rl    id\n",
       "1                  0  6724\n",
       "0                 -1  5550\n",
       "2                  1   307"
      ]
     },
     "execution_count": 16,
     "metadata": {},
     "output_type": "execute_result"
    }
   ],
   "source": [
    "# Desenho do 3º Melhor Modelo RL:\n",
    "vectorizer = CountVectorizer(ngram_range=(1,2))\n",
    "model = LogisticRegression(C=100, penalty='l2', solver='liblinear')\n",
    "text_counts = vectorizer.fit_transform(df_classificacao['text_process'])\n",
    "x_train,x_test,y_train,y_test=train_test_split(text_counts,df_classificacao['sentiment_class'],test_size=0.3,random_state=1)\n",
    "model.fit(x_train,y_train)\n",
    "\n",
    "# Aplicação no DF:\n",
    "true_text = vectorizer.transform(df['text_process'])\n",
    "df['sentiment_pred_rl'] = model.predict(true_text)\n",
    "\n",
    "# Ajuste dos sentimentos:\n",
    "df_sent_rl=pd.DataFrame(df.groupby(by=df['sentiment_pred_rl'])['id'].count()).reset_index(level=0).sort_values(by='id', ascending=False)\n",
    "df_sent_rl.head()"
   ]
  },
  {
   "cell_type": "code",
   "execution_count": 17,
   "metadata": {},
   "outputs": [
    {
     "data": {
      "text/html": [
       "<div>\n",
       "<style scoped>\n",
       "    .dataframe tbody tr th:only-of-type {\n",
       "        vertical-align: middle;\n",
       "    }\n",
       "\n",
       "    .dataframe tbody tr th {\n",
       "        vertical-align: top;\n",
       "    }\n",
       "\n",
       "    .dataframe thead th {\n",
       "        text-align: right;\n",
       "    }\n",
       "</style>\n",
       "<table border=\"1\" class=\"dataframe\">\n",
       "  <thead>\n",
       "    <tr style=\"text-align: right;\">\n",
       "      <th></th>\n",
       "      <th>sentiment_pred_svm</th>\n",
       "      <th>id</th>\n",
       "    </tr>\n",
       "  </thead>\n",
       "  <tbody>\n",
       "    <tr>\n",
       "      <th>1</th>\n",
       "      <td>0</td>\n",
       "      <td>6977</td>\n",
       "    </tr>\n",
       "    <tr>\n",
       "      <th>0</th>\n",
       "      <td>-1</td>\n",
       "      <td>5479</td>\n",
       "    </tr>\n",
       "    <tr>\n",
       "      <th>2</th>\n",
       "      <td>1</td>\n",
       "      <td>125</td>\n",
       "    </tr>\n",
       "  </tbody>\n",
       "</table>\n",
       "</div>"
      ],
      "text/plain": [
       "   sentiment_pred_svm    id\n",
       "1                   0  6977\n",
       "0                  -1  5479\n",
       "2                   1   125"
      ]
     },
     "execution_count": 17,
     "metadata": {},
     "output_type": "execute_result"
    }
   ],
   "source": [
    "# Desenho do 3º Melhor Modelo SVM:\n",
    "vectorizer = CountVectorizer(ngram_range=(1,3))\n",
    "model = SVC(gamma=0.1, C=12)\n",
    "text_counts = vectorizer.fit_transform(df_classificacao['text_process'])\n",
    "x_train,x_test,y_train,y_test=train_test_split(text_counts,df_classificacao['sentiment_class'],test_size=0.3,random_state=1)\n",
    "model.fit(x_train,y_train)\n",
    "\n",
    "# Aplicação no DF:\n",
    "true_text = vectorizer.transform(df['text_process'])\n",
    "df['sentiment_pred_svm'] = model.predict(true_text)\n",
    "\n",
    "# Ajuste dos sentimentos:\n",
    "df_sent_svm=pd.DataFrame(df.groupby(by=df['sentiment_pred_svm'])['id'].count()).reset_index(level=0).sort_values(by='id', ascending=False)\n",
    "df_sent_svm.head()"
   ]
  },
  {
   "cell_type": "code",
   "execution_count": null,
   "metadata": {},
   "outputs": [],
   "source": [
    "df.to_csv('apoio/coelba-analise-sentimentos.csv')"
   ]
  },
  {
   "cell_type": "markdown",
   "metadata": {},
   "source": [
    "### Polaridade dos tweets"
   ]
  },
  {
   "cell_type": "markdown",
   "metadata": {},
   "source": [
    "Polaridade dos tweets calculada pelo LexiconPT. "
   ]
  },
  {
   "cell_type": "code",
   "execution_count": null,
   "metadata": {},
   "outputs": [],
   "source": [
    "df_polaridade = pd.read_csv('apoio/polaridade-tweets.csv', encoding='latin1')\n",
    "df_polaridade.info()\n"
   ]
  },
  {
   "cell_type": "code",
   "execution_count": 51,
   "metadata": {},
   "outputs": [
    {
     "data": {
      "image/png": "[encoded data removed]",
      "text/plain": [
       "<Figure size 1080x504 with 1 Axes>"
      ]
     },
     "metadata": {
      "needs_background": "light"
     },
     "output_type": "display_data"
    }
   ],
   "source": [
    "# Gráfico LexiconPT\n",
    "df_sent=pd.DataFrame(df_polaridade.groupby(by=df_polaridade['sentimento'])['id'].count()).reset_index(level=0).sort_values(by='id', ascending=False)\n",
    "plt.subplots(figsize=(15, 7))\n",
    "ax=sns.barplot(data=df_sent, x='id', y='sentimento', color='gray')\n",
    "sns.set_style('darkgrid')\n",
    "sns.despine(left=True,bottom=False)\n",
    "ax.set(xlabel='Qtd. Tweets gerados', ylabel='Sentimentos', title='Quantidade de tweets gerados por sentimentos')\n",
    "for container in ax.containers:\n",
    "    ax.bar_label(container, labels=[f'{x:,.0f}' for x in container.datavalues])\n",
    "plt.show()"
   ]
  },
  {
   "cell_type": "markdown",
   "metadata": {},
   "source": [
    "### Análise dos Sentimentos"
   ]
  },
  {
   "cell_type": "code",
   "execution_count": 18,
   "metadata": {},
   "outputs": [
    {
     "data": {
      "text/html": [
       "<div>\n",
       "<style scoped>\n",
       "    .dataframe tbody tr th:only-of-type {\n",
       "        vertical-align: middle;\n",
       "    }\n",
       "\n",
       "    .dataframe tbody tr th {\n",
       "        vertical-align: top;\n",
       "    }\n",
       "\n",
       "    .dataframe thead th {\n",
       "        text-align: right;\n",
       "    }\n",
       "</style>\n",
       "<table border=\"1\" class=\"dataframe\">\n",
       "  <thead>\n",
       "    <tr style=\"text-align: right;\">\n",
       "      <th></th>\n",
       "      <th>sentiment_pred_soft_desc</th>\n",
       "      <th>id</th>\n",
       "    </tr>\n",
       "  </thead>\n",
       "  <tbody>\n",
       "    <tr>\n",
       "      <th>0</th>\n",
       "      <td>Negativo</td>\n",
       "      <td>8673</td>\n",
       "    </tr>\n",
       "    <tr>\n",
       "      <th>1</th>\n",
       "      <td>Neutro</td>\n",
       "      <td>3240</td>\n",
       "    </tr>\n",
       "    <tr>\n",
       "      <th>2</th>\n",
       "      <td>Positivo</td>\n",
       "      <td>668</td>\n",
       "    </tr>\n",
       "  </tbody>\n",
       "</table>\n",
       "</div>"
      ],
      "text/plain": [
       "  sentiment_pred_soft_desc    id\n",
       "0                 Negativo  8673\n",
       "1                   Neutro  3240\n",
       "2                 Positivo   668"
      ]
     },
     "execution_count": 18,
     "metadata": {},
     "output_type": "execute_result"
    }
   ],
   "source": [
    "pd.set_option('display.max_colwidth', None)\n",
    "# Classificação:\n",
    "df['sentiment_pred_soft']=(df['sentiment_pred_nb']+df['sentiment_pred_rl']+df['sentiment_pred_svm'])/3\n",
    "df['sentiment_pred_soft_desc'] = 'Neutro'\n",
    "df['sentiment_pred_soft_desc']=np.where(df['sentiment_pred_soft'] < 0, 'Negativo', df['sentiment_pred_soft_desc'])\n",
    "df['sentiment_pred_soft_desc']=np.where(df['sentiment_pred_soft'] > 0, 'Positivo', df['sentiment_pred_soft_desc'])\n",
    "df_sent_desc=pd.DataFrame(df.groupby(by=df['sentiment_pred_soft_desc'])['id'].count()).reset_index(level=0).sort_values(by='id', ascending=False)\n",
    "df_sent_desc.head()"
   ]
  },
  {
   "cell_type": "code",
   "execution_count": 19,
   "metadata": {},
   "outputs": [
    {
     "data": {
      "image/png": "[encoded data removed]",
      "text/plain": [
       "<Figure size 1080x504 with 1 Axes>"
      ]
     },
     "metadata": {
      "needs_background": "light"
     },
     "output_type": "display_data"
    }
   ],
   "source": [
    "# Tweets x Sentimentos\n",
    "df_sent=pd.DataFrame(df.groupby(by=df['sentiment_pred_soft_desc'])['id'].count()).reset_index(level=0).sort_values(by='id', ascending=False)\n",
    "plt.subplots(figsize=(15, 7))\n",
    "ax=sns.barplot(data=df_sent, x='id', y='sentiment_pred_soft_desc', color='gray')\n",
    "sns.set_style('darkgrid')\n",
    "sns.despine(left=True,bottom=False)\n",
    "ax.set_xlabel('Qtd. Tweets gerados', fontsize=14)\n",
    "ax.set_ylabel('Sentimentos', fontsize=14)\n",
    "ax.tick_params(axis='both', labelsize=14)\n",
    "ax.set_title('Quantidade de tweets gerados por sentimentos', fontsize=16)\n",
    "for container in ax.containers:\n",
    "    ax.bar_label(container, labels=[f'{x:,.0f}' for x in container.datavalues], fontsize=14)\n",
    "plt.savefig(os.path.join(IMAGES_PATH, 'sentimento-qtd-soft.png'), bbox_inches='tight', pad_inches = 0)\n",
    "plt.show()"
   ]
  },
  {
   "cell_type": "code",
   "execution_count": 64,
   "metadata": {},
   "outputs": [],
   "source": [
    "# Montagem do dataframe com os sentimentos mais comuns:\n",
    "def most_common():\n",
    "    for s in df[['sentiment_pred_nb','sentiment_pred_rl','sentiment_pred_svm']].to_numpy():\n",
    "        k, v = Counter(s).most_common(1)[0] \n",
    "        yield 0 if v == 1 else k\n",
    "df['sentiment_pred_hard'] = list(most_common())\n",
    "df['sentiment_pred_hard_desc'] = 'Neutro'\n",
    "df['sentiment_pred_hard_desc'] = np.where(df['sentiment_pred_hard'] > 0, 'Positivo', df['sentiment_pred_hard_desc'])\n",
    "df['sentiment_pred_hard_desc'] = np.where(df['sentiment_pred_hard'] < 0, 'Negativo', df['sentiment_pred_hard_desc'])"
   ]
  },
  {
   "cell_type": "code",
   "execution_count": 65,
   "metadata": {},
   "outputs": [
    {
     "data": {
      "image/png": "[encoded data removed]",
      "text/plain": [
       "<Figure size 1080x504 with 1 Axes>"
      ]
     },
     "metadata": {},
     "output_type": "display_data"
    }
   ],
   "source": [
    "# Gráfico:\n",
    "df_total=pd.DataFrame(df.groupby(by=df['sentiment_pred_soft_desc'])['id'].count()).reset_index(level=0).sort_values(by='id', ascending=False)\n",
    "plt.subplots(figsize=(15, 7))\n",
    "ax=sns.barplot(data=df_total, x='id', y='sentiment_pred_soft_desc', color='gray')\n",
    "sns.set_style('darkgrid')\n",
    "sns.despine(left=True,bottom=False)\n",
    "ax.set(xlabel='Qtd. Tweets gerados', ylabel='Sentimentos', title='Quantidade de tweets gerados por sentimentos')\n",
    "for container in ax.containers:\n",
    "    ax.bar_label(container, labels=[f'{x:,.0f}' for x in container.datavalues])\n",
    "plt.savefig(os.path.join(IMAGES_PATH, 'sentimento-qtd-hard.png'))\n",
    "plt.show()"
   ]
  },
  {
   "cell_type": "code",
   "execution_count": 20,
   "metadata": {},
   "outputs": [
    {
     "data": {
      "text/html": [
       "<div>\n",
       "<style scoped>\n",
       "    .dataframe tbody tr th:only-of-type {\n",
       "        vertical-align: middle;\n",
       "    }\n",
       "\n",
       "    .dataframe tbody tr th {\n",
       "        vertical-align: top;\n",
       "    }\n",
       "\n",
       "    .dataframe thead th {\n",
       "        text-align: right;\n",
       "    }\n",
       "</style>\n",
       "<table border=\"1\" class=\"dataframe\">\n",
       "  <thead>\n",
       "    <tr style=\"text-align: right;\">\n",
       "      <th></th>\n",
       "      <th>text</th>\n",
       "      <th>sentiment_pred_soft_desc</th>\n",
       "    </tr>\n",
       "  </thead>\n",
       "  <tbody>\n",
       "    <tr>\n",
       "      <th>2</th>\n",
       "      <td>A coelba tá doidinha para me dar um PC novo... toda hora cai energia nessa cidade</td>\n",
       "      <td>Negativo</td>\n",
       "    </tr>\n",
       "    <tr>\n",
       "      <th>3</th>\n",
       "      <td>Mais de 8 horas sem energia é a porra dessa coelba não ajeitou vai pro inferno</td>\n",
       "      <td>Negativo</td>\n",
       "    </tr>\n",
       "    <tr>\n",
       "      <th>5</th>\n",
       "      <td>pelo amor de deus coelba me ajuda</td>\n",
       "      <td>Negativo</td>\n",
       "    </tr>\n",
       "    <tr>\n",
       "      <th>6</th>\n",
       "      <td>@hebernelas Vai dar certo, irmão! Foi a meta que eu botei quando vi um amigo com o crachá da COELBA… Deu certo! 🙏🏽</td>\n",
       "      <td>Negativo</td>\n",
       "    </tr>\n",
       "    <tr>\n",
       "      <th>7</th>\n",
       "      <td>QUE INFERNO COELBA</td>\n",
       "      <td>Negativo</td>\n",
       "    </tr>\n",
       "    <tr>\n",
       "      <th>8</th>\n",
       "      <td>maluco se vc passar la na coelba dps das 16:30, eh 100% de certeza que vou estar fazendo alguma maluquice</td>\n",
       "      <td>Negativo</td>\n",
       "    </tr>\n",
       "    <tr>\n",
       "      <th>11</th>\n",
       "      <td>Partiu esperar na fila da coelba 🤦🏻‍♀️</td>\n",
       "      <td>Negativo</td>\n",
       "    </tr>\n",
       "    <tr>\n",
       "      <th>15</th>\n",
       "      <td>o corno do vagabundo da coelba cortou a luz da rua toda na hora do meu banho 😠😠😠</td>\n",
       "      <td>Negativo</td>\n",
       "    </tr>\n",
       "    <tr>\n",
       "      <th>18</th>\n",
       "      <td>\"Eu sou de energia,  que energia ruim,  capto energias\"  trabalha na coelba,  tu acha que tem energia PIOR DO QUE A TUA FIA?</td>\n",
       "      <td>Negativo</td>\n",
       "    </tr>\n",
       "    <tr>\n",
       "      <th>22</th>\n",
       "      <td>Mesmo após dois meses de reclamações Coelba não resolve problema na Vila de Atalaia https://t.co/2a3My20AaO</td>\n",
       "      <td>Negativo</td>\n",
       "    </tr>\n",
       "  </tbody>\n",
       "</table>\n",
       "</div>"
      ],
      "text/plain": [
       "                                                                                                                            text  \\\n",
       "2                                              A coelba tá doidinha para me dar um PC novo... toda hora cai energia nessa cidade   \n",
       "3                                                 Mais de 8 horas sem energia é a porra dessa coelba não ajeitou vai pro inferno   \n",
       "5                                                                                              pelo amor de deus coelba me ajuda   \n",
       "6             @hebernelas Vai dar certo, irmão! Foi a meta que eu botei quando vi um amigo com o crachá da COELBA… Deu certo! 🙏🏽   \n",
       "7                                                                                                             QUE INFERNO COELBA   \n",
       "8                      maluco se vc passar la na coelba dps das 16:30, eh 100% de certeza que vou estar fazendo alguma maluquice   \n",
       "11                                                                                        Partiu esperar na fila da coelba 🤦🏻‍♀️   \n",
       "15                                              o corno do vagabundo da coelba cortou a luz da rua toda na hora do meu banho 😠😠😠   \n",
       "18  \"Eu sou de energia,  que energia ruim,  capto energias\"  trabalha na coelba,  tu acha que tem energia PIOR DO QUE A TUA FIA?   \n",
       "22                   Mesmo após dois meses de reclamações Coelba não resolve problema na Vila de Atalaia https://t.co/2a3My20AaO   \n",
       "\n",
       "   sentiment_pred_soft_desc  \n",
       "2                  Negativo  \n",
       "3                  Negativo  \n",
       "5                  Negativo  \n",
       "6                  Negativo  \n",
       "7                  Negativo  \n",
       "8                  Negativo  \n",
       "11                 Negativo  \n",
       "15                 Negativo  \n",
       "18                 Negativo  \n",
       "22                 Negativo  "
      ]
     },
     "execution_count": 20,
     "metadata": {},
     "output_type": "execute_result"
    }
   ],
   "source": [
    "# Exemplos de Tweets Negativo:\n",
    "pd.set_option('display.max_colwidth', None)\n",
    "df[df['sentiment_pred_soft_desc'] == 'Negativo'][['text','sentiment_pred_soft_desc']].head(10)"
   ]
  },
  {
   "cell_type": "code",
   "execution_count": 67,
   "metadata": {},
   "outputs": [
    {
     "data": {
      "text/html": [
       "<div>\n",
       "<style scoped>\n",
       "    .dataframe tbody tr th:only-of-type {\n",
       "        vertical-align: middle;\n",
       "    }\n",
       "\n",
       "    .dataframe tbody tr th {\n",
       "        vertical-align: top;\n",
       "    }\n",
       "\n",
       "    .dataframe thead th {\n",
       "        text-align: right;\n",
       "    }\n",
       "</style>\n",
       "<table border=\"1\" class=\"dataframe\">\n",
       "  <thead>\n",
       "    <tr style=\"text-align: right;\">\n",
       "      <th></th>\n",
       "      <th>text</th>\n",
       "      <th>sentiment_pred_soft_desc</th>\n",
       "    </tr>\n",
       "  </thead>\n",
       "  <tbody>\n",
       "    <tr>\n",
       "      <th>0</th>\n",
       "      <td>OBRA COELBA EM ONDINA PARECE ROMANCE DE JORGE AMADO: OBRA DO SEM FIM #Política https://t.co/OBlc9zLbCI</td>\n",
       "      <td>Neutro</td>\n",
       "    </tr>\n",
       "    <tr>\n",
       "      <th>4</th>\n",
       "      <td>Obra da Coelba em Ondina é uma vergonha e a Neoenergia não faria isso na Espanha https://t.co/Qu03fd9MWV</td>\n",
       "      <td>Neutro</td>\n",
       "    </tr>\n",
       "    <tr>\n",
       "      <th>9</th>\n",
       "      <td>@liviazord Chegar atrasado na aula pq tava na embasa e na coelba 🤡</td>\n",
       "      <td>Neutro</td>\n",
       "    </tr>\n",
       "    <tr>\n",
       "      <th>10</th>\n",
       "      <td>@cansadaprof E eu com meu prêmio da mostra de pesquisa do HGCA, mas a coelba e o senhorio não aceitam rs</td>\n",
       "      <td>Neutro</td>\n",
       "    </tr>\n",
       "    <tr>\n",
       "      <th>12</th>\n",
       "      <td>PARCERIA ENTRE PREFEITURA DE ILHÉUS E COELBA DISPONIBILIZA LÂMPADAS DE LED PARA POPULAÇÃO  https://t.co/lMAnUSytOS</td>\n",
       "      <td>Neutro</td>\n",
       "    </tr>\n",
       "    <tr>\n",
       "      <th>13</th>\n",
       "      <td>@Masbyyy quando eu passei de onibus na frente e vi tudo apagado jka entrei em depressao\\nalso tinha um caminhao da coelba la</td>\n",
       "      <td>Neutro</td>\n",
       "    </tr>\n",
       "    <tr>\n",
       "      <th>17</th>\n",
       "      <td>Rating Update for Companhia de Eletricidade do Estado da Bahia Coelba $CEEB3 https://t.co/7KApBrSIsY</td>\n",
       "      <td>Neutro</td>\n",
       "    </tr>\n",
       "    <tr>\n",
       "      <th>19</th>\n",
       "      <td>Parceria entre Prefeitura de Ilhéus e Coelba disponibiliza lâmpadas de LED para população\\nhttps://t.co/YgzPCVVNte</td>\n",
       "      <td>Neutro</td>\n",
       "    </tr>\n",
       "    <tr>\n",
       "      <th>20</th>\n",
       "      <td>@sassivis eu pergunto logo se é sócio da coelba kkkkk raiva</td>\n",
       "      <td>Neutro</td>\n",
       "    </tr>\n",
       "    <tr>\n",
       "      <th>21</th>\n",
       "      <td>RT @opretotaonn: Eu fico imaginando quando vejo passando (coelba, embasa, promotores de cervejas) cada surpresa que deve existir por trás d…</td>\n",
       "      <td>Neutro</td>\n",
       "    </tr>\n",
       "    <tr>\n",
       "      <th>25</th>\n",
       "      <td>Ter morado em 3 estados é falar que vai pagar a conta da Coelba, ops da Light, ops é Enel</td>\n",
       "      <td>Neutro</td>\n",
       "    </tr>\n",
       "    <tr>\n",
       "      <th>26</th>\n",
       "      <td>@quesiajaneb Autosabotagem quando a conta da coelba chega</td>\n",
       "      <td>Neutro</td>\n",
       "    </tr>\n",
       "    <tr>\n",
       "      <th>27</th>\n",
       "      <td>Obrigada coelba por ter ido lá na escola,e ter feito com q a gente fosse liberado mais cedo🤙🏻</td>\n",
       "      <td>Neutro</td>\n",
       "    </tr>\n",
       "    <tr>\n",
       "      <th>29</th>\n",
       "      <td>Coelba informa desligamento programado de energia em Cruz das Almas https://t.co/beLumZ0U58</td>\n",
       "      <td>Neutro</td>\n",
       "    </tr>\n",
       "    <tr>\n",
       "      <th>32</th>\n",
       "      <td>Neoenergia Coelba abre vaga para Técnico Meio Ambiente em SAJ https://t.co/i9j1eAkob4</td>\n",
       "      <td>Neutro</td>\n",
       "    </tr>\n",
       "    <tr>\n",
       "      <th>33</th>\n",
       "      <td>Neoenergia Coelba abre vaga para Técnico Meio Ambiente em SAJ https://t.co/w9jQZx0O7Z</td>\n",
       "      <td>Neutro</td>\n",
       "    </tr>\n",
       "    <tr>\n",
       "      <th>37</th>\n",
       "      <td>Candidato a deputado federal, Tum afirma que vai lutar na Câmara contra serviço mal prestado pela Coelba - https://t.co/8NmNyicdX5  \\n\\n#PNotícias #News #últimasnotícias #EmpurraPiatã #PiatãFM #Eleições #Bahia #Deputado #Coelba https://t.co/vqHBDH96pL</td>\n",
       "      <td>Neutro</td>\n",
       "    </tr>\n",
       "    <tr>\n",
       "      <th>38</th>\n",
       "      <td>coelba rata do lixão</td>\n",
       "      <td>Neutro</td>\n",
       "    </tr>\n",
       "    <tr>\n",
       "      <th>40</th>\n",
       "      <td>a coelba n gista de mim, certeza</td>\n",
       "      <td>Neutro</td>\n",
       "    </tr>\n",
       "    <tr>\n",
       "      <th>44</th>\n",
       "      <td>⚠️Devido incidente envolvendo carreta no Itaigara (Av. ACM) o acesso à Via Marginal do Itaigara desviado para a via principal. #Transalvador monitora e Coelba acionada. Não há registro de retenção no local</td>\n",
       "      <td>Neutro</td>\n",
       "    </tr>\n",
       "  </tbody>\n",
       "</table>\n",
       "</div>"
      ],
      "text/plain": [
       "                                                                                                                                                                                                                                                           text  \\\n",
       "0                                                                                                                                                        OBRA COELBA EM ONDINA PARECE ROMANCE DE JORGE AMADO: OBRA DO SEM FIM #Política https://t.co/OBlc9zLbCI   \n",
       "4                                                                                                                                                      Obra da Coelba em Ondina é uma vergonha e a Neoenergia não faria isso na Espanha https://t.co/Qu03fd9MWV   \n",
       "9                                                                                                                                                                                            @liviazord Chegar atrasado na aula pq tava na embasa e na coelba 🤡   \n",
       "10                                                                                                                                                     @cansadaprof E eu com meu prêmio da mostra de pesquisa do HGCA, mas a coelba e o senhorio não aceitam rs   \n",
       "12                                                                                                                                           PARCERIA ENTRE PREFEITURA DE ILHÉUS E COELBA DISPONIBILIZA LÂMPADAS DE LED PARA POPULAÇÃO  https://t.co/lMAnUSytOS   \n",
       "13                                                                                                                                 @Masbyyy quando eu passei de onibus na frente e vi tudo apagado jka entrei em depressao\\nalso tinha um caminhao da coelba la   \n",
       "17                                                                                                                                                         Rating Update for Companhia de Eletricidade do Estado da Bahia Coelba $CEEB3 https://t.co/7KApBrSIsY   \n",
       "19                                                                                                                                           Parceria entre Prefeitura de Ilhéus e Coelba disponibiliza lâmpadas de LED para população\\nhttps://t.co/YgzPCVVNte   \n",
       "20                                                                                                                                                                                                  @sassivis eu pergunto logo se é sócio da coelba kkkkk raiva   \n",
       "21                                                                                                                 RT @opretotaonn: Eu fico imaginando quando vejo passando (coelba, embasa, promotores de cervejas) cada surpresa que deve existir por trás d…   \n",
       "25                                                                                                                                                                    Ter morado em 3 estados é falar que vai pagar a conta da Coelba, ops da Light, ops é Enel   \n",
       "26                                                                                                                                                                                                    @quesiajaneb Autosabotagem quando a conta da coelba chega   \n",
       "27                                                                                                                                                                Obrigada coelba por ter ido lá na escola,e ter feito com q a gente fosse liberado mais cedo🤙🏻   \n",
       "29                                                                                                                                                                  Coelba informa desligamento programado de energia em Cruz das Almas https://t.co/beLumZ0U58   \n",
       "32                                                                                                                                                                        Neoenergia Coelba abre vaga para Técnico Meio Ambiente em SAJ https://t.co/i9j1eAkob4   \n",
       "33                                                                                                                                                                        Neoenergia Coelba abre vaga para Técnico Meio Ambiente em SAJ https://t.co/w9jQZx0O7Z   \n",
       "37  Candidato a deputado federal, Tum afirma que vai lutar na Câmara contra serviço mal prestado pela Coelba - https://t.co/8NmNyicdX5  \\n\\n#PNotícias #News #últimasnotícias #EmpurraPiatã #PiatãFM #Eleições #Bahia #Deputado #Coelba https://t.co/vqHBDH96pL   \n",
       "38                                                                                                                                                                                                                                         coelba rata do lixão   \n",
       "40                                                                                                                                                                                                                             a coelba n gista de mim, certeza   \n",
       "44                                                ⚠️Devido incidente envolvendo carreta no Itaigara (Av. ACM) o acesso à Via Marginal do Itaigara desviado para a via principal. #Transalvador monitora e Coelba acionada. Não há registro de retenção no local   \n",
       "\n",
       "   sentiment_pred_soft_desc  \n",
       "0                    Neutro  \n",
       "4                    Neutro  \n",
       "9                    Neutro  \n",
       "10                   Neutro  \n",
       "12                   Neutro  \n",
       "13                   Neutro  \n",
       "17                   Neutro  \n",
       "19                   Neutro  \n",
       "20                   Neutro  \n",
       "21                   Neutro  \n",
       "25                   Neutro  \n",
       "26                   Neutro  \n",
       "27                   Neutro  \n",
       "29                   Neutro  \n",
       "32                   Neutro  \n",
       "33                   Neutro  \n",
       "37                   Neutro  \n",
       "38                   Neutro  \n",
       "40                   Neutro  \n",
       "44                   Neutro  "
      ]
     },
     "execution_count": 67,
     "metadata": {},
     "output_type": "execute_result"
    }
   ],
   "source": [
    "# Exemplos de Tweets Neutro:\n",
    "pd.set_option('display.max_colwidth', None)\n",
    "df[df['sentiment_pred_soft_desc'] == 'Neutro'][['text','sentiment_pred_soft_desc']].head(20)"
   ]
  },
  {
   "cell_type": "code",
   "execution_count": 21,
   "metadata": {},
   "outputs": [
    {
     "data": {
      "text/html": [
       "<div>\n",
       "<style scoped>\n",
       "    .dataframe tbody tr th:only-of-type {\n",
       "        vertical-align: middle;\n",
       "    }\n",
       "\n",
       "    .dataframe tbody tr th {\n",
       "        vertical-align: top;\n",
       "    }\n",
       "\n",
       "    .dataframe thead th {\n",
       "        text-align: right;\n",
       "    }\n",
       "</style>\n",
       "<table border=\"1\" class=\"dataframe\">\n",
       "  <thead>\n",
       "    <tr style=\"text-align: right;\">\n",
       "      <th></th>\n",
       "      <th>text</th>\n",
       "      <th>sentiment_pred_soft_desc</th>\n",
       "    </tr>\n",
       "  </thead>\n",
       "  <tbody>\n",
       "    <tr>\n",
       "      <th>1</th>\n",
       "      <td>O q a Coelba faz em Ondina pela terceira vez no mesmo lugar? https://t.co/JiZ02iJ6zl</td>\n",
       "      <td>Positivo</td>\n",
       "    </tr>\n",
       "    <tr>\n",
       "      <th>14</th>\n",
       "      <td>@euholandinha @christiandemelo coelba, Nathalia, por gentileza com quem falo?</td>\n",
       "      <td>Positivo</td>\n",
       "    </tr>\n",
       "    <tr>\n",
       "      <th>16</th>\n",
       "      <td>Confira em nosso portal: \\nEmpresas e consumidores podem ajudar a OSID através do Projeto Vale Luz, da Neoenergia Coelba https://t.co/VkupKOHpbo https://t.co/uIT6a4t4B0</td>\n",
       "      <td>Positivo</td>\n",
       "    </tr>\n",
       "    <tr>\n",
       "      <th>34</th>\n",
       "      <td>Empresas e consumidores podem ajudar a OSID através do Projeto Vale Luz, da Neoenergia Coelba\\nhttps://t.co/Om633niFof https://t.co/XrqwK1B8qJ</td>\n",
       "      <td>Positivo</td>\n",
       "    </tr>\n",
       "    <tr>\n",
       "      <th>73</th>\n",
       "      <td>Por que compaixão não paga coelba nem embasa</td>\n",
       "      <td>Positivo</td>\n",
       "    </tr>\n",
       "    <tr>\n",
       "      <th>102</th>\n",
       "      <td>RT @marcelleal: Coelba automatizou 150 mil km de rede   - Jornal A Regiao  - https://t.co/GYbyr64gQx via @Shareaholic https://t.co/CndZwvp0…</td>\n",
       "      <td>Positivo</td>\n",
       "    </tr>\n",
       "    <tr>\n",
       "      <th>103</th>\n",
       "      <td>RT @marcelleal: Coelba automatizou 150 mil km de rede   - Jornal A Regiao  - https://t.co/GYbyr64gQx via @Shareaholic https://t.co/CndZwvp0…</td>\n",
       "      <td>Positivo</td>\n",
       "    </tr>\n",
       "    <tr>\n",
       "      <th>104</th>\n",
       "      <td>Coelba automatizou 150 mil km de rede   - Jornal A Regiao  - https://t.co/GYbyr64gQx via @Shareaholic https://t.co/CndZwvp0cj</td>\n",
       "      <td>Positivo</td>\n",
       "    </tr>\n",
       "    <tr>\n",
       "      <th>106</th>\n",
       "      <td>Investimento: 66 mil reais\\nCapacidade real: 1800 kWh (90% performance)\\nCapacidade nominal: 1923 kWh\\n\\nCom a geração dos valores acima irei distribuir para um total de 4 imóveis (1 da geradora e outras 3), todas residências no mesmo estado (Bahia) e distribuidora Coelba/Neoenergia</td>\n",
       "      <td>Positivo</td>\n",
       "    </tr>\n",
       "    <tr>\n",
       "      <th>136</th>\n",
       "      <td>RT @marcelleal: Coelba e Senai capacitam eletricistas   - Jornal A Regiao  - https://t.co/g6B1ZyiEgC via @Shareaholic https://t.co/naKQBjkF…</td>\n",
       "      <td>Positivo</td>\n",
       "    </tr>\n",
       "    <tr>\n",
       "      <th>137</th>\n",
       "      <td>RT @marcelleal: Coelba e Senai capacitam eletricistas   - Jornal A Regiao  - https://t.co/g6B1ZyiEgC via @Shareaholic https://t.co/naKQBjkF…</td>\n",
       "      <td>Positivo</td>\n",
       "    </tr>\n",
       "    <tr>\n",
       "      <th>138</th>\n",
       "      <td>Coelba e Senai capacitam eletricistas   - Jornal A Regiao  - https://t.co/g6B1ZyiEgC via @Shareaholic https://t.co/naKQBjkFCy</td>\n",
       "      <td>Positivo</td>\n",
       "    </tr>\n",
       "    <tr>\n",
       "      <th>246</th>\n",
       "      <td>RT @Acordacidade: Coelba realiza ação simultânea em 5 cidades para evitar incêndios em fiação\\nhttps://t.co/eUSDH0huvo https://t.co/ahMql5fJ…</td>\n",
       "      <td>Positivo</td>\n",
       "    </tr>\n",
       "    <tr>\n",
       "      <th>247</th>\n",
       "      <td>Neoenergia Coelba realiza ação simultânea em cinco municípios da Bahia para evitar chamas em fiação de telefonia\\nhttps://t.co/KNmCA1lhCw https://t.co/hiXQx6kLzg</td>\n",
       "      <td>Positivo</td>\n",
       "    </tr>\n",
       "    <tr>\n",
       "      <th>248</th>\n",
       "      <td>Coelba realiza ação simultânea em 5 cidades para evitar incêndios em fiação\\nhttps://t.co/eUSDH0huvo https://t.co/ahMql5fJxV</td>\n",
       "      <td>Positivo</td>\n",
       "    </tr>\n",
       "    <tr>\n",
       "      <th>258</th>\n",
       "      <td>Serão oferecidas 440 vagas para profissionais autônomos que atuam na área construção civil \\n\\n#ibahia #bahia #cursos\\n\\nhttps://t.co/zVOverC6V3</td>\n",
       "      <td>Positivo</td>\n",
       "    </tr>\n",
       "    <tr>\n",
       "      <th>265</th>\n",
       "      <td>Neoenergia, Coelba e Senai oferecem 440 vagas para curso online gratuito https://t.co/jtpbSjtYjl</td>\n",
       "      <td>Positivo</td>\n",
       "    </tr>\n",
       "    <tr>\n",
       "      <th>267</th>\n",
       "      <td>Neoenergia Coelba e Senai oferecem curso gratuito para profissionais da construção civil https://t.co/cJBVr4FAE0 #Bahia #Cursos #Destaques #Coelba https://t.co/QWBni8uCI9</td>\n",
       "      <td>Positivo</td>\n",
       "    </tr>\n",
       "    <tr>\n",
       "      <th>268</th>\n",
       "      <td>#Bahia #Cursos #Destaques Neoenergia Coelba e Senai oferecem curso gratuito para profissionais da construção civil https://t.co/EbhnHBLteA https://t.co/rsteWAN06r</td>\n",
       "      <td>Positivo</td>\n",
       "    </tr>\n",
       "    <tr>\n",
       "      <th>271</th>\n",
       "      <td>Curso gratuito para pedreiros, eletricistas e pintores é oferecido pelo Senai e Coelba; veja como se inscrever https://t.co/AcbAjCNKn8 https://t.co/AnKoqJUpiO</td>\n",
       "      <td>Positivo</td>\n",
       "    </tr>\n",
       "    <tr>\n",
       "      <th>274</th>\n",
       "      <td>Coelba e SENAI oferecem curso gratuito para profissionais da construção civil https://t.co/QpBMrkPlre</td>\n",
       "      <td>Positivo</td>\n",
       "    </tr>\n",
       "    <tr>\n",
       "      <th>276</th>\n",
       "      <td>Coelba e SENAI oferecem curso gratuito para profissionais da construção civil https://t.co/xIz5VGaq5h</td>\n",
       "      <td>Positivo</td>\n",
       "    </tr>\n",
       "    <tr>\n",
       "      <th>280</th>\n",
       "      <td>RT @claratteles: OBRIGADA COELBA 🙏🏽🙏🏽🙏🏽</td>\n",
       "      <td>Positivo</td>\n",
       "    </tr>\n",
       "    <tr>\n",
       "      <th>284</th>\n",
       "      <td>RT @claratteles: OBRIGADA COELBA 🙏🏽🙏🏽🙏🏽</td>\n",
       "      <td>Positivo</td>\n",
       "    </tr>\n",
       "    <tr>\n",
       "      <th>287</th>\n",
       "      <td>RT @claratteles: OBRIGADA COELBA 🙏🏽🙏🏽🙏🏽</td>\n",
       "      <td>Positivo</td>\n",
       "    </tr>\n",
       "    <tr>\n",
       "      <th>297</th>\n",
       "      <td>OBRIGADA COELBA 🙏🏽🙏🏽🙏🏽</td>\n",
       "      <td>Positivo</td>\n",
       "    </tr>\n",
       "    <tr>\n",
       "      <th>302</th>\n",
       "      <td>segundo dia sem aula coelba eu te amo</td>\n",
       "      <td>Positivo</td>\n",
       "    </tr>\n",
       "    <tr>\n",
       "      <th>310</th>\n",
       "      <td>Coelba eu te amo</td>\n",
       "      <td>Positivo</td>\n",
       "    </tr>\n",
       "    <tr>\n",
       "      <th>311</th>\n",
       "      <td>coelba, eu te amo</td>\n",
       "      <td>Positivo</td>\n",
       "    </tr>\n",
       "    <tr>\n",
       "      <th>315</th>\n",
       "      <td>@saturnuor coelba eu te amo</td>\n",
       "      <td>Positivo</td>\n",
       "    </tr>\n",
       "    <tr>\n",
       "      <th>346</th>\n",
       "      <td>Neoenergia Coelba realiza o projeto Comunidade Segura em Vila de Abrantes\\nhttps://t.co/ZtK9s8ORMP https://t.co/oqw28WZieG</td>\n",
       "      <td>Positivo</td>\n",
       "    </tr>\n",
       "    <tr>\n",
       "      <th>352</th>\n",
       "      <td>Em parceria com o SENAI, a empresa já formou 164 profissionais mulheres e tem oferecido turmas exclusivas para a capacitação de mais alunas\\n\\n#ibahia #bahia \\n\\nhttps://t.co/9Tpb7U8A2X</td>\n",
       "      <td>Positivo</td>\n",
       "    </tr>\n",
       "    <tr>\n",
       "      <th>354</th>\n",
       "      <td>Mt OBRIGADO coelba te amo</td>\n",
       "      <td>Positivo</td>\n",
       "    </tr>\n",
       "    <tr>\n",
       "      <th>396</th>\n",
       "      <td>@nandsnott Nada. Só se vc fosse adv da Coelba.</td>\n",
       "      <td>Positivo</td>\n",
       "    </tr>\n",
       "    <tr>\n",
       "      <th>397</th>\n",
       "      <td>eu tô emocionada pq minha coelba veio apenas míseros 36 reais gostaria de agradecer a todos os ventos de salvador que me fizeram evitar ventilador nesse mês de julho</td>\n",
       "      <td>Positivo</td>\n",
       "    </tr>\n",
       "    <tr>\n",
       "      <th>415</th>\n",
       "      <td>Passei o sonho todo procurando o número da coelba</td>\n",
       "      <td>Positivo</td>\n",
       "    </tr>\n",
       "    <tr>\n",
       "      <th>505</th>\n",
       "      <td>espero que a coelba faleça</td>\n",
       "      <td>Positivo</td>\n",
       "    </tr>\n",
       "    <tr>\n",
       "      <th>513</th>\n",
       "      <td>RT @marcelleal: Coelba vai premiar mulheres da arte   - Jornal A Regiao  - https://t.co/MM6LVexwnI via @Shareaholic https://t.co/VQwhvREZ0t</td>\n",
       "      <td>Positivo</td>\n",
       "    </tr>\n",
       "    <tr>\n",
       "      <th>514</th>\n",
       "      <td>RT @marcelleal: Coelba vai premiar mulheres da arte   - Jornal A Regiao  - https://t.co/MM6LVexwnI via @Shareaholic https://t.co/VQwhvREZ0t</td>\n",
       "      <td>Positivo</td>\n",
       "    </tr>\n",
       "    <tr>\n",
       "      <th>517</th>\n",
       "      <td>@marcoslauro Veio pra Bahia impedir a Coelba de cortar todos os gatos!</td>\n",
       "      <td>Positivo</td>\n",
       "    </tr>\n",
       "    <tr>\n",
       "      <th>532</th>\n",
       "      <td>RT @marcelleal: Coelba retira 62t de fios irregulares   - Jornal A Regiao  - https://t.co/A5gW6j1cNL via @Shareaholic https://t.co/WL1R9UZE…</td>\n",
       "      <td>Positivo</td>\n",
       "    </tr>\n",
       "    <tr>\n",
       "      <th>533</th>\n",
       "      <td>RT @marcelleal: Coelba retira 62t de fios irregulares   - Jornal A Regiao  - https://t.co/A5gW6j1cNL via @Shareaholic https://t.co/WL1R9UZE…</td>\n",
       "      <td>Positivo</td>\n",
       "    </tr>\n",
       "    <tr>\n",
       "      <th>534</th>\n",
       "      <td>Coelba retira 62t de fios irregulares   - Jornal A Regiao  - https://t.co/A5gW6j1cNL via @Shareaholic https://t.co/WL1R9UZEMt</td>\n",
       "      <td>Positivo</td>\n",
       "    </tr>\n",
       "    <tr>\n",
       "      <th>544</th>\n",
       "      <td>Ação do Ministério Público prevê multa diária de R$ 5 mil caso a medida não seja adotada https://t.co/0et36i3Xoj</td>\n",
       "      <td>Positivo</td>\n",
       "    </tr>\n",
       "    <tr>\n",
       "      <th>546</th>\n",
       "      <td>Te amo coelba!!!</td>\n",
       "      <td>Positivo</td>\n",
       "    </tr>\n",
       "    <tr>\n",
       "      <th>608</th>\n",
       "      <td>N sabia q precisava treinar com o da coelba ouvindo os melhores do pagodao, muito bom.</td>\n",
       "      <td>Positivo</td>\n",
       "    </tr>\n",
       "    <tr>\n",
       "      <th>617</th>\n",
       "      <td>ah, coelba, tenha santa paciência</td>\n",
       "      <td>Positivo</td>\n",
       "    </tr>\n",
       "    <tr>\n",
       "      <th>620</th>\n",
       "      <td>Chamas em fiação: Coelba reforça operação e remove 62 toneladas de fios de telefonia e internet\\nhttps://t.co/OfYeHhosQ7</td>\n",
       "      <td>Positivo</td>\n",
       "    </tr>\n",
       "    <tr>\n",
       "      <th>622</th>\n",
       "      <td>Chamas em fiação: Coelba reforça operação e remove 62 toneladas de fios de telefonia e internet https://t.co/TWeJI8JUsR</td>\n",
       "      <td>Positivo</td>\n",
       "    </tr>\n",
       "    <tr>\n",
       "      <th>642</th>\n",
       "      <td>RT @marcelleal: Coelba doa novas lâmpadas LED em Ipiaú   - Jornal A Regiao  - https://t.co/v1Z4nPrcZc via @Shareaholic https://t.co/pe5INDr…</td>\n",
       "      <td>Positivo</td>\n",
       "    </tr>\n",
       "  </tbody>\n",
       "</table>\n",
       "</div>"
      ],
      "text/plain": [
       "                                                                                                                                                                                                                                                                                            text  \\\n",
       "1                                                                                                                                                                                                           O q a Coelba faz em Ondina pela terceira vez no mesmo lugar? https://t.co/JiZ02iJ6zl   \n",
       "14                                                                                                                                                                                                                 @euholandinha @christiandemelo coelba, Nathalia, por gentileza com quem falo?   \n",
       "16                                                                                                                      Confira em nosso portal: \\nEmpresas e consumidores podem ajudar a OSID através do Projeto Vale Luz, da Neoenergia Coelba https://t.co/VkupKOHpbo https://t.co/uIT6a4t4B0   \n",
       "34                                                                                                                                                Empresas e consumidores podem ajudar a OSID através do Projeto Vale Luz, da Neoenergia Coelba\\nhttps://t.co/Om633niFof https://t.co/XrqwK1B8qJ   \n",
       "73                                                                                                                                                                                                                                                  Por que compaixão não paga coelba nem embasa   \n",
       "102                                                                                                                                                 RT @marcelleal: Coelba automatizou 150 mil km de rede   - Jornal A Regiao  - https://t.co/GYbyr64gQx via @Shareaholic https://t.co/CndZwvp0…   \n",
       "103                                                                                                                                                 RT @marcelleal: Coelba automatizou 150 mil km de rede   - Jornal A Regiao  - https://t.co/GYbyr64gQx via @Shareaholic https://t.co/CndZwvp0…   \n",
       "104                                                                                                                                                                Coelba automatizou 150 mil km de rede   - Jornal A Regiao  - https://t.co/GYbyr64gQx via @Shareaholic https://t.co/CndZwvp0cj   \n",
       "106  Investimento: 66 mil reais\\nCapacidade real: 1800 kWh (90% performance)\\nCapacidade nominal: 1923 kWh\\n\\nCom a geração dos valores acima irei distribuir para um total de 4 imóveis (1 da geradora e outras 3), todas residências no mesmo estado (Bahia) e distribuidora Coelba/Neoenergia   \n",
       "136                                                                                                                                                 RT @marcelleal: Coelba e Senai capacitam eletricistas   - Jornal A Regiao  - https://t.co/g6B1ZyiEgC via @Shareaholic https://t.co/naKQBjkF…   \n",
       "137                                                                                                                                                 RT @marcelleal: Coelba e Senai capacitam eletricistas   - Jornal A Regiao  - https://t.co/g6B1ZyiEgC via @Shareaholic https://t.co/naKQBjkF…   \n",
       "138                                                                                                                                                                Coelba e Senai capacitam eletricistas   - Jornal A Regiao  - https://t.co/g6B1ZyiEgC via @Shareaholic https://t.co/naKQBjkFCy   \n",
       "246                                                                                                                                                RT @Acordacidade: Coelba realiza ação simultânea em 5 cidades para evitar incêndios em fiação\\nhttps://t.co/eUSDH0huvo https://t.co/ahMql5fJ…   \n",
       "247                                                                                                                            Neoenergia Coelba realiza ação simultânea em cinco municípios da Bahia para evitar chamas em fiação de telefonia\\nhttps://t.co/KNmCA1lhCw https://t.co/hiXQx6kLzg   \n",
       "248                                                                                                                                                                 Coelba realiza ação simultânea em 5 cidades para evitar incêndios em fiação\\nhttps://t.co/eUSDH0huvo https://t.co/ahMql5fJxV   \n",
       "258                                                                                                                                             Serão oferecidas 440 vagas para profissionais autônomos que atuam na área construção civil \\n\\n#ibahia #bahia #cursos\\n\\nhttps://t.co/zVOverC6V3   \n",
       "265                                                                                                                                                                                             Neoenergia, Coelba e Senai oferecem 440 vagas para curso online gratuito https://t.co/jtpbSjtYjl   \n",
       "267                                                                                                                   Neoenergia Coelba e Senai oferecem curso gratuito para profissionais da construção civil https://t.co/cJBVr4FAE0 #Bahia #Cursos #Destaques #Coelba https://t.co/QWBni8uCI9   \n",
       "268                                                                                                                           #Bahia #Cursos #Destaques Neoenergia Coelba e Senai oferecem curso gratuito para profissionais da construção civil https://t.co/EbhnHBLteA https://t.co/rsteWAN06r   \n",
       "271                                                                                                                               Curso gratuito para pedreiros, eletricistas e pintores é oferecido pelo Senai e Coelba; veja como se inscrever https://t.co/AcbAjCNKn8 https://t.co/AnKoqJUpiO   \n",
       "274                                                                                                                                                                                        Coelba e SENAI oferecem curso gratuito para profissionais da construção civil https://t.co/QpBMrkPlre   \n",
       "276                                                                                                                                                                                        Coelba e SENAI oferecem curso gratuito para profissionais da construção civil https://t.co/xIz5VGaq5h   \n",
       "280                                                                                                                                                                                                                                                      RT @claratteles: OBRIGADA COELBA 🙏🏽🙏🏽🙏🏽   \n",
       "284                                                                                                                                                                                                                                                      RT @claratteles: OBRIGADA COELBA 🙏🏽🙏🏽🙏🏽   \n",
       "287                                                                                                                                                                                                                                                      RT @claratteles: OBRIGADA COELBA 🙏🏽🙏🏽🙏🏽   \n",
       "297                                                                                                                                                                                                                                                                       OBRIGADA COELBA 🙏🏽🙏🏽🙏🏽   \n",
       "302                                                                                                                                                                                                                                                        segundo dia sem aula coelba eu te amo   \n",
       "310                                                                                                                                                                                                                                                                             Coelba eu te amo   \n",
       "311                                                                                                                                                                                                                                                                            coelba, eu te amo   \n",
       "315                                                                                                                                                                                                                                                                  @saturnuor coelba eu te amo   \n",
       "346                                                                                                                                                                   Neoenergia Coelba realiza o projeto Comunidade Segura em Vila de Abrantes\\nhttps://t.co/ZtK9s8ORMP https://t.co/oqw28WZieG   \n",
       "352                                                                                                    Em parceria com o SENAI, a empresa já formou 164 profissionais mulheres e tem oferecido turmas exclusivas para a capacitação de mais alunas\\n\\n#ibahia #bahia \\n\\nhttps://t.co/9Tpb7U8A2X   \n",
       "354                                                                                                                                                                                                                                                                    Mt OBRIGADO coelba te amo   \n",
       "396                                                                                                                                                                                                                                               @nandsnott Nada. Só se vc fosse adv da Coelba.   \n",
       "397                                                                                                                        eu tô emocionada pq minha coelba veio apenas míseros 36 reais gostaria de agradecer a todos os ventos de salvador que me fizeram evitar ventilador nesse mês de julho   \n",
       "415                                                                                                                                                                                                                                            Passei o sonho todo procurando o número da coelba   \n",
       "505                                                                                                                                                                                                                                                                   espero que a coelba faleça   \n",
       "513                                                                                                                                                  RT @marcelleal: Coelba vai premiar mulheres da arte   - Jornal A Regiao  - https://t.co/MM6LVexwnI via @Shareaholic https://t.co/VQwhvREZ0t   \n",
       "514                                                                                                                                                  RT @marcelleal: Coelba vai premiar mulheres da arte   - Jornal A Regiao  - https://t.co/MM6LVexwnI via @Shareaholic https://t.co/VQwhvREZ0t   \n",
       "517                                                                                                                                                                                                                       @marcoslauro Veio pra Bahia impedir a Coelba de cortar todos os gatos!   \n",
       "532                                                                                                                                                 RT @marcelleal: Coelba retira 62t de fios irregulares   - Jornal A Regiao  - https://t.co/A5gW6j1cNL via @Shareaholic https://t.co/WL1R9UZE…   \n",
       "533                                                                                                                                                 RT @marcelleal: Coelba retira 62t de fios irregulares   - Jornal A Regiao  - https://t.co/A5gW6j1cNL via @Shareaholic https://t.co/WL1R9UZE…   \n",
       "534                                                                                                                                                                Coelba retira 62t de fios irregulares   - Jornal A Regiao  - https://t.co/A5gW6j1cNL via @Shareaholic https://t.co/WL1R9UZEMt   \n",
       "544                                                                                                                                                                             Ação do Ministério Público prevê multa diária de R$ 5 mil caso a medida não seja adotada https://t.co/0et36i3Xoj   \n",
       "546                                                                                                                                                                                                                                                                             Te amo coelba!!!   \n",
       "608                                                                                                                                                                                                       N sabia q precisava treinar com o da coelba ouvindo os melhores do pagodao, muito bom.   \n",
       "617                                                                                                                                                                                                                                                            ah, coelba, tenha santa paciência   \n",
       "620                                                                                                                                                                     Chamas em fiação: Coelba reforça operação e remove 62 toneladas de fios de telefonia e internet\\nhttps://t.co/OfYeHhosQ7   \n",
       "622                                                                                                                                                                      Chamas em fiação: Coelba reforça operação e remove 62 toneladas de fios de telefonia e internet https://t.co/TWeJI8JUsR   \n",
       "642                                                                                                                                                 RT @marcelleal: Coelba doa novas lâmpadas LED em Ipiaú   - Jornal A Regiao  - https://t.co/v1Z4nPrcZc via @Shareaholic https://t.co/pe5INDr…   \n",
       "\n",
       "    sentiment_pred_soft_desc  \n",
       "1                   Positivo  \n",
       "14                  Positivo  \n",
       "16                  Positivo  \n",
       "34                  Positivo  \n",
       "73                  Positivo  \n",
       "102                 Positivo  \n",
       "103                 Positivo  \n",
       "104                 Positivo  \n",
       "106                 Positivo  \n",
       "136                 Positivo  \n",
       "137                 Positivo  \n",
       "138                 Positivo  \n",
       "246                 Positivo  \n",
       "247                 Positivo  \n",
       "248                 Positivo  \n",
       "258                 Positivo  \n",
       "265                 Positivo  \n",
       "267                 Positivo  \n",
       "268                 Positivo  \n",
       "271                 Positivo  \n",
       "274                 Positivo  \n",
       "276                 Positivo  \n",
       "280                 Positivo  \n",
       "284                 Positivo  \n",
       "287                 Positivo  \n",
       "297                 Positivo  \n",
       "302                 Positivo  \n",
       "310                 Positivo  \n",
       "311                 Positivo  \n",
       "315                 Positivo  \n",
       "346                 Positivo  \n",
       "352                 Positivo  \n",
       "354                 Positivo  \n",
       "396                 Positivo  \n",
       "397                 Positivo  \n",
       "415                 Positivo  \n",
       "505                 Positivo  \n",
       "513                 Positivo  \n",
       "514                 Positivo  \n",
       "517                 Positivo  \n",
       "532                 Positivo  \n",
       "533                 Positivo  \n",
       "534                 Positivo  \n",
       "544                 Positivo  \n",
       "546                 Positivo  \n",
       "608                 Positivo  \n",
       "617                 Positivo  \n",
       "620                 Positivo  \n",
       "622                 Positivo  \n",
       "642                 Positivo  "
      ]
     },
     "execution_count": 21,
     "metadata": {},
     "output_type": "execute_result"
    }
   ],
   "source": [
    "# Exemplos de Tweets Positivo:\n",
    "pd.set_option('display.max_colwidth', None)\n",
    "df[df['sentiment_pred_soft_desc'] == 'Positivo'][['text','sentiment_pred_soft_desc']].head(50)"
   ]
  },
  {
   "cell_type": "code",
   "execution_count": null,
   "metadata": {},
   "outputs": [],
   "source": [
    "# Nuvem de palavras sentimentos positivos:\n",
    "words_cloud = ' '.join([word for word in df[df['sentiment_pred_soft_desc'] == 'Positivo']['text_token']])\n",
    "print_wordcloud(30,words_cloud,'sentimentos_positivo')"
   ]
  },
  {
   "cell_type": "code",
   "execution_count": null,
   "metadata": {},
   "outputs": [],
   "source": [
    "# Nuvem de palavras sentimentos negativos:\n",
    "words_cloud = ' '.join([word for word in df[df['sentiment_pred_soft_desc'] == 'Negativo']['text_token']])\n",
    "print_wordcloud(30,words_cloud,'sentimentos_negativos')"
   ]
  },
  {
   "cell_type": "code",
   "execution_count": null,
   "metadata": {},
   "outputs": [],
   "source": [
    "# Nuvem de palavras sentimentos Neutros:\n",
    "words_cloud = ' '.join([word for word in df[df['sentiment_pred_soft_desc'] == 'Neutro']['text_token']])\n",
    "print_wordcloud(30,words_cloud,'sentimentos_Neutros')"
   ]
  },
  {
   "cell_type": "code",
   "execution_count": null,
   "metadata": {},
   "outputs": [],
   "source": [
    "# Quantidade de palavras por sentimento:\n",
    "df_sent_qtd=df[['sentiment_pred_soft_desc','word_count']].reset_index(level=0)\n",
    "plt.subplots(figsize=(10, 5))\n",
    "sns.set_style('darkgrid')\n",
    "ax=sns.boxplot(x='sentiment_pred_soft_desc', y='word_count', data=df_sent_qtd, color='gray')\n",
    "ax.set(xlabel='Sentimento', ylabel='Qtd. de palavras no tweet', title='Quantidade de palavras no tweet por sentimento')\n",
    "plt.savefig(os.path.join(IMAGES_PATH, 'sentimento-qtd-palavras.png'))\n",
    "plt.show()"
   ]
  },
  {
   "cell_type": "code",
   "execution_count": null,
   "metadata": {},
   "outputs": [],
   "source": [
    "words_cloud = ' '.join([word for word in df[df['sentiment_pred_soft_desc'] == 'Positivo']['tag_token']])\n",
    "print_wordcloud(30,words_cloud,'tag_positiva')"
   ]
  },
  {
   "cell_type": "code",
   "execution_count": null,
   "metadata": {},
   "outputs": [],
   "source": [
    "# Sentimentos por hora do dia:\n",
    "df_sent_dt=df[['created_at','sentiment_pred_soft_desc','id']].reset_index()\n",
    "df_sent_dt['hour']=df_sent_dt['created_at'].dt.hour\n",
    "df_sent_dt=pd.DataFrame(df_sent_dt.groupby(by=['hour','sentiment_pred_soft_desc'])['id'].count()).reset_index()\n",
    "df_sent_dt['perc'] = df_sent_dt['id'] / df_sent_dt.groupby('hour')['id'].transform('sum')*100\n",
    "df_transpose = df_sent_dt.pivot_table('perc',['hour'], 'sentiment_pred_soft_desc').reset_index()\n",
    "ax=df_transpose.plot(\n",
    "    x = 'hour', \n",
    "    kind = 'bar', stacked = True, \n",
    "    figsize=(15,5), grid = True, \n",
    "    color=['red','yellow','green'])\n",
    "ax.set_xlabel('Hora do dia', fontsize=14)\n",
    "ax.tick_params(axis='both', labelsize=14)\n",
    "ax.set_ylabel('% dos Tweets', fontsize=14)\n",
    "ax.set_title('Sentimentos dos tweets por hora do dia', fontsize=16)\n",
    "plt.grid()\n",
    "plt.legend(['Negativo','Neutro','Positivo'], title = 'Sentimento', loc='lower right', prop={'size': 12} )\n",
    "plt.savefig(os.path.join(IMAGES_PATH, 'sentimentos-hora-do-dia.png'), bbox_inches='tight', pad_inches = 0)"
   ]
  },
  {
   "cell_type": "code",
   "execution_count": null,
   "metadata": {},
   "outputs": [],
   "source": [
    "df_sent_dt[df_sent_dt['sentiment_pred_soft_desc'] == 'Positivo'].sort_values(by='perc',ascending=False).head(15)"
   ]
  },
  {
   "cell_type": "code",
   "execution_count": null,
   "metadata": {},
   "outputs": [],
   "source": [
    "# Sentimentos por local:\n",
    "df_sent_loc=df[df['city_name'].notnull()][['text','city_name','sentiment_pred_soft_desc','id']]\n",
    "df_sent_loc=pd.DataFrame(df_sent_loc.groupby(by=['city_name','sentiment_pred_soft_desc'])['id'].count()).reset_index()\n",
    "df_sent_loc['perc'] = df_sent_loc['id'] / df_sent_loc.groupby('city_name')['id'].transform('sum')*100\n",
    "df_transpose = df_sent_loc.pivot_table('perc',['city_name'], 'sentiment_pred_soft_desc').reset_index()\n",
    "print('Tweets classificados nas cidades:')\n",
    "print(df_sent_loc.groupby(by=['sentiment_pred_soft_desc'])['id'].sum())"
   ]
  },
  {
   "cell_type": "code",
   "execution_count": null,
   "metadata": {},
   "outputs": [],
   "source": [
    "print('Cidades mais negativas:')\n",
    "print(df_sent_loc[df_sent_loc['sentiment_pred_soft_desc'] == 'Negativo'].sort_values(by='id', ascending=False).head())\n",
    "qtd = df_sent_loc[df_sent_loc['sentiment_pred_soft_desc'] == 'Negativo']['city_name'].count()\n",
    "print(f'Cidades com comentários negativos: {qtd}')\n",
    "qtd = df_sent_loc[(df_sent_loc['perc'] == 100) & (df_sent_loc['sentiment_pred_soft_desc'] == 'Negativo')]['city_name'].count()\n",
    "print(f'Cidades 100% negativas: {qtd}')\n",
    "print()\n",
    "print('Cidades mais positivas:')\n",
    "print(df_sent_loc[df_sent_loc['sentiment_pred_soft_desc'] == 'Positivo'].sort_values(by='id', ascending=False).head())\n",
    "qtd = df_sent_loc[df_sent_loc['sentiment_pred_soft_desc'] == 'Positivo']['city_name'].count()\n",
    "print(f'Cidades com comentários positivos: {qtd}')\n",
    "qtd = df_sent_loc[(df_sent_loc['perc'] == 100) & (df_sent_loc['sentiment_pred_soft_desc'] == 'Positivo')]['city_name'].count()\n",
    "print(f'Cidades 100% positivas: {qtd}')\n",
    "print()\n",
    "print('Cidades mais neutras:')\n",
    "print(df_sent_loc[df_sent_loc['sentiment_pred_soft_desc'] == 'Neutro'].sort_values(by='id', ascending=False).head())\n",
    "qtd = df_sent_loc[df_sent_loc['sentiment_pred_soft_desc'] == 'Neutro']['city_name'].count()\n",
    "print(f'Cidades com comentários neutros: {qtd}')\n",
    "qtd = df_sent_loc[(df_sent_loc['perc'] == 100) & (df_sent_loc['sentiment_pred_soft_desc'] == 'Neutro')]['city_name'].count()\n",
    "print(f'Cidades 100% neutras: {qtd}')\n"
   ]
  },
  {
   "cell_type": "code",
   "execution_count": null,
   "metadata": {},
   "outputs": [],
   "source": [
    "df_weekday=pd.DataFrame({'weekday':[0,1,2,3,4,5,6], 'name':['Segunda-Feira','Terça-Feira','Quarta-Feira','Quinta-Feira','Sexta-Feira','Sábado','Domingo']})\n",
    "#df_dt=pd.DataFrame(df.groupby(by=df['created_at'].dt.dayofweek)['id'].count()).reset_index(level=0).rename(columns={'created_at':'weekday','id':'qtd'})\n",
    "#df_dt=pd.merge(df_dt, df_weekday, how='left', on='weekday')\n",
    "\n",
    "# Sentimentos por dia da semana:\n",
    "df_sent_dt=df[['created_at','sentiment_pred_soft_desc','id']].reset_index()\n",
    "df_sent_dt['weekday']=df_sent_dt['created_at'].dt.dayofweek\n",
    "df_sent_dt=pd.merge(df_sent_dt, df_weekday, how='left', on='weekday')\n",
    "df_sent_dt_res=pd.DataFrame(df_sent_dt.groupby(by=['name','weekday','sentiment_pred_soft_desc'])['id'].count()).reset_index()\n",
    "df_sent_dt_res['perc'] = df_sent_dt_res['id'] / df_sent_dt_res.groupby('name')['id'].transform('sum')*100\n",
    "df_sent_dt_res=df_sent_dt_res.sort_values(by='weekday')\n",
    "df_transpose = df_sent_dt_res.pivot_table('perc',['name'], 'sentiment_pred_soft_desc').reset_index()\n",
    "print('Dias mais negativos:')\n",
    "print(df_sent_dt_res[df_sent_dt_res['sentiment_pred_soft_desc'] == 'Negativo'].sort_values(by='perc', ascending=False).head(7))\n",
    "print('Dias mais positivos:')\n",
    "print(df_sent_dt_res[df_sent_dt_res['sentiment_pred_soft_desc'] == 'Positivo'].sort_values(by='perc', ascending=False).head(7))\n",
    "print('Dias mais neutros:')\n",
    "print(df_sent_dt_res[df_sent_dt_res['sentiment_pred_soft_desc'] == 'Neutro'].sort_values(by='perc', ascending=False).head(7))"
   ]
  },
  {
   "cell_type": "markdown",
   "metadata": {},
   "source": [
    "## Tópicos dos Tweets:"
   ]
  },
  {
   "cell_type": "markdown",
   "metadata": {},
   "source": [
    "### Testes de modelos"
   ]
  },
  {
   "cell_type": "code",
   "execution_count": 22,
   "metadata": {},
   "outputs": [],
   "source": [
    "#Variáveis dos Modelos:\n",
    "n_folds=30 #Número de folds\n",
    "cv = RepeatedStratifiedKFold(n_splits=n_folds, n_repeats=5, random_state=1) #Geração do KFold\n",
    "scoring='accuracy' #Métrica de avaliação principal"
   ]
  },
  {
   "cell_type": "code",
   "execution_count": 23,
   "metadata": {},
   "outputs": [],
   "source": [
    "# Funções:\n",
    "def metricas(teste,predito):\n",
    "    nome={}\n",
    "    acc=metrics.accuracy_score(teste,predito)\n",
    "    mcc=metrics.matthews_corrcoef(teste,predito)\n",
    "    r=metrics.recall_score(teste,predito,average='macro')\n",
    "    p=metrics.precision_score(teste,predito,average='macro')\n",
    "    f1=metrics.f1_score(teste,predito,average='macro')\n",
    "    nome = dict(zip(['acc','mcc','r','p','f1'], [acc,mcc,r,p,f1]))\n",
    "    return nome\n",
    "\n",
    "def mc(teste,predito):\n",
    "    confusion_matrix = pd.crosstab(teste, predito, rownames=['Real'], colnames=['Predito'])\n",
    "    return confusion_matrix"
   ]
  },
  {
   "cell_type": "code",
   "execution_count": 24,
   "metadata": {},
   "outputs": [
    {
     "name": "stdout",
     "output_type": "stream",
     "text": [
      "Tweets tratados:\n",
      "Naive Bayes TF: 0.570635 (0.080674)\n",
      "Naive Bayes Vetor: 0.694508 (0.108777)\n",
      "Logistic Regression TF: 0.575587 (0.082994)\n",
      "Logistic Regression Vetor: 0.695651 (0.099291)\n",
      "RandomForest TF: 0.666254 (0.094716)\n",
      "RandomForest Vetor: 0.672635 (0.100824)\n",
      "SVM TF: 0.503365 (0.064168)\n",
      "SVM Vetor: 0.621619 (0.088506)\n",
      "\n",
      "Tweets sem tratamento:\n",
      "Naive Bayes TF: 0.543048 (0.062729)\n",
      "Naive Bayes Vetor: 0.737333 (0.101630)\n",
      "Logistic Regression TF: 0.612857 (0.076785)\n",
      "Logistic Regression Vetor: 0.704698 (0.108330)\n",
      "RandomForest TF: 0.654921 (0.090801)\n",
      "RandomForest Vetor: 0.669175 (0.092151)\n",
      "SVM TF: 0.545302 (0.069797)\n",
      "SVM Vetor: 0.643397 (0.095004)\n"
     ]
    }
   ],
   "source": [
    "import warnings\n",
    "warnings.filterwarnings(\"ignore\")\n",
    "# Avaliação dos modelos com os conjuntos de treino:\n",
    "models = []\n",
    "results = []\n",
    "names = []\n",
    "models.append(('Naive Bayes TF', MultinomialNB(), TfidfVectorizer()))\n",
    "models.append(('Naive Bayes Vetor', MultinomialNB(), CountVectorizer(analyzer='word')))\n",
    "models.append(('Logistic Regression TF', LogisticRegression(solver='lbfgs'), TfidfVectorizer()))\n",
    "models.append(('Logistic Regression Vetor', LogisticRegression(solver='lbfgs'), CountVectorizer(analyzer='word')))\n",
    "models.append(('RandomForest TF', RandomForestClassifier(), TfidfVectorizer()))\n",
    "models.append(('RandomForest Vetor', RandomForestClassifier(), CountVectorizer(analyzer='word')))\n",
    "models.append(('SVM TF', SVC(), TfidfVectorizer()))\n",
    "models.append(('SVM Vetor', SVC(), CountVectorizer(analyzer='word')))\n",
    "\n",
    "print('Tweets tratados:')\n",
    "for name, model, vector in models:\n",
    "    text_counts = vector.fit_transform(df_classificacao['text_token'])\n",
    "    x_train,x_test,y_train,y_test=train_test_split(text_counts,df_classificacao['topic_class'],test_size=0.3,random_state=1)\n",
    "    cv_results = cross_val_score(model, x_train, y_train, cv=cv, scoring=scoring)\n",
    "    results.append(cv_results)\n",
    "    names.append(name)\n",
    "    msg = \"%s: %f (%f)\" % (name, cv_results.mean(), cv_results.std())\n",
    "    print(msg)\n",
    "\n",
    "print()\n",
    "print('Tweets sem tratamento:')\n",
    "for name, model, vector in models:\n",
    "    text_counts = vector.fit_transform(df_classificacao['text_process'])\n",
    "    x_train,x_test,y_train,y_test=train_test_split(text_counts,df_classificacao['topic_class'],test_size=0.3,random_state=1)\n",
    "    cv_results = cross_val_score(model, x_train, y_train, cv=cv, scoring=scoring)\n",
    "    results.append(cv_results)\n",
    "    names.append(name)\n",
    "    msg = \"%s: %f (%f)\" % (name, cv_results.mean(), cv_results.std())\n",
    "    print(msg)"
   ]
  },
  {
   "cell_type": "code",
   "execution_count": 35,
   "metadata": {},
   "outputs": [],
   "source": [
    "# Regressão Logística - Sem tratamento nos tweets\n",
    "x_train,x_test,y_train,y_test=train_test_split(df_classificacao['text_process'],df_classificacao['topic_class'],test_size=0.3,random_state=1)\n",
    "text_clf = Pipeline([('vect', CountVectorizer(analyzer='word')),('tfidf', TfidfTransformer()),('clf', LogisticRegression())])\n",
    "\n",
    "# Auto-tuning\n",
    "parameters = {\n",
    "    'vect__ngram_range': [(1, 1), (1, 2), (1, 3)],\n",
    "    'tfidf__use_idf': (True, False),\n",
    "    'clf__C': np.arange(0, 200, 20), \n",
    "    'clf__penalty': ['l1', 'l2', None],\n",
    "    'clf__solver': ['newton-cg', 'lbfgs', 'liblinear']\n",
    " }\n",
    "gs_clf = GridSearchCV(text_clf, param_grid=parameters, n_jobs=-1, cv=cv)\n",
    "gs_clf.fit(x_train,y_train) \n",
    "\n",
    "gs_predicted = gs_clf.predict(x_test)\n",
    "rl_tunned = metricas(y_test,gs_predicted)\n",
    "print('Métricas:')\n",
    "print(rl_tunned)\n",
    "\n",
    "print('Melhores parâmetros:')\n",
    "print(gs_clf.best_params_)"
   ]
  },
  {
   "cell_type": "code",
   "execution_count": null,
   "metadata": {},
   "outputs": [],
   "source": [
    "# Regressão Logística - Com tratamento nos tweets\n",
    "x_train,x_test,y_train,y_test=train_test_split(df_classificacao['text_token'],df_classificacao['topic_class'],test_size=0.3,random_state=1)\n",
    "text_clf = Pipeline([('vect', CountVectorizer(analyzer='word')),('tfidf', TfidfTransformer()),('clf', LogisticRegression())])\n",
    "\n",
    "# Auto-tuning\n",
    "parameters = {\n",
    "    'vect__ngram_range': [(1, 1), (1, 2), (1, 3)],\n",
    "    'tfidf__use_idf': (True, False),\n",
    "    'clf__C': np.arange(0, 200, 20),, \n",
    "    'clf__penalty': ['l1', 'l2', None],\n",
    "    'clf__solver': ['newton-cg', 'lbfgs', 'liblinear']\n",
    " }\n",
    "gs_clf = GridSearchCV(text_clf, param_grid=parameters, n_jobs=-1, cv=cv)\n",
    "gs_clf.fit(x_train,y_train) \n",
    "      \n",
    "gs_predicted = gs_clf.predict(x_test)\n",
    "rl_tunned = metricas(y_test,gs_predicted)\n",
    "print('Métricas:')\n",
    "print(rl_tunned)\n",
    "\n",
    "print('Melhores parâmetros:')\n",
    "print(gs_clf.best_params_)"
   ]
  },
  {
   "cell_type": "code",
   "execution_count": 18,
   "metadata": {},
   "outputs": [
    {
     "name": "stdout",
     "output_type": "stream",
     "text": [
      "Métricas:\n",
      "{'acc': 0.6631578947368421, 'mcc': 0.5142566534341729, 'r': 0.4744175084175084, 'p': 0.5031261000397433, 'f1': 0.45566646175250713}\n",
      "Melhores parâmetros:\n",
      "{'clf__alpha': 0.05, 'clf__fit_prior': True, 'tfidf__use_idf': False, 'vect__ngram_range': (1, 1)}\n"
     ]
    }
   ],
   "source": [
    "import warnings\n",
    "warnings.filterwarnings(\"ignore\")\n",
    "# Naive Bayes - Sem tratamento nos tweets\n",
    "x_train,x_test,y_train,y_test=train_test_split(df_classificacao['text_process'],df_classificacao['topic_class'],test_size=0.3,random_state=1)\n",
    "text_clf = Pipeline([('vect', CountVectorizer()),('tfidf', TfidfTransformer()),('clf', MultinomialNB())])\n",
    "\n",
    "# Auto-tuning\n",
    "parameters = {'vect__ngram_range': [(1, 1), (1, 2), (1, 3)],\n",
    "              'tfidf__use_idf': (True, False),\n",
    "              'clf__fit_prior': (True, False),\n",
    "              'clf__alpha': np.arange(0, 2, 0.05)}\n",
    "gs_clf = GridSearchCV(text_clf, parameters, n_jobs=-1, cv=cv)\n",
    "gs_clf.fit(x_train,y_train) \n",
    "\n",
    "gs_predicted = gs_clf.predict(x_test)\n",
    "nb_tunned = metricas(y_test,gs_predicted)\n",
    "print('Métricas:')\n",
    "print(nb_tunned)\n",
    "\n",
    "print('Melhores parâmetros:')\n",
    "print(gs_clf.best_params_)"
   ]
  },
  {
   "cell_type": "code",
   "execution_count": 19,
   "metadata": {},
   "outputs": [
    {
     "name": "stdout",
     "output_type": "stream",
     "text": [
      "Métricas:\n",
      "{'acc': 0.6684210526315789, 'mcc': 0.5236956541594984, 'r': 0.4797800224466891, 'p': 0.5298901098901099, 'f1': 0.46821578204710734}\n",
      "Melhores parâmetros:\n",
      "{'clf__alpha': 0.2, 'clf__fit_prior': True, 'tfidf__use_idf': False, 'vect__ngram_range': (1, 2)}\n"
     ]
    }
   ],
   "source": [
    "# Naive Bayes - Com tratamento nos tweets\n",
    "x_train,x_test,y_train,y_test=train_test_split(df_classificacao['text_token'],df_classificacao['topic_class'],test_size=0.3,random_state=1)\n",
    "text_clf = Pipeline([('vect', CountVectorizer()),('tfidf', TfidfTransformer()),('clf', MultinomialNB())])\n",
    "\n",
    "# Auto-tuning\n",
    "parameters = {'vect__ngram_range': [(1, 1), (1, 2), (1, 3)],\n",
    "              'tfidf__use_idf': (True, False),\n",
    "              'clf__fit_prior': (True, False),\n",
    "              'clf__alpha':   np.arange(0, 2, 0.05)}\n",
    "gs_clf = GridSearchCV(text_clf, parameters, n_jobs=-1, cv=cv)\n",
    "gs_clf.fit(x_train,y_train) \n",
    "\n",
    "gs_predicted = gs_clf.predict(x_test)\n",
    "nb_tunned = metricas(y_test,gs_predicted)\n",
    "print('Métricas:')\n",
    "print(nb_tunned)\n",
    "\n",
    "print('Melhores parâmetros:')\n",
    "print(gs_clf.best_params_)"
   ]
  }
 ],
 "metadata": {
  "kernelspec": {
   "display_name": "Python 3.8.5 32-bit",
   "language": "python",
   "name": "python3"
  },
  "language_info": {
   "codemirror_mode": {
    "name": "ipython",
    "version": 3
   },
   "file_extension": ".py",
   "mimetype": "text/x-python",
   "name": "python",
   "nbconvert_exporter": "python",
   "pygments_lexer": "ipython3",
   "version": "3.8.5"
  },
  "orig_nbformat": 4,
  "vscode": {
   "interpreter": {
    "hash": "9ac3605eb76ca38379edd5b08d79f63b317170a4db19b24117b8e914c73854a6"
   }
  }
 },
 "nbformat": 4,
 "nbformat_minor": 2
}
